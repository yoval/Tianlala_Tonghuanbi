{
 "cells": [
  {
   "cell_type": "code",
   "execution_count": 1,
   "id": "c212939e",
   "metadata": {},
   "outputs": [
    {
     "name": "stdout",
     "output_type": "stream",
     "text": [
      "已删除C:\\Users\\admin\\OneDrive\\甜啦啦\\甜啦啦代码\\同环比代码\\同环比分表_2023-05-16.xlsx\n",
      "已删除C:\\Users\\admin\\OneDrive\\甜啦啦\\甜啦啦代码\\同环比代码\\大区省区域经理分表输出.xlsx\n",
      "已删除C:\\Users\\admin\\OneDrive\\甜啦啦\\甜啦啦代码\\同环比代码\\大区省区域经理分表输出_2023-05-16.xlsx\n"
     ]
    }
   ],
   "source": [
    "import os\n",
    "import glob\n",
    "\n",
    "# 获取当前目录路径\n",
    "current_dir = os.getcwd()\n",
    "\n",
    "# 获取当前目录下所有 .xlsx 文件的文件名列表\n",
    "xlsx_files = glob.glob(os.path.join(current_dir, '*.xlsx'))\n",
    "\n",
    "# 遍历文件名列表并删除文件\n",
    "for file in xlsx_files:\n",
    "    os.remove(file)\n",
    "    print('已删除%s'%file)\n"
   ]
  },
  {
   "cell_type": "code",
   "execution_count": null,
   "id": "e7cf5298",
   "metadata": {},
   "outputs": [],
   "source": []
  }
 ],
 "metadata": {
  "kernelspec": {
   "display_name": "Python 3 (ipykernel)",
   "language": "python",
   "name": "python3"
  },
  "language_info": {
   "codemirror_mode": {
    "name": "ipython",
    "version": 3
   },
   "file_extension": ".py",
   "mimetype": "text/x-python",
   "name": "python",
   "nbconvert_exporter": "python",
   "pygments_lexer": "ipython3",
   "version": "3.9.13"
  }
 },
 "nbformat": 4,
 "nbformat_minor": 5
}

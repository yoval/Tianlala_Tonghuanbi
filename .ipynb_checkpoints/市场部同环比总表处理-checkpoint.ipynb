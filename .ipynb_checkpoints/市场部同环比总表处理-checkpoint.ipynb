{
 "cells": [
  {
   "cell_type": "code",
   "execution_count": 1,
   "id": "b096a086",
   "metadata": {},
   "outputs": [],
   "source": [
    "import pandas as pd\n",
    "import numpy as np"
   ]
  },
  {
   "cell_type": "code",
   "execution_count": 2,
   "id": "7701fa44",
   "metadata": {},
   "outputs": [],
   "source": [
    "import time\n",
    "now = time.strftime('%Y-%m-%d')"
   ]
  },
  {
   "cell_type": "code",
   "execution_count": 3,
   "id": "c7bc76d3",
   "metadata": {},
   "outputs": [],
   "source": [
    "fliePath = r'C:\\Users\\admin\\OneDrive\\甜啦啦\\周月报\\2023年05月第1&2周\\汇总表2023.5.1~5.14.xlsx'"
   ]
  },
  {
   "cell_type": "markdown",
   "id": "a2d97427",
   "metadata": {},
   "source": [
    "以下通过总表制作同环比分表"
   ]
  },
  {
   "cell_type": "code",
   "execution_count": 4,
   "id": "40ea4a67",
   "metadata": {},
   "outputs": [],
   "source": [
    "df_zongbiao = pd.read_excel(fliePath,sheet_name=\"总表\",header = 3)\n",
    "#df_zongbiao[[\"大区经理\", \"省经理\",\"区域经理\"]] = df_zongbiao[[\"大区经理\", \"省经理\",\"区域经理\"]].replace(np.nan, \"无\")\n",
    "df_zongbiao[[\"大区经理\", \"省经理\",\"区域经理\"]] = df_zongbiao[[\"大区经理\", \"省经理\",\"区域经理\"]].replace(np.nan, \"错误，请提醒我重做\")"
   ]
  },
  {
   "cell_type": "code",
   "execution_count": 5,
   "id": "83071b4c",
   "metadata": {},
   "outputs": [],
   "source": [
    "def Tonghuanbi(a,b):\n",
    "    c = (a-b)/b\n",
    "    return c"
   ]
  },
  {
   "cell_type": "markdown",
   "id": "dd49c435",
   "metadata": {},
   "source": [
    "全量店铺-同比 ↓"
   ]
  },
  {
   "cell_type": "code",
   "execution_count": 6,
   "id": "3e8c9ff5",
   "metadata": {
    "scrolled": true
   },
   "outputs": [],
   "source": [
    "#大区经理-全量店铺-同比\n",
    "values = ['本期是否营业','同比期是否营业','本期实收金额','同比期实收金额','本期堂食实收','同比期堂食实收',\n",
    "                                                '本期外卖实收','同比期外卖实收','本期自提实收','同比期自提实收']\n",
    "df_daqu_quanliang = df_zongbiao.pivot_table(index=['大区经理'],values = values,aggfunc=np.sum)"
   ]
  },
  {
   "cell_type": "code",
   "execution_count": 7,
   "id": "5dec33cd",
   "metadata": {},
   "outputs": [],
   "source": [
    "df_daqu_quanliang['店铺增减'] = df_daqu_quanliang['本期是否营业']- df_daqu_quanliang['同比期是否营业']\n",
    "#实收\n",
    "df_daqu_quanliang['实收同比'] = Tonghuanbi(df_daqu_quanliang['本期实收金额'] ,df_daqu_quanliang['同比期实收金额'])\n",
    "df_daqu_quanliang.sort_values(\"实收同比\",inplace=True,ascending=False) #排序\n",
    "#堂食实收\n",
    "df_daqu_quanliang['堂食实收同比'] = Tonghuanbi(df_daqu_quanliang['本期堂食实收'] ,df_daqu_quanliang['同比期堂食实收'])\n",
    "#外卖实收\n",
    "df_daqu_quanliang['外卖实收同比'] = Tonghuanbi(df_daqu_quanliang['本期外卖实收'] ,df_daqu_quanliang['同比期外卖实收'])\n",
    "#外卖实收\n",
    "df_daqu_quanliang['自提实收同比'] = Tonghuanbi(df_daqu_quanliang['本期自提实收'] ,df_daqu_quanliang['同比期自提实收'])"
   ]
  },
  {
   "cell_type": "code",
   "execution_count": 8,
   "id": "5f374f9a",
   "metadata": {},
   "outputs": [],
   "source": [
    "values = ['本期是否营业','同比期是否营业','店铺增减','本期实收金额','同比期实收金额','实收同比','本期堂食实收','同比期堂食实收',\n",
    "          '堂食实收同比','本期外卖实收','同比期外卖实收','外卖实收同比','本期自提实收','同比期自提实收','自提实收同比']\n",
    "df_daqu_quanliang = df_daqu_quanliang.reindex(columns=values)\n",
    "df_daqu_quanliang.rename(columns={'本期是否营业': '本期店铺数','同比期是否营业': '同比期店铺数'}, inplace=True)"
   ]
  },
  {
   "cell_type": "code",
   "execution_count": 9,
   "id": "584b7ed2",
   "metadata": {},
   "outputs": [],
   "source": [
    "total = df_daqu_quanliang[['本期店铺数', '同比期店铺数','店铺增减','本期实收金额','同比期实收金额',\n",
    "            '本期堂食实收','同比期堂食实收','本期外卖实收','同比期外卖实收','本期自提实收','同比期自提实收']].sum()\n",
    "total['实收同比'] = Tonghuanbi(total['本期实收金额'] , total['同比期实收金额'])\n",
    "\n",
    "total['堂食实收同比'] = Tonghuanbi(total['本期堂食实收'] , total['同比期堂食实收'])\n",
    "total['外卖实收同比'] = Tonghuanbi(total['本期外卖实收'] , total['同比期外卖实收'])\n",
    "total['自提实收同比'] = Tonghuanbi(total['本期自提实收'] , total['同比期自提实收'])\n",
    "total_df = pd.DataFrame(total).T.rename(index={0: '合计'})\n",
    "df_daqu_quanliang = pd.concat([df_daqu_quanliang, total_df])"
   ]
  },
  {
   "cell_type": "code",
   "execution_count": 10,
   "id": "0c079c86",
   "metadata": {},
   "outputs": [],
   "source": [
    "df_daqu_quanliang.to_excel('同环比分表_%s.xlsx'%now, sheet_name='大区经理全量店铺同比')"
   ]
  },
  {
   "cell_type": "code",
   "execution_count": 11,
   "id": "93e3eb44",
   "metadata": {},
   "outputs": [],
   "source": [
    "#省经理-全量店铺-同比\n",
    "values = ['本期是否营业','同比期是否营业','本期实收金额','同比期实收金额','本期堂食实收','同比期堂食实收',\n",
    "                                                '本期外卖实收','同比期外卖实收','本期自提实收','同比期自提实收']\n",
    "df_daqu_quanliang = df_zongbiao.pivot_table(index=['省经理'],values = values,aggfunc=np.sum)"
   ]
  },
  {
   "cell_type": "code",
   "execution_count": 12,
   "id": "2c5f1c4d",
   "metadata": {},
   "outputs": [],
   "source": [
    "df_daqu_quanliang['店铺增减'] = df_daqu_quanliang['本期是否营业']-df_daqu_quanliang['同比期是否营业']\n",
    "#实收\n",
    "df_daqu_quanliang['实收同比'] = (df_daqu_quanliang['本期实收金额'] - df_daqu_quanliang['同比期实收金额'])/df_daqu_quanliang['同比期实收金额']\n",
    "df_daqu_quanliang.sort_values(\"实收同比\",inplace=True,ascending=False) #排序\n",
    "#堂食实收\n",
    "df_daqu_quanliang['堂食实收同比'] = (df_daqu_quanliang['本期堂食实收'] - df_daqu_quanliang['同比期堂食实收'])/df_daqu_quanliang['同比期堂食实收']\n",
    "#外卖实收\n",
    "df_daqu_quanliang['外卖实收同比'] = (df_daqu_quanliang['本期外卖实收'] - df_daqu_quanliang['同比期外卖实收'])/df_daqu_quanliang['同比期外卖实收']\n",
    "#外卖实收\n",
    "df_daqu_quanliang['自提实收同比'] = (df_daqu_quanliang['本期自提实收'] - df_daqu_quanliang['同比期自提实收'])/df_daqu_quanliang['同比期自提实收']"
   ]
  },
  {
   "cell_type": "code",
   "execution_count": 13,
   "id": "0191f184",
   "metadata": {},
   "outputs": [],
   "source": [
    "values = ['本期是否营业','同比期是否营业','店铺增减','本期实收金额','同比期实收金额','实收同比','本期堂食实收','同比期堂食实收',\n",
    "          '堂食实收同比','本期外卖实收','同比期外卖实收','外卖实收同比','本期自提实收','同比期自提实收','自提实收同比']\n",
    "df_daqu_quanliang = df_daqu_quanliang.reindex(columns=values)\n",
    "df_daqu_quanliang.rename(columns={'本期是否营业': '本期店铺数','同比期是否营业': '同比期店铺数'}, inplace=True)\n"
   ]
  },
  {
   "cell_type": "code",
   "execution_count": 14,
   "id": "d4941c0a",
   "metadata": {},
   "outputs": [],
   "source": [
    "total = df_daqu_quanliang[['本期店铺数', '同比期店铺数','店铺增减','本期实收金额','同比期实收金额',\n",
    "            '本期堂食实收','同比期堂食实收','本期外卖实收','同比期外卖实收','本期自提实收','同比期自提实收']].sum()\n",
    "total['实收同比'] = Tonghuanbi(total['本期实收金额'] , total['同比期实收金额'])\n",
    "\n",
    "total['堂食实收同比'] = Tonghuanbi(total['本期堂食实收'] , total['同比期堂食实收'])\n",
    "total['外卖实收同比'] = Tonghuanbi(total['本期外卖实收'] , total['同比期外卖实收'])\n",
    "total['自提实收同比'] = Tonghuanbi(total['本期自提实收'] , total['同比期自提实收'])\n",
    "total_df = pd.DataFrame(total).T.rename(index={0: '合计'})\n",
    "df_daqu_quanliang = pd.concat([df_daqu_quanliang, total_df])"
   ]
  },
  {
   "cell_type": "code",
   "execution_count": 15,
   "id": "97ef6511",
   "metadata": {},
   "outputs": [],
   "source": [
    "with pd.ExcelWriter('同环比分表_%s.xlsx'%now, mode='a',engine=\"openpyxl\") as writer:\n",
    "    df_daqu_quanliang.to_excel(writer, sheet_name='省经理全量店铺同比')"
   ]
  },
  {
   "cell_type": "code",
   "execution_count": 16,
   "id": "d021238f",
   "metadata": {},
   "outputs": [],
   "source": [
    "#区域经理-全量店铺-同比\n",
    "values = ['本期是否营业','同比期是否营业','本期实收金额','同比期实收金额','本期堂食实收','同比期堂食实收',\n",
    "                                                '本期外卖实收','同比期外卖实收','本期自提实收','同比期自提实收']\n",
    "df_daqu_quanliang = df_zongbiao.pivot_table(index=['区域经理'],values = values,aggfunc=np.sum)"
   ]
  },
  {
   "cell_type": "code",
   "execution_count": 17,
   "id": "dff563fd",
   "metadata": {},
   "outputs": [],
   "source": [
    "df_daqu_quanliang['店铺增减'] = df_daqu_quanliang['本期是否营业']-df_daqu_quanliang['同比期是否营业']\n",
    "#实收\n",
    "df_daqu_quanliang['实收同比'] = (df_daqu_quanliang['本期实收金额'] - df_daqu_quanliang['同比期实收金额'])/df_daqu_quanliang['同比期实收金额']\n",
    "df_daqu_quanliang.sort_values(\"实收同比\",inplace=True,ascending=False) #排序\n",
    "#堂食实收\n",
    "df_daqu_quanliang['堂食实收同比'] = (df_daqu_quanliang['本期堂食实收'] - df_daqu_quanliang['同比期堂食实收'])/df_daqu_quanliang['同比期堂食实收']\n",
    "#外卖实收\n",
    "df_daqu_quanliang['外卖实收同比'] = (df_daqu_quanliang['本期外卖实收'] - df_daqu_quanliang['同比期外卖实收'])/df_daqu_quanliang['同比期外卖实收']\n",
    "#外卖实收\n",
    "df_daqu_quanliang['自提实收同比'] = (df_daqu_quanliang['本期自提实收'] - df_daqu_quanliang['同比期自提实收'])/df_daqu_quanliang['同比期自提实收']"
   ]
  },
  {
   "cell_type": "code",
   "execution_count": 18,
   "id": "e1c8d33f",
   "metadata": {},
   "outputs": [],
   "source": [
    "values = ['本期是否营业','同比期是否营业','店铺增减','本期实收金额','同比期实收金额','实收同比','本期堂食实收','同比期堂食实收',\n",
    "          '堂食实收同比','本期外卖实收','同比期外卖实收','外卖实收同比','本期自提实收','同比期自提实收','自提实收同比']\n",
    "df_daqu_quanliang = df_daqu_quanliang.reindex(columns=values)\n",
    "df_daqu_quanliang.rename(columns={'本期是否营业': '本期店铺数','同比期是否营业': '同比期店铺数'}, inplace=True)"
   ]
  },
  {
   "cell_type": "code",
   "execution_count": 19,
   "id": "c3e99837",
   "metadata": {},
   "outputs": [],
   "source": [
    "total = df_daqu_quanliang[['本期店铺数', '同比期店铺数','店铺增减','本期实收金额','同比期实收金额',\n",
    "            '本期堂食实收','同比期堂食实收','本期外卖实收','同比期外卖实收','本期自提实收','同比期自提实收']].sum()\n",
    "total['实收同比'] = Tonghuanbi(total['本期实收金额'] , total['同比期实收金额'])\n",
    "\n",
    "total['堂食实收同比'] = Tonghuanbi(total['本期堂食实收'] , total['同比期堂食实收'])\n",
    "total['外卖实收同比'] = Tonghuanbi(total['本期外卖实收'] , total['同比期外卖实收'])\n",
    "total['自提实收同比'] = Tonghuanbi(total['本期自提实收'] , total['同比期自提实收'])\n",
    "total_df = pd.DataFrame(total).T.rename(index={0: '合计'})\n",
    "df_daqu_quanliang = pd.concat([df_daqu_quanliang, total_df])"
   ]
  },
  {
   "cell_type": "code",
   "execution_count": 20,
   "id": "8c9c3ebf",
   "metadata": {},
   "outputs": [],
   "source": [
    "with pd.ExcelWriter('同环比分表_%s.xlsx'%now, mode='a',engine=\"openpyxl\") as writer:\n",
    "    df_daqu_quanliang.to_excel(writer, sheet_name='区域经理全量店铺同比')"
   ]
  },
  {
   "cell_type": "markdown",
   "id": "5da62822",
   "metadata": {},
   "source": [
    "全量店铺-环比 ↓"
   ]
  },
  {
   "cell_type": "code",
   "execution_count": 21,
   "id": "3e63edc5",
   "metadata": {},
   "outputs": [],
   "source": [
    "#大区经理-全量店铺-环比\n",
    "values = ['本期是否营业','环比期是否营业','本期实收金额','环比期实收金额','本期堂食实收','环比期堂食实收',\n",
    "                                                '本期外卖实收','环比期外卖实收','本期自提实收','环比期自提实收']\n",
    "          \n",
    "df_huanbi = df_zongbiao.pivot_table(index=['大区经理'],values = values,aggfunc=np.sum)"
   ]
  },
  {
   "cell_type": "code",
   "execution_count": 22,
   "id": "e8b39e98",
   "metadata": {},
   "outputs": [],
   "source": [
    "df_huanbi['店铺增减'] = df_huanbi['本期是否营业']- df_huanbi['环比期是否营业']\n",
    "#实收\n",
    "df_huanbi['实收环比'] = (df_huanbi['本期实收金额'] - df_huanbi['环比期实收金额'])/df_huanbi['环比期实收金额']\n",
    "df_huanbi.sort_values(\"实收环比\",inplace=True,ascending=False) #排序\n",
    "#堂食实收\n",
    "df_huanbi['堂食实收环比'] = (df_huanbi['本期堂食实收'] - df_huanbi['环比期堂食实收'])/df_huanbi['环比期堂食实收']\n",
    "#外卖实收\n",
    "df_huanbi['外卖实收环比'] = (df_huanbi['本期外卖实收'] - df_huanbi['环比期外卖实收'])/df_huanbi['环比期外卖实收']\n",
    "#外卖实收\n",
    "df_huanbi['自提实收环比'] = (df_huanbi['本期自提实收'] - df_huanbi['环比期自提实收'])/df_huanbi['环比期自提实收']"
   ]
  },
  {
   "cell_type": "code",
   "execution_count": 23,
   "id": "40b8a87d",
   "metadata": {
    "scrolled": true
   },
   "outputs": [],
   "source": [
    "values = ['本期是否营业','环比期是否营业','店铺增减','本期实收金额','环比期实收金额','实收环比','本期堂食实收','环比期堂食实收',\n",
    "          '堂食实收环比','本期外卖实收','环比期外卖实收','外卖实收环比','本期自提实收','环比期自提实收','自提实收环比']\n",
    "df_huanbi = df_huanbi.reindex(columns=values)\n",
    "df_huanbi.rename(columns={'本期是否营业': '本期店铺数','环比期是否营业': '环比期店铺数'}, inplace=True)\n",
    "\n"
   ]
  },
  {
   "cell_type": "code",
   "execution_count": 24,
   "id": "193be4c6",
   "metadata": {},
   "outputs": [],
   "source": [
    "total = df_huanbi[['本期店铺数', '环比期店铺数','店铺增减','本期实收金额','环比期实收金额',\n",
    "            '本期堂食实收','环比期堂食实收','本期外卖实收','环比期外卖实收','本期自提实收','环比期自提实收']].sum()\n",
    "total['实收环比'] = Tonghuanbi(total['本期实收金额'] , total['环比期实收金额'])\n",
    "\n",
    "total['堂食实收环比'] = Tonghuanbi(total['本期堂食实收'] , total['环比期堂食实收'])\n",
    "total['外卖实收环比'] = Tonghuanbi(total['本期外卖实收'] , total['环比期外卖实收'])\n",
    "total['自提实收环比'] = Tonghuanbi(total['本期自提实收'] , total['环比期自提实收'])\n",
    "total_df = pd.DataFrame(total).T.rename(index={0: '合计'})\n",
    "df_huanbi = pd.concat([df_huanbi, total_df])"
   ]
  },
  {
   "cell_type": "code",
   "execution_count": 25,
   "id": "d643db72",
   "metadata": {},
   "outputs": [],
   "source": [
    "with pd.ExcelWriter('同环比分表_%s.xlsx'%now, mode='a',engine=\"openpyxl\") as writer:\n",
    "    df_huanbi.to_excel(writer, sheet_name='大区经理全量店铺环比')"
   ]
  },
  {
   "cell_type": "code",
   "execution_count": 26,
   "id": "ee4ec374",
   "metadata": {},
   "outputs": [],
   "source": [
    "#省经理-全量店铺-环比\n",
    "values = ['本期是否营业','环比期是否营业','本期实收金额','环比期实收金额','本期堂食实收','环比期堂食实收',\n",
    "                                                '本期外卖实收','环比期外卖实收','本期自提实收','环比期自提实收']\n",
    "          \n",
    "df_huanbi = df_zongbiao.pivot_table(index=['省经理'],values = values,aggfunc=np.sum)"
   ]
  },
  {
   "cell_type": "code",
   "execution_count": 27,
   "id": "62721f02",
   "metadata": {},
   "outputs": [],
   "source": [
    "df_huanbi['店铺增减'] = df_huanbi['本期是否营业']- df_huanbi['环比期是否营业']\n",
    "#实收\n",
    "df_huanbi['实收环比'] = (df_huanbi['本期实收金额'] - df_huanbi['环比期实收金额'])/df_huanbi['环比期实收金额']\n",
    "df_huanbi.sort_values(\"实收环比\",inplace=True,ascending=False) #排序\n",
    "#堂食实收\n",
    "df_huanbi['堂食实收环比'] = (df_huanbi['本期堂食实收'] - df_huanbi['环比期堂食实收'])/df_huanbi['环比期堂食实收']\n",
    "#外卖实收\n",
    "df_huanbi['外卖实收环比'] = (df_huanbi['本期外卖实收'] - df_huanbi['环比期外卖实收'])/df_huanbi['环比期外卖实收']\n",
    "#外卖实收\n",
    "df_huanbi['自提实收环比'] = (df_huanbi['本期自提实收'] - df_huanbi['环比期自提实收'])/df_huanbi['环比期自提实收']"
   ]
  },
  {
   "cell_type": "code",
   "execution_count": 28,
   "id": "9a3734d3",
   "metadata": {},
   "outputs": [],
   "source": [
    "values = ['本期是否营业','环比期是否营业','店铺增减','本期实收金额','环比期实收金额','实收环比','本期堂食实收','环比期堂食实收',\n",
    "          '堂食实收环比','本期外卖实收','环比期外卖实收','外卖实收环比','本期自提实收','环比期自提实收','自提实收环比']\n",
    "df_huanbi = df_huanbi.reindex(columns=values)\n",
    "df_huanbi.rename(columns={'本期是否营业': '本期店铺数','环比期是否营业': '环比期店铺数'}, inplace=True)\n",
    "\n"
   ]
  },
  {
   "cell_type": "code",
   "execution_count": 29,
   "id": "979cdd02",
   "metadata": {},
   "outputs": [],
   "source": [
    "total = df_huanbi[['本期店铺数', '环比期店铺数','店铺增减','本期实收金额','环比期实收金额',\n",
    "            '本期堂食实收','环比期堂食实收','本期外卖实收','环比期外卖实收','本期自提实收','环比期自提实收']].sum()\n",
    "total['实收环比'] = Tonghuanbi(total['本期实收金额'] , total['环比期实收金额'])\n",
    "\n",
    "total['堂食实收环比'] = Tonghuanbi(total['本期堂食实收'] , total['环比期堂食实收'])\n",
    "total['外卖实收环比'] = Tonghuanbi(total['本期外卖实收'] , total['环比期外卖实收'])\n",
    "total['自提实收环比'] = Tonghuanbi(total['本期自提实收'] , total['环比期自提实收'])\n",
    "total_df = pd.DataFrame(total).T.rename(index={0: '合计'})\n",
    "df_huanbi = pd.concat([df_huanbi, total_df])"
   ]
  },
  {
   "cell_type": "code",
   "execution_count": 30,
   "id": "276f26f5",
   "metadata": {},
   "outputs": [],
   "source": [
    "with pd.ExcelWriter('同环比分表_%s.xlsx'%now, mode='a',engine=\"openpyxl\") as writer:\n",
    "    df_huanbi.to_excel(writer, sheet_name='省经理全量店铺环比')"
   ]
  },
  {
   "cell_type": "code",
   "execution_count": 31,
   "id": "22581f51",
   "metadata": {},
   "outputs": [],
   "source": [
    "#区域经理-全量店铺-环比\n",
    "values = ['本期是否营业','环比期是否营业','本期实收金额','环比期实收金额','本期堂食实收','环比期堂食实收',\n",
    "                                                '本期外卖实收','环比期外卖实收','本期自提实收','环比期自提实收']\n",
    "          \n",
    "df_huanbi = df_zongbiao.pivot_table(index=['区域经理'],values = values,aggfunc=np.sum)"
   ]
  },
  {
   "cell_type": "code",
   "execution_count": 32,
   "id": "4479d7bb",
   "metadata": {},
   "outputs": [],
   "source": [
    "df_huanbi['店铺增减'] = df_huanbi['本期是否营业']- df_huanbi['环比期是否营业']\n",
    "#实收\n",
    "df_huanbi['实收环比'] = (df_huanbi['本期实收金额'] - df_huanbi['环比期实收金额'])/df_huanbi['环比期实收金额']\n",
    "df_huanbi.sort_values(\"实收环比\",inplace=True,ascending=False) #排序\n",
    "#堂食实收\n",
    "df_huanbi['堂食实收环比'] = (df_huanbi['本期堂食实收'] - df_huanbi['环比期堂食实收'])/df_huanbi['环比期堂食实收']\n",
    "#外卖实收\n",
    "df_huanbi['外卖实收环比'] = (df_huanbi['本期外卖实收'] - df_huanbi['环比期外卖实收'])/df_huanbi['环比期外卖实收']\n",
    "#外卖实收\n",
    "df_huanbi['自提实收环比'] = (df_huanbi['本期自提实收'] - df_huanbi['环比期自提实收'])/df_huanbi['环比期自提实收']"
   ]
  },
  {
   "cell_type": "code",
   "execution_count": 33,
   "id": "d52a1d50",
   "metadata": {},
   "outputs": [],
   "source": [
    "values = ['本期是否营业','环比期是否营业','店铺增减','本期实收金额','环比期实收金额','实收环比','本期堂食实收','环比期堂食实收',\n",
    "          '堂食实收环比','本期外卖实收','环比期外卖实收','外卖实收环比','本期自提实收','环比期自提实收','自提实收环比']\n",
    "df_huanbi = df_huanbi.reindex(columns=values)\n",
    "df_huanbi.rename(columns={'本期是否营业': '本期店铺数','环比期是否营业': '环比期店铺数'}, inplace=True)\n",
    "\n"
   ]
  },
  {
   "cell_type": "code",
   "execution_count": 34,
   "id": "24f83ad6",
   "metadata": {},
   "outputs": [],
   "source": [
    "total = df_huanbi[['本期店铺数', '环比期店铺数','店铺增减','本期实收金额','环比期实收金额',\n",
    "            '本期堂食实收','环比期堂食实收','本期外卖实收','环比期外卖实收','本期自提实收','环比期自提实收']].sum()\n",
    "total['实收环比'] = Tonghuanbi(total['本期实收金额'] , total['环比期实收金额'])\n",
    "\n",
    "total['堂食实收环比'] = Tonghuanbi(total['本期堂食实收'] , total['环比期堂食实收'])\n",
    "total['外卖实收环比'] = Tonghuanbi(total['本期外卖实收'] , total['环比期外卖实收'])\n",
    "total['自提实收环比'] = Tonghuanbi(total['本期自提实收'] , total['环比期自提实收'])\n",
    "total_df = pd.DataFrame(total).T.rename(index={0: '合计'})\n",
    "df_huanbi = pd.concat([df_huanbi, total_df])"
   ]
  },
  {
   "cell_type": "code",
   "execution_count": 35,
   "id": "2ce81ab5",
   "metadata": {},
   "outputs": [],
   "source": [
    "with pd.ExcelWriter('同环比分表_%s.xlsx'%now, mode='a',engine=\"openpyxl\") as writer:\n",
    "    df_huanbi.to_excel(writer, sheet_name='区域经理全量店铺环比')"
   ]
  },
  {
   "cell_type": "code",
   "execution_count": 36,
   "id": "6affe38a",
   "metadata": {},
   "outputs": [
    {
     "data": {
      "text/html": [
       "<div>\n",
       "<style scoped>\n",
       "    .dataframe tbody tr th:only-of-type {\n",
       "        vertical-align: middle;\n",
       "    }\n",
       "\n",
       "    .dataframe tbody tr th {\n",
       "        vertical-align: top;\n",
       "    }\n",
       "\n",
       "    .dataframe thead th {\n",
       "        text-align: right;\n",
       "    }\n",
       "</style>\n",
       "<table border=\"1\" class=\"dataframe\">\n",
       "  <thead>\n",
       "    <tr style=\"text-align: right;\">\n",
       "      <th></th>\n",
       "      <th>Unnamed: 0</th>\n",
       "      <th>Unnamed: 1</th>\n",
       "      <th>Unnamed: 2</th>\n",
       "      <th>Unnamed: 3</th>\n",
       "      <th>门店ID</th>\n",
       "      <th>门店编号</th>\n",
       "      <th>门店类型</th>\n",
       "      <th>大区经理</th>\n",
       "      <th>省经理</th>\n",
       "      <th>区域经理</th>\n",
       "      <th>...</th>\n",
       "      <th>增长.14</th>\n",
       "      <th>增长%.14</th>\n",
       "      <th>同比期.10</th>\n",
       "      <th>同比增长.14</th>\n",
       "      <th>本期自提实收</th>\n",
       "      <th>环比期自提实收</th>\n",
       "      <th>增长.15</th>\n",
       "      <th>增长%.15</th>\n",
       "      <th>同比期自提实收</th>\n",
       "      <th>同比增长.15</th>\n",
       "    </tr>\n",
       "  </thead>\n",
       "  <tbody>\n",
       "    <tr>\n",
       "      <th>0</th>\n",
       "      <td>9</td>\n",
       "      <td>2023-05-01 - 2023-05-14</td>\n",
       "      <td>2023-04-17 - 2023-04-30</td>\n",
       "      <td>201902261451</td>\n",
       "      <td>76285522</td>\n",
       "      <td>NaN</td>\n",
       "      <td>郭飞</td>\n",
       "      <td>本期未营业</td>\n",
       "      <td>本期未营业</td>\n",
       "      <td>本期未营业</td>\n",
       "      <td>...</td>\n",
       "      <td>0.0</td>\n",
       "      <td>0.0</td>\n",
       "      <td>4660.5</td>\n",
       "      <td>-1.0</td>\n",
       "      <td>0.0</td>\n",
       "      <td>0.0</td>\n",
       "      <td>0.0</td>\n",
       "      <td>0.0</td>\n",
       "      <td>3669.1</td>\n",
       "      <td>-1.0</td>\n",
       "    </tr>\n",
       "  </tbody>\n",
       "</table>\n",
       "<p>1 rows × 122 columns</p>\n",
       "</div>"
      ],
      "text/plain": [
       "   Unnamed: 0               Unnamed: 1               Unnamed: 2    Unnamed: 3  \\\n",
       "0           9  2023-05-01 - 2023-05-14  2023-04-17 - 2023-04-30  201902261451   \n",
       "\n",
       "       门店ID 门店编号 门店类型   大区经理    省经理   区域经理  ... 增长.14 增长%.14  同比期.10 同比增长.14  \\\n",
       "0  76285522  NaN   郭飞  本期未营业  本期未营业  本期未营业  ...   0.0    0.0  4660.5    -1.0   \n",
       "\n",
       "   本期自提实收  环比期自提实收  增长.15  增长%.15  同比期自提实收  同比增长.15  \n",
       "0     0.0      0.0    0.0     0.0   3669.1     -1.0  \n",
       "\n",
       "[1 rows x 122 columns]"
      ]
     },
     "execution_count": 36,
     "metadata": {},
     "output_type": "execute_result"
    }
   ],
   "source": [
    "df_zongbiao.head(1)"
   ]
  },
  {
   "cell_type": "markdown",
   "id": "829e34b8",
   "metadata": {},
   "source": [
    "存量店铺-同比"
   ]
  },
  {
   "cell_type": "code",
   "execution_count": 37,
   "id": "76af5868",
   "metadata": {},
   "outputs": [],
   "source": [
    "#同比期存量店铺\n",
    "df_cunliang = df_zongbiao[(df_zongbiao['本期是否营业']==1)]\n",
    "pd.set_option('display.max_columns', None)"
   ]
  },
  {
   "cell_type": "code",
   "execution_count": 38,
   "id": "80b0d816",
   "metadata": {},
   "outputs": [
    {
     "data": {
      "text/plain": [
       "(4266, 122)"
      ]
     },
     "execution_count": 38,
     "metadata": {},
     "output_type": "execute_result"
    }
   ],
   "source": [
    "df_cunliang.shape"
   ]
  },
  {
   "cell_type": "code",
   "execution_count": 39,
   "id": "6585ebae",
   "metadata": {},
   "outputs": [
    {
     "data": {
      "text/html": [
       "<div>\n",
       "<style scoped>\n",
       "    .dataframe tbody tr th:only-of-type {\n",
       "        vertical-align: middle;\n",
       "    }\n",
       "\n",
       "    .dataframe tbody tr th {\n",
       "        vertical-align: top;\n",
       "    }\n",
       "\n",
       "    .dataframe thead th {\n",
       "        text-align: right;\n",
       "    }\n",
       "</style>\n",
       "<table border=\"1\" class=\"dataframe\">\n",
       "  <thead>\n",
       "    <tr style=\"text-align: right;\">\n",
       "      <th></th>\n",
       "      <th>Unnamed: 0</th>\n",
       "      <th>Unnamed: 1</th>\n",
       "      <th>Unnamed: 2</th>\n",
       "      <th>Unnamed: 3</th>\n",
       "      <th>门店ID</th>\n",
       "      <th>门店编号</th>\n",
       "      <th>门店类型</th>\n",
       "      <th>大区经理</th>\n",
       "      <th>省经理</th>\n",
       "      <th>区域经理</th>\n",
       "      <th>运营状态</th>\n",
       "      <th>是否有收银机</th>\n",
       "      <th>是否为学校店铺</th>\n",
       "      <th>Unnamed: 13</th>\n",
       "      <th>本期营业天数</th>\n",
       "      <th>环比期营业天数</th>\n",
       "      <th>同比期营业天数</th>\n",
       "      <th>本期是否营业</th>\n",
       "      <th>环比期是否营业</th>\n",
       "      <th>同比期是否营业</th>\n",
       "      <th>本期</th>\n",
       "      <th>对比期</th>\n",
       "      <th>同比期</th>\n",
       "      <th>本期.1</th>\n",
       "      <th>对比期.1</th>\n",
       "      <th>同比期.1</th>\n",
       "      <th>本期.2</th>\n",
       "      <th>对比期.2</th>\n",
       "      <th>增长</th>\n",
       "      <th>增长%</th>\n",
       "      <th>同比期.2</th>\n",
       "      <th>同比增长</th>\n",
       "      <th>本期实收金额</th>\n",
       "      <th>环比期实收金额</th>\n",
       "      <th>增长.1</th>\n",
       "      <th>增长%.1</th>\n",
       "      <th>同比期实收金额</th>\n",
       "      <th>同比增长.1</th>\n",
       "      <th>本期.3</th>\n",
       "      <th>对比期.3</th>\n",
       "      <th>增长.2</th>\n",
       "      <th>增长%.2</th>\n",
       "      <th>同比期.3</th>\n",
       "      <th>同比增长.2</th>\n",
       "      <th>本期.4</th>\n",
       "      <th>对比期.4</th>\n",
       "      <th>增长.3</th>\n",
       "      <th>增长%.3</th>\n",
       "      <th>同比期.4</th>\n",
       "      <th>同比增长.3</th>\n",
       "      <th>本期.5</th>\n",
       "      <th>对比期.5</th>\n",
       "      <th>增长.4</th>\n",
       "      <th>增长%.4</th>\n",
       "      <th>同比期.5</th>\n",
       "      <th>同比增长.4</th>\n",
       "      <th>本期.6</th>\n",
       "      <th>对比期.6</th>\n",
       "      <th>增长.5</th>\n",
       "      <th>增长%.5</th>\n",
       "      <th>同比期.6</th>\n",
       "      <th>同比增长.5</th>\n",
       "      <th>本期.7</th>\n",
       "      <th>对比期.7</th>\n",
       "      <th>增长.6</th>\n",
       "      <th>增长%.6</th>\n",
       "      <th>同比期.7</th>\n",
       "      <th>同比增长.6</th>\n",
       "      <th>本期堂食流水</th>\n",
       "      <th>环比期堂食流水</th>\n",
       "      <th>增长.7</th>\n",
       "      <th>增长%.7</th>\n",
       "      <th>同比期.8</th>\n",
       "      <th>同比增长.7</th>\n",
       "      <th>本期堂食实收</th>\n",
       "      <th>环比期堂食实收</th>\n",
       "      <th>增长.8</th>\n",
       "      <th>增长%.8</th>\n",
       "      <th>同比期堂食实收</th>\n",
       "      <th>同比增长.8</th>\n",
       "      <th>本期外卖流水</th>\n",
       "      <th>环比期外卖流水</th>\n",
       "      <th>增长.9</th>\n",
       "      <th>增长%.9</th>\n",
       "      <th>同比期.9</th>\n",
       "      <th>同比增长.9</th>\n",
       "      <th>本期外卖实收</th>\n",
       "      <th>环比期外卖实收</th>\n",
       "      <th>增长.10</th>\n",
       "      <th>增长%.10</th>\n",
       "      <th>同比期外卖实收</th>\n",
       "      <th>同比增长.10</th>\n",
       "      <th>本期美团</th>\n",
       "      <th>环比期美团</th>\n",
       "      <th>增长.11</th>\n",
       "      <th>增长%.11</th>\n",
       "      <th>同比期美团</th>\n",
       "      <th>同比增长.11</th>\n",
       "      <th>本期饿了么</th>\n",
       "      <th>环比期饿了么</th>\n",
       "      <th>增长.12</th>\n",
       "      <th>增长%.12</th>\n",
       "      <th>同比期饿了么</th>\n",
       "      <th>同比增长.12</th>\n",
       "      <th>本期其它</th>\n",
       "      <th>环比期其它</th>\n",
       "      <th>增长.13</th>\n",
       "      <th>增长%.13</th>\n",
       "      <th>同比期其它</th>\n",
       "      <th>同比增长.13</th>\n",
       "      <th>本期自提流水</th>\n",
       "      <th>环比期自提流水</th>\n",
       "      <th>增长.14</th>\n",
       "      <th>增长%.14</th>\n",
       "      <th>同比期.10</th>\n",
       "      <th>同比增长.14</th>\n",
       "      <th>本期自提实收</th>\n",
       "      <th>环比期自提实收</th>\n",
       "      <th>增长.15</th>\n",
       "      <th>增长%.15</th>\n",
       "      <th>同比期自提实收</th>\n",
       "      <th>同比增长.15</th>\n",
       "    </tr>\n",
       "  </thead>\n",
       "  <tbody>\n",
       "    <tr>\n",
       "      <th>1</th>\n",
       "      <td>10</td>\n",
       "      <td>2023-05-01 - 2023-05-14</td>\n",
       "      <td>2023-04-17 - 2023-04-30</td>\n",
       "      <td>201903081422</td>\n",
       "      <td>76288231</td>\n",
       "      <td>TLL01774</td>\n",
       "      <td>郭飞</td>\n",
       "      <td>刘成龙</td>\n",
       "      <td>李何</td>\n",
       "      <td>卢德磊</td>\n",
       "      <td>营业中</td>\n",
       "      <td>是</td>\n",
       "      <td>否</td>\n",
       "      <td>甜啦啦(徐州大黄山工人村店)</td>\n",
       "      <td>14</td>\n",
       "      <td>14</td>\n",
       "      <td>14</td>\n",
       "      <td>1</td>\n",
       "      <td>1</td>\n",
       "      <td>1</td>\n",
       "      <td>0</td>\n",
       "      <td>0</td>\n",
       "      <td>0.0</td>\n",
       "      <td>0</td>\n",
       "      <td>0</td>\n",
       "      <td>0.0</td>\n",
       "      <td>81853.5</td>\n",
       "      <td>63986.5</td>\n",
       "      <td>17867.0</td>\n",
       "      <td>0.2792</td>\n",
       "      <td>76695.1</td>\n",
       "      <td>0.0673</td>\n",
       "      <td>70659.3</td>\n",
       "      <td>54988.94</td>\n",
       "      <td>15670.36</td>\n",
       "      <td>0.285</td>\n",
       "      <td>66876.81</td>\n",
       "      <td>0.0566</td>\n",
       "      <td>11194.2</td>\n",
       "      <td>8997.56</td>\n",
       "      <td>2196.64</td>\n",
       "      <td>0.2441</td>\n",
       "      <td>9818.29</td>\n",
       "      <td>0.1401</td>\n",
       "      <td>6013</td>\n",
       "      <td>4543</td>\n",
       "      <td>1470</td>\n",
       "      <td>0.3236</td>\n",
       "      <td>5630</td>\n",
       "      <td>0.068</td>\n",
       "      <td>6160</td>\n",
       "      <td>4639</td>\n",
       "      <td>1521</td>\n",
       "      <td>0.3279</td>\n",
       "      <td>5747</td>\n",
       "      <td>0.0719</td>\n",
       "      <td>11.75</td>\n",
       "      <td>12.1</td>\n",
       "      <td>-0.35</td>\n",
       "      <td>-0.0292</td>\n",
       "      <td>11.88</td>\n",
       "      <td>-0.0107</td>\n",
       "      <td>11.47</td>\n",
       "      <td>11.85</td>\n",
       "      <td>-0.38</td>\n",
       "      <td>-0.0323</td>\n",
       "      <td>11.64</td>\n",
       "      <td>-0.0143</td>\n",
       "      <td>54381.5</td>\n",
       "      <td>42061.0</td>\n",
       "      <td>12320.5</td>\n",
       "      <td>0.29292</td>\n",
       "      <td>53043.0</td>\n",
       "      <td>0.025234</td>\n",
       "      <td>53660.61</td>\n",
       "      <td>41673.42</td>\n",
       "      <td>11987.19</td>\n",
       "      <td>0.287646</td>\n",
       "      <td>52363.52</td>\n",
       "      <td>1297.09</td>\n",
       "      <td>25849.0</td>\n",
       "      <td>20760.5</td>\n",
       "      <td>5088.5</td>\n",
       "      <td>0.245105</td>\n",
       "      <td>21418.3</td>\n",
       "      <td>0.206865</td>\n",
       "      <td>15459.19</td>\n",
       "      <td>12260.46</td>\n",
       "      <td>3198.73</td>\n",
       "      <td>0.260898</td>\n",
       "      <td>12622.03</td>\n",
       "      <td>0.224778</td>\n",
       "      <td>19915.0</td>\n",
       "      <td>16458.0</td>\n",
       "      <td>3457.0</td>\n",
       "      <td>0.21005</td>\n",
       "      <td>17729.0</td>\n",
       "      <td>0.123301</td>\n",
       "      <td>5934.0</td>\n",
       "      <td>4302.5</td>\n",
       "      <td>1631.5</td>\n",
       "      <td>0.379198</td>\n",
       "      <td>3689.3</td>\n",
       "      <td>0.608435</td>\n",
       "      <td>0.0</td>\n",
       "      <td>0.0</td>\n",
       "      <td>0.0</td>\n",
       "      <td>0.0</td>\n",
       "      <td>0</td>\n",
       "      <td>0.0</td>\n",
       "      <td>1623.0</td>\n",
       "      <td>1165.0</td>\n",
       "      <td>458.0</td>\n",
       "      <td>0.393133</td>\n",
       "      <td>2233.8</td>\n",
       "      <td>-0.273435</td>\n",
       "      <td>1539.5</td>\n",
       "      <td>1055.06</td>\n",
       "      <td>484.44</td>\n",
       "      <td>0.459159</td>\n",
       "      <td>1891.26</td>\n",
       "      <td>-0.185992</td>\n",
       "    </tr>\n",
       "  </tbody>\n",
       "</table>\n",
       "</div>"
      ],
      "text/plain": [
       "   Unnamed: 0               Unnamed: 1               Unnamed: 2    Unnamed: 3  \\\n",
       "1          10  2023-05-01 - 2023-05-14  2023-04-17 - 2023-04-30  201903081422   \n",
       "\n",
       "       门店ID      门店编号 门店类型 大区经理 省经理 区域经理 运营状态 是否有收银机 是否为学校店铺     Unnamed: 13  \\\n",
       "1  76288231  TLL01774   郭飞  刘成龙  李何  卢德磊  营业中      是       否  甜啦啦(徐州大黄山工人村店)   \n",
       "\n",
       "   本期营业天数  环比期营业天数  同比期营业天数  本期是否营业  环比期是否营业  同比期是否营业  本期  对比期  同比期  本期.1  \\\n",
       "1      14       14       14       1        1        1   0    0  0.0     0   \n",
       "\n",
       "   对比期.1  同比期.1     本期.2    对比期.2       增长     增长%    同比期.2    同比增长   本期实收金额  \\\n",
       "1      0    0.0  81853.5  63986.5  17867.0  0.2792  76695.1  0.0673  70659.3   \n",
       "\n",
       "    环比期实收金额      增长.1  增长%.1   同比期实收金额  同比增长.1     本期.3    对比期.3     增长.2  \\\n",
       "1  54988.94  15670.36  0.285  66876.81  0.0566  11194.2  8997.56  2196.64   \n",
       "\n",
       "    增长%.2    同比期.3  同比增长.2  本期.4  对比期.4  增长.3   增长%.3  同比期.4  同比增长.3  本期.5  \\\n",
       "1  0.2441  9818.29  0.1401  6013   4543  1470  0.3236   5630   0.068  6160   \n",
       "\n",
       "   对比期.5  增长.4   增长%.4  同比期.5  同比增长.4   本期.6  对比期.6  增长.5   增长%.5  同比期.6  \\\n",
       "1   4639  1521  0.3279   5747  0.0719  11.75   12.1 -0.35 -0.0292  11.88   \n",
       "\n",
       "   同比增长.5   本期.7  对比期.7  增长.6   增长%.6  同比期.7  同比增长.6   本期堂食流水  环比期堂食流水  \\\n",
       "1 -0.0107  11.47  11.85 -0.38 -0.0323  11.64 -0.0143  54381.5  42061.0   \n",
       "\n",
       "      增长.7    增长%.7    同比期.8    同比增长.7    本期堂食实收   环比期堂食实收      增长.8  \\\n",
       "1  12320.5  0.29292  53043.0  0.025234  53660.61  41673.42  11987.19   \n",
       "\n",
       "      增长%.8   同比期堂食实收   同比增长.8   本期外卖流水  环比期外卖流水    增长.9     增长%.9    同比期.9  \\\n",
       "1  0.287646  52363.52  1297.09  25849.0  20760.5  5088.5  0.245105  21418.3   \n",
       "\n",
       "     同比增长.9    本期外卖实收   环比期外卖实收    增长.10    增长%.10   同比期外卖实收   同比增长.10  \\\n",
       "1  0.206865  15459.19  12260.46  3198.73  0.260898  12622.03  0.224778   \n",
       "\n",
       "      本期美团    环比期美团   增长.11   增长%.11    同比期美团   同比增长.11   本期饿了么  环比期饿了么  \\\n",
       "1  19915.0  16458.0  3457.0  0.21005  17729.0  0.123301  5934.0  4302.5   \n",
       "\n",
       "    增长.12    增长%.12  同比期饿了么   同比增长.12  本期其它  环比期其它  增长.13  增长%.13  同比期其它  \\\n",
       "1  1631.5  0.379198  3689.3  0.608435   0.0    0.0    0.0     0.0      0   \n",
       "\n",
       "   同比增长.13  本期自提流水  环比期自提流水  增长.14    增长%.14  同比期.10   同比增长.14  本期自提实收  \\\n",
       "1      0.0  1623.0   1165.0  458.0  0.393133  2233.8 -0.273435  1539.5   \n",
       "\n",
       "   环比期自提实收   增长.15    增长%.15  同比期自提实收   同比增长.15  \n",
       "1  1055.06  484.44  0.459159  1891.26 -0.185992  "
      ]
     },
     "execution_count": 39,
     "metadata": {},
     "output_type": "execute_result"
    }
   ],
   "source": [
    "df_cunliang.head(1)"
   ]
  },
  {
   "cell_type": "code",
   "execution_count": 40,
   "id": "ef9040dd",
   "metadata": {},
   "outputs": [],
   "source": [
    "df_cunliang = df_cunliang[(df_cunliang['同比期是否营业']==1)]"
   ]
  },
  {
   "cell_type": "code",
   "execution_count": 41,
   "id": "8a0d519a",
   "metadata": {},
   "outputs": [
    {
     "data": {
      "text/plain": [
       "(3140, 122)"
      ]
     },
     "execution_count": 41,
     "metadata": {},
     "output_type": "execute_result"
    }
   ],
   "source": [
    "df_cunliang.shape"
   ]
  },
  {
   "cell_type": "code",
   "execution_count": 42,
   "id": "1c37cdb2",
   "metadata": {},
   "outputs": [],
   "source": [
    "#大区经理-存量店铺-同比\n",
    "values = ['本期是否营业','同比期是否营业','本期实收金额','同比期实收金额','本期堂食实收','同比期堂食实收',\n",
    "                                                '本期外卖实收','同比期外卖实收','本期自提实收','同比期自提实收']\n",
    "          \n",
    "df_cunliang_pivot = df_cunliang.pivot_table(index=['大区经理'],values = values,aggfunc=np.sum)"
   ]
  },
  {
   "cell_type": "code",
   "execution_count": 43,
   "id": "b664b71c",
   "metadata": {},
   "outputs": [
    {
     "data": {
      "text/html": [
       "<div>\n",
       "<style scoped>\n",
       "    .dataframe tbody tr th:only-of-type {\n",
       "        vertical-align: middle;\n",
       "    }\n",
       "\n",
       "    .dataframe tbody tr th {\n",
       "        vertical-align: top;\n",
       "    }\n",
       "\n",
       "    .dataframe thead th {\n",
       "        text-align: right;\n",
       "    }\n",
       "</style>\n",
       "<table border=\"1\" class=\"dataframe\">\n",
       "  <thead>\n",
       "    <tr style=\"text-align: right;\">\n",
       "      <th></th>\n",
       "      <th>同比期堂食实收</th>\n",
       "      <th>同比期外卖实收</th>\n",
       "      <th>同比期实收金额</th>\n",
       "      <th>同比期是否营业</th>\n",
       "      <th>同比期自提实收</th>\n",
       "      <th>本期堂食实收</th>\n",
       "      <th>本期外卖实收</th>\n",
       "      <th>本期实收金额</th>\n",
       "      <th>本期是否营业</th>\n",
       "      <th>本期自提实收</th>\n",
       "    </tr>\n",
       "    <tr>\n",
       "      <th>大区经理</th>\n",
       "      <th></th>\n",
       "      <th></th>\n",
       "      <th></th>\n",
       "      <th></th>\n",
       "      <th></th>\n",
       "      <th></th>\n",
       "      <th></th>\n",
       "      <th></th>\n",
       "      <th></th>\n",
       "      <th></th>\n",
       "    </tr>\n",
       "  </thead>\n",
       "  <tbody>\n",
       "    <tr>\n",
       "      <th>刘向阳</th>\n",
       "      <td>9269835.19</td>\n",
       "      <td>3057163.02</td>\n",
       "      <td>13469563.10</td>\n",
       "      <td>533</td>\n",
       "      <td>1142564.89</td>\n",
       "      <td>12406267.94</td>\n",
       "      <td>3523130.00</td>\n",
       "      <td>17297197.25</td>\n",
       "      <td>533</td>\n",
       "      <td>1387703.19</td>\n",
       "    </tr>\n",
       "    <tr>\n",
       "      <th>刘成龙</th>\n",
       "      <td>7897369.36</td>\n",
       "      <td>940866.59</td>\n",
       "      <td>9489546.37</td>\n",
       "      <td>452</td>\n",
       "      <td>651310.42</td>\n",
       "      <td>9621554.26</td>\n",
       "      <td>1041481.39</td>\n",
       "      <td>11278063.93</td>\n",
       "      <td>452</td>\n",
       "      <td>615028.28</td>\n",
       "    </tr>\n",
       "    <tr>\n",
       "      <th>已解约</th>\n",
       "      <td>118313.71</td>\n",
       "      <td>11170.49</td>\n",
       "      <td>134204.59</td>\n",
       "      <td>14</td>\n",
       "      <td>4720.39</td>\n",
       "      <td>47350.44</td>\n",
       "      <td>1274.56</td>\n",
       "      <td>49879.00</td>\n",
       "      <td>14</td>\n",
       "      <td>1254.00</td>\n",
       "    </tr>\n",
       "    <tr>\n",
       "      <th>彭飞</th>\n",
       "      <td>8384449.76</td>\n",
       "      <td>785570.28</td>\n",
       "      <td>9826760.49</td>\n",
       "      <td>592</td>\n",
       "      <td>651998.12</td>\n",
       "      <td>10307190.35</td>\n",
       "      <td>887411.21</td>\n",
       "      <td>11653826.68</td>\n",
       "      <td>592</td>\n",
       "      <td>459225.12</td>\n",
       "    </tr>\n",
       "    <tr>\n",
       "      <th>王枫涛</th>\n",
       "      <td>6660187.50</td>\n",
       "      <td>1553305.89</td>\n",
       "      <td>9296822.91</td>\n",
       "      <td>421</td>\n",
       "      <td>1083329.52</td>\n",
       "      <td>9177729.69</td>\n",
       "      <td>1831557.10</td>\n",
       "      <td>12245633.11</td>\n",
       "      <td>421</td>\n",
       "      <td>1236346.32</td>\n",
       "    </tr>\n",
       "  </tbody>\n",
       "</table>\n",
       "</div>"
      ],
      "text/plain": [
       "         同比期堂食实收     同比期外卖实收      同比期实收金额  同比期是否营业     同比期自提实收       本期堂食实收  \\\n",
       "大区经理                                                                          \n",
       "刘向阳   9269835.19  3057163.02  13469563.10      533  1142564.89  12406267.94   \n",
       "刘成龙   7897369.36   940866.59   9489546.37      452   651310.42   9621554.26   \n",
       "已解约    118313.71    11170.49    134204.59       14     4720.39     47350.44   \n",
       "彭飞    8384449.76   785570.28   9826760.49      592   651998.12  10307190.35   \n",
       "王枫涛   6660187.50  1553305.89   9296822.91      421  1083329.52   9177729.69   \n",
       "\n",
       "          本期外卖实收       本期实收金额  本期是否营业      本期自提实收  \n",
       "大区经理                                               \n",
       "刘向阳   3523130.00  17297197.25     533  1387703.19  \n",
       "刘成龙   1041481.39  11278063.93     452   615028.28  \n",
       "已解约      1274.56     49879.00      14     1254.00  \n",
       "彭飞     887411.21  11653826.68     592   459225.12  \n",
       "王枫涛   1831557.10  12245633.11     421  1236346.32  "
      ]
     },
     "execution_count": 43,
     "metadata": {},
     "output_type": "execute_result"
    }
   ],
   "source": [
    "pd.set_option('display.max_columns', None)\n",
    "df_cunliang_pivot.head()"
   ]
  },
  {
   "cell_type": "code",
   "execution_count": 44,
   "id": "0e405c5e",
   "metadata": {},
   "outputs": [],
   "source": [
    "df_cunliang_pivot['店铺增减'] = df_cunliang_pivot['本期是否营业']-df_cunliang_pivot['同比期是否营业']\n",
    "#实收\n",
    "df_cunliang_pivot['实收同比'] = (df_cunliang_pivot['本期实收金额'] - df_cunliang_pivot['同比期实收金额'])/df_cunliang_pivot['同比期实收金额']\n",
    "df_cunliang_pivot.sort_values(\"实收同比\",inplace=True,ascending=False) #排序\n",
    "#堂食实收\n",
    "df_cunliang_pivot['堂食实收同比'] = (df_cunliang_pivot['本期堂食实收'] - df_cunliang_pivot['同比期堂食实收'])/df_cunliang_pivot['同比期堂食实收']\n",
    "#外卖实收\n",
    "df_cunliang_pivot['外卖实收同比'] = (df_cunliang_pivot['本期外卖实收'] - df_cunliang_pivot['同比期外卖实收'])/df_cunliang_pivot['同比期外卖实收']\n",
    "#外卖实收\n",
    "df_cunliang_pivot['自提实收同比'] = (df_cunliang_pivot['本期自提实收'] - df_cunliang_pivot['同比期自提实收'])/df_cunliang_pivot['同比期自提实收']"
   ]
  },
  {
   "cell_type": "code",
   "execution_count": 45,
   "id": "70a3fe28",
   "metadata": {},
   "outputs": [],
   "source": [
    "values = ['本期是否营业','同比期是否营业','店铺增减','本期实收金额','同比期实收金额','实收同比','本期堂食实收','同比期堂食实收',\n",
    "          '堂食实收同比','本期外卖实收','同比期外卖实收','外卖实收同比','本期自提实收','同比期自提实收','自提实收同比']\n",
    "df_cunliang_pivot = df_cunliang_pivot.reindex(columns=values)\n",
    "df_cunliang_pivot.rename(columns={'本期是否营业': '本期店铺数','同比期是否营业': '同比期店铺数'}, inplace=True)\n"
   ]
  },
  {
   "cell_type": "code",
   "execution_count": 46,
   "id": "cdce25ca",
   "metadata": {},
   "outputs": [],
   "source": [
    "total = df_cunliang_pivot[['本期店铺数', '同比期店铺数','店铺增减','本期实收金额','同比期实收金额',\n",
    "            '本期堂食实收','同比期堂食实收','本期外卖实收','同比期外卖实收','本期自提实收','同比期自提实收']].sum()\n",
    "total['实收同比'] = Tonghuanbi(total['本期实收金额'] , total['同比期实收金额'])\n",
    "\n",
    "total['堂食实收同比'] = Tonghuanbi(total['本期堂食实收'] , total['同比期堂食实收'])\n",
    "total['外卖实收同比'] = Tonghuanbi(total['本期外卖实收'] , total['同比期外卖实收'])\n",
    "total['自提实收同比'] = Tonghuanbi(total['本期自提实收'] , total['同比期自提实收'])\n",
    "total_df = pd.DataFrame(total).T.rename(index={0: '合计'})\n",
    "df_cunliang_pivot = pd.concat([df_cunliang_pivot, total_df])"
   ]
  },
  {
   "cell_type": "code",
   "execution_count": 47,
   "id": "9eb7b612",
   "metadata": {},
   "outputs": [],
   "source": [
    "with pd.ExcelWriter('同环比分表_%s.xlsx'%now, mode='a',engine=\"openpyxl\") as writer:\n",
    "    df_cunliang_pivot.to_excel(writer, sheet_name='大区经理存量店铺同比')"
   ]
  },
  {
   "cell_type": "code",
   "execution_count": 48,
   "id": "c0587413",
   "metadata": {},
   "outputs": [],
   "source": [
    "#省经理-存量店铺-同比\n",
    "values = ['本期是否营业','同比期是否营业','本期实收金额','同比期实收金额','本期堂食实收','同比期堂食实收',\n",
    "                                                '本期外卖实收','同比期外卖实收','本期自提实收','同比期自提实收']\n",
    "          \n",
    "df_cunliang_pivot = df_cunliang.pivot_table(index=['省经理'],values = values,aggfunc=np.sum)"
   ]
  },
  {
   "cell_type": "code",
   "execution_count": 49,
   "id": "5cea8b1d",
   "metadata": {},
   "outputs": [],
   "source": [
    "df_cunliang_pivot['店铺增减'] = df_cunliang_pivot['本期是否营业']-df_cunliang_pivot['同比期是否营业']\n",
    "#实收\n",
    "df_cunliang_pivot['实收同比'] = (df_cunliang_pivot['本期实收金额'] - df_cunliang_pivot['同比期实收金额'])/df_cunliang_pivot['同比期实收金额']\n",
    "df_cunliang_pivot.sort_values(\"实收同比\",inplace=True,ascending=False) #排序\n",
    "#堂食实收\n",
    "df_cunliang_pivot['堂食实收同比'] = (df_cunliang_pivot['本期堂食实收'] - df_cunliang_pivot['同比期堂食实收'])/df_cunliang_pivot['同比期堂食实收']\n",
    "#外卖实收\n",
    "df_cunliang_pivot['外卖实收同比'] = (df_cunliang_pivot['本期外卖实收'] - df_cunliang_pivot['同比期外卖实收'])/df_cunliang_pivot['同比期外卖实收']\n",
    "#外卖实收\n",
    "df_cunliang_pivot['自提实收同比'] = (df_cunliang_pivot['本期自提实收'] - df_cunliang_pivot['同比期自提实收'])/df_cunliang_pivot['同比期自提实收']"
   ]
  },
  {
   "cell_type": "code",
   "execution_count": 50,
   "id": "8ec1a110",
   "metadata": {},
   "outputs": [],
   "source": [
    "values = ['本期是否营业','同比期是否营业','店铺增减','本期实收金额','同比期实收金额','实收同比','本期堂食实收','同比期堂食实收',\n",
    "          '堂食实收同比','本期外卖实收','同比期外卖实收','外卖实收同比','本期自提实收','同比期自提实收','自提实收同比']\n",
    "df_cunliang_pivot = df_cunliang_pivot.reindex(columns=values)\n",
    "df_cunliang_pivot.rename(columns={'本期是否营业': '本期店铺数','同比期是否营业': '同比期店铺数'}, inplace=True)\n"
   ]
  },
  {
   "cell_type": "code",
   "execution_count": 51,
   "id": "362d9c64",
   "metadata": {},
   "outputs": [],
   "source": [
    "total = df_cunliang_pivot[['本期店铺数', '同比期店铺数','店铺增减','本期实收金额','同比期实收金额',\n",
    "            '本期堂食实收','同比期堂食实收','本期外卖实收','同比期外卖实收','本期自提实收','同比期自提实收']].sum()\n",
    "total['实收同比'] = Tonghuanbi(total['本期实收金额'] , total['同比期实收金额'])\n",
    "\n",
    "total['堂食实收同比'] = Tonghuanbi(total['本期堂食实收'] , total['同比期堂食实收'])\n",
    "total['外卖实收同比'] = Tonghuanbi(total['本期外卖实收'] , total['同比期外卖实收'])\n",
    "total['自提实收同比'] = Tonghuanbi(total['本期自提实收'] , total['同比期自提实收'])\n",
    "total_df = pd.DataFrame(total).T.rename(index={0: '合计'})\n",
    "df_cunliang_pivot = pd.concat([df_cunliang_pivot, total_df])"
   ]
  },
  {
   "cell_type": "code",
   "execution_count": 52,
   "id": "9b63b00f",
   "metadata": {},
   "outputs": [],
   "source": [
    "with pd.ExcelWriter('同环比分表_%s.xlsx'%now, mode='a',engine=\"openpyxl\") as writer:\n",
    "    df_cunliang_pivot.to_excel(writer, sheet_name='省经理存量店铺同比')"
   ]
  },
  {
   "cell_type": "code",
   "execution_count": 53,
   "id": "bc92a54b",
   "metadata": {},
   "outputs": [],
   "source": [
    "#省经理-存量店铺-同比\n",
    "values = ['本期是否营业','同比期是否营业','本期实收金额','同比期实收金额','本期堂食实收','同比期堂食实收',\n",
    "                                                '本期外卖实收','同比期外卖实收','本期自提实收','同比期自提实收']\n",
    "          \n",
    "df_cunliang_pivot = df_cunliang.pivot_table(index=['区域经理'],values = values,aggfunc=np.sum)"
   ]
  },
  {
   "cell_type": "code",
   "execution_count": 54,
   "id": "24df53b1",
   "metadata": {},
   "outputs": [],
   "source": [
    "df_cunliang_pivot['店铺增减'] = df_cunliang_pivot['本期是否营业']-df_cunliang_pivot['同比期是否营业']\n",
    "#实收\n",
    "df_cunliang_pivot['实收同比'] = (df_cunliang_pivot['本期实收金额'] - df_cunliang_pivot['同比期实收金额'])/df_cunliang_pivot['同比期实收金额']\n",
    "df_cunliang_pivot.sort_values(\"实收同比\",inplace=True,ascending=False) #排序\n",
    "#堂食实收\n",
    "df_cunliang_pivot['堂食实收同比'] = (df_cunliang_pivot['本期堂食实收'] - df_cunliang_pivot['同比期堂食实收'])/df_cunliang_pivot['同比期堂食实收']\n",
    "#外卖实收\n",
    "df_cunliang_pivot['外卖实收同比'] = (df_cunliang_pivot['本期外卖实收'] - df_cunliang_pivot['同比期外卖实收'])/df_cunliang_pivot['同比期外卖实收']\n",
    "#外卖实收\n",
    "df_cunliang_pivot['自提实收同比'] = (df_cunliang_pivot['本期自提实收'] - df_cunliang_pivot['同比期自提实收'])/df_cunliang_pivot['同比期自提实收']"
   ]
  },
  {
   "cell_type": "code",
   "execution_count": 55,
   "id": "491b3f81",
   "metadata": {},
   "outputs": [],
   "source": [
    "values = ['本期是否营业','同比期是否营业','店铺增减','本期实收金额','同比期实收金额','实收同比','本期堂食实收','同比期堂食实收',\n",
    "          '堂食实收同比','本期外卖实收','同比期外卖实收','外卖实收同比','本期自提实收','同比期自提实收','自提实收同比']\n",
    "df_cunliang_pivot = df_cunliang_pivot.reindex(columns=values)\n",
    "df_cunliang_pivot.rename(columns={'本期是否营业': '本期店铺数','同比期是否营业': '同比期店铺数'}, inplace=True)\n"
   ]
  },
  {
   "cell_type": "code",
   "execution_count": 56,
   "id": "92989382",
   "metadata": {},
   "outputs": [],
   "source": [
    "total = df_cunliang_pivot[['本期店铺数', '同比期店铺数','店铺增减','本期实收金额','同比期实收金额',\n",
    "            '本期堂食实收','同比期堂食实收','本期外卖实收','同比期外卖实收','本期自提实收','同比期自提实收']].sum()\n",
    "total['实收同比'] = Tonghuanbi(total['本期实收金额'] , total['同比期实收金额'])\n",
    "\n",
    "total['堂食实收同比'] = Tonghuanbi(total['本期堂食实收'] , total['同比期堂食实收'])\n",
    "total['外卖实收同比'] = Tonghuanbi(total['本期外卖实收'] , total['同比期外卖实收'])\n",
    "total['自提实收同比'] = Tonghuanbi(total['本期自提实收'] , total['同比期自提实收'])\n",
    "total_df = pd.DataFrame(total).T.rename(index={0: '合计'})\n",
    "df_cunliang_pivot = pd.concat([df_cunliang_pivot, total_df])"
   ]
  },
  {
   "cell_type": "code",
   "execution_count": 57,
   "id": "1f303da0",
   "metadata": {},
   "outputs": [],
   "source": [
    "with pd.ExcelWriter('同环比分表_%s.xlsx'%now, mode='a',engine=\"openpyxl\") as writer:\n",
    "    df_cunliang_pivot.to_excel(writer, sheet_name='区域经理存量店铺同比')"
   ]
  },
  {
   "cell_type": "markdown",
   "id": "36433cae",
   "metadata": {},
   "source": [
    "存量店铺-环比"
   ]
  },
  {
   "cell_type": "code",
   "execution_count": 58,
   "id": "ff7c11ad",
   "metadata": {},
   "outputs": [],
   "source": [
    "#环比期存量店铺\n",
    "df_cunliang = df_zongbiao[(df_zongbiao['本期是否营业']==1)]\n",
    "df_cunliang = df_cunliang[(df_cunliang['环比期是否营业']==1)]"
   ]
  },
  {
   "cell_type": "code",
   "execution_count": 59,
   "id": "535de64b",
   "metadata": {},
   "outputs": [],
   "source": [
    "#大区经理-存量店铺-环比\n",
    "values = ['本期是否营业','环比期是否营业','本期实收金额','环比期实收金额','本期堂食实收','环比期堂食实收',\n",
    "                                                '本期外卖实收','环比期外卖实收','本期自提实收','环比期自提实收']\n",
    "          \n",
    "df_cunliang_pivot = df_cunliang.pivot_table(index=['大区经理'],values = values,aggfunc=np.sum)"
   ]
  },
  {
   "cell_type": "code",
   "execution_count": 60,
   "id": "48d53578",
   "metadata": {},
   "outputs": [],
   "source": [
    "df_cunliang_pivot['店铺增减'] = df_cunliang_pivot['本期是否营业']-df_cunliang_pivot['环比期是否营业']\n",
    "#实收\n",
    "df_cunliang_pivot['实收环比'] = (df_cunliang_pivot['本期实收金额'] - df_cunliang_pivot['环比期实收金额'])/df_cunliang_pivot['环比期实收金额']\n",
    "df_cunliang_pivot.sort_values(\"实收环比\",inplace=True,ascending=False) #排序\n",
    "#堂食实收\n",
    "df_cunliang_pivot['堂食实收环比'] = (df_cunliang_pivot['本期堂食实收'] - df_cunliang_pivot['环比期堂食实收'])/df_cunliang_pivot['环比期堂食实收']\n",
    "#外卖实收\n",
    "df_cunliang_pivot['外卖实收环比'] = (df_cunliang_pivot['本期外卖实收'] - df_cunliang_pivot['环比期外卖实收'])/df_cunliang_pivot['环比期外卖实收']\n",
    "#外卖实收\n",
    "df_cunliang_pivot['自提实收环比'] = (df_cunliang_pivot['本期自提实收'] - df_cunliang_pivot['环比期自提实收'])/df_cunliang_pivot['环比期自提实收']"
   ]
  },
  {
   "cell_type": "code",
   "execution_count": 61,
   "id": "6fec0523",
   "metadata": {},
   "outputs": [],
   "source": [
    "values = ['本期是否营业','环比期是否营业','店铺增减','本期实收金额','环比期实收金额','实收环比','本期堂食实收','环比期堂食实收',\n",
    "          '堂食实收环比','本期外卖实收','环比期外卖实收','外卖实收环比','本期自提实收','环比期自提实收','自提实收环比']\n",
    "df_cunliang_pivot = df_cunliang_pivot.reindex(columns=values)\n",
    "df_cunliang_pivot.rename(columns={'本期是否营业': '本期店铺数','环比期是否营业': '环比期店铺数'}, inplace=True)\n"
   ]
  },
  {
   "cell_type": "code",
   "execution_count": 62,
   "id": "5267fb3c",
   "metadata": {},
   "outputs": [],
   "source": [
    "total = df_cunliang_pivot[['本期店铺数', '环比期店铺数','店铺增减','本期实收金额','环比期实收金额',\n",
    "            '本期堂食实收','环比期堂食实收','本期外卖实收','环比期外卖实收','本期自提实收','环比期自提实收']].sum()\n",
    "total['实收环比'] = Tonghuanbi(total['本期实收金额'] , total['环比期实收金额'])\n",
    "\n",
    "total['堂食实收环比'] = Tonghuanbi(total['本期堂食实收'] , total['环比期堂食实收'])\n",
    "total['外卖实收环比'] = Tonghuanbi(total['本期外卖实收'] , total['环比期外卖实收'])\n",
    "total['自提实收环比'] = Tonghuanbi(total['本期自提实收'] , total['环比期自提实收'])\n",
    "total_df = pd.DataFrame(total).T.rename(index={0: '合计'})\n",
    "df_cunliang_pivot = pd.concat([df_cunliang_pivot, total_df])"
   ]
  },
  {
   "cell_type": "code",
   "execution_count": 63,
   "id": "a3b4bf33",
   "metadata": {},
   "outputs": [],
   "source": [
    "with pd.ExcelWriter('同环比分表_%s.xlsx'%now, mode='a',engine=\"openpyxl\") as writer:\n",
    "    df_cunliang_pivot.to_excel(writer, sheet_name='大区经理存量店铺环比')"
   ]
  },
  {
   "cell_type": "code",
   "execution_count": 64,
   "id": "ed74edd1",
   "metadata": {},
   "outputs": [],
   "source": [
    "#省经理-存量店铺-环比\n",
    "values = ['本期是否营业','环比期是否营业','本期实收金额','环比期实收金额','本期堂食实收','环比期堂食实收',\n",
    "                                                '本期外卖实收','环比期外卖实收','本期自提实收','环比期自提实收']\n",
    "df_cunliang_pivot = df_cunliang.pivot_table(index=['省经理'],values = values,aggfunc=np.sum)"
   ]
  },
  {
   "cell_type": "code",
   "execution_count": 65,
   "id": "6eb63e9f",
   "metadata": {},
   "outputs": [],
   "source": [
    "df_cunliang_pivot['店铺增减'] = df_cunliang_pivot['本期是否营业']-df_cunliang_pivot['环比期是否营业']\n",
    "#实收\n",
    "df_cunliang_pivot['实收环比'] = (df_cunliang_pivot['本期实收金额'] - df_cunliang_pivot['环比期实收金额'])/df_cunliang_pivot['环比期实收金额']\n",
    "df_cunliang_pivot.sort_values(\"实收环比\",inplace=True,ascending=False) #排序\n",
    "#堂食实收\n",
    "df_cunliang_pivot['堂食实收环比'] = (df_cunliang_pivot['本期堂食实收'] - df_cunliang_pivot['环比期堂食实收'])/df_cunliang_pivot['环比期堂食实收']\n",
    "#外卖实收\n",
    "df_cunliang_pivot['外卖实收环比'] = (df_cunliang_pivot['本期外卖实收'] - df_cunliang_pivot['环比期外卖实收'])/df_cunliang_pivot['环比期外卖实收']\n",
    "#外卖实收\n",
    "df_cunliang_pivot['自提实收环比'] = (df_cunliang_pivot['本期自提实收'] - df_cunliang_pivot['环比期自提实收'])/df_cunliang_pivot['环比期自提实收']"
   ]
  },
  {
   "cell_type": "code",
   "execution_count": 66,
   "id": "567e9a84",
   "metadata": {},
   "outputs": [],
   "source": [
    "values = ['本期是否营业','环比期是否营业','店铺增减','本期实收金额','环比期实收金额','实收环比','本期堂食实收','环比期堂食实收',\n",
    "          '堂食实收环比','本期外卖实收','环比期外卖实收','外卖实收环比','本期自提实收','环比期自提实收','自提实收环比']\n",
    "df_cunliang_pivot = df_cunliang_pivot.reindex(columns=values)\n",
    "df_cunliang_pivot.rename(columns={'本期是否营业': '本期店铺数','环比期是否营业': '环比期店铺数'}, inplace=True)\n"
   ]
  },
  {
   "cell_type": "code",
   "execution_count": 67,
   "id": "3ace0d61",
   "metadata": {},
   "outputs": [],
   "source": [
    "total = df_cunliang_pivot[['本期店铺数', '环比期店铺数','店铺增减','本期实收金额','环比期实收金额',\n",
    "            '本期堂食实收','环比期堂食实收','本期外卖实收','环比期外卖实收','本期自提实收','环比期自提实收']].sum()\n",
    "total['实收环比'] = Tonghuanbi(total['本期实收金额'] , total['环比期实收金额'])\n",
    "\n",
    "total['堂食实收环比'] = Tonghuanbi(total['本期堂食实收'] , total['环比期堂食实收'])\n",
    "total['外卖实收环比'] = Tonghuanbi(total['本期外卖实收'] , total['环比期外卖实收'])\n",
    "total['自提实收环比'] = Tonghuanbi(total['本期自提实收'] , total['环比期自提实收'])\n",
    "total_df = pd.DataFrame(total).T.rename(index={0: '合计'})\n",
    "df_cunliang_pivot = pd.concat([df_cunliang_pivot, total_df])"
   ]
  },
  {
   "cell_type": "code",
   "execution_count": 68,
   "id": "2c4fae97",
   "metadata": {},
   "outputs": [],
   "source": [
    "with pd.ExcelWriter('同环比分表_%s.xlsx'%now, mode='a',engine=\"openpyxl\") as writer:\n",
    "    df_cunliang_pivot.to_excel(writer, sheet_name='省经理存量店铺环比')"
   ]
  },
  {
   "cell_type": "code",
   "execution_count": 69,
   "id": "d1b50c04",
   "metadata": {},
   "outputs": [],
   "source": [
    "#省经理-存量店铺-环比\n",
    "values = ['本期是否营业','环比期是否营业','本期实收金额','环比期实收金额','本期堂食实收','环比期堂食实收',\n",
    "                                                '本期外卖实收','环比期外卖实收','本期自提实收','环比期自提实收']\n",
    "          \n",
    "df_cunliang_pivot = df_cunliang.pivot_table(index=['区域经理'],values = values,aggfunc=np.sum)"
   ]
  },
  {
   "cell_type": "code",
   "execution_count": 70,
   "id": "eade5d69",
   "metadata": {},
   "outputs": [],
   "source": [
    "df_cunliang_pivot['店铺增减'] = df_cunliang_pivot['本期是否营业']-df_cunliang_pivot['环比期是否营业']\n",
    "#实收\n",
    "df_cunliang_pivot['实收环比'] = (df_cunliang_pivot['本期实收金额'] - df_cunliang_pivot['环比期实收金额'])/df_cunliang_pivot['环比期实收金额']\n",
    "df_cunliang_pivot.sort_values(\"实收环比\",inplace=True,ascending=False) #排序\n",
    "#堂食实收\n",
    "df_cunliang_pivot['堂食实收环比'] = (df_cunliang_pivot['本期堂食实收'] - df_cunliang_pivot['环比期堂食实收'])/df_cunliang_pivot['环比期堂食实收']\n",
    "#外卖实收\n",
    "df_cunliang_pivot['外卖实收环比'] = (df_cunliang_pivot['本期外卖实收'] - df_cunliang_pivot['环比期外卖实收'])/df_cunliang_pivot['环比期外卖实收']\n",
    "#外卖实收\n",
    "df_cunliang_pivot['自提实收环比'] = (df_cunliang_pivot['本期自提实收'] - df_cunliang_pivot['环比期自提实收'])/df_cunliang_pivot['环比期自提实收']"
   ]
  },
  {
   "cell_type": "code",
   "execution_count": 71,
   "id": "aa670ed4",
   "metadata": {},
   "outputs": [],
   "source": [
    "values = ['本期是否营业','环比期是否营业','店铺增减','本期实收金额','环比期实收金额','实收环比','本期堂食实收','环比期堂食实收',\n",
    "          '堂食实收环比','本期外卖实收','环比期外卖实收','外卖实收环比','本期自提实收','环比期自提实收','自提实收环比']\n",
    "df_cunliang_pivot = df_cunliang_pivot.reindex(columns=values)\n",
    "df_cunliang_pivot.rename(columns={'本期是否营业': '本期店铺数','环比期是否营业': '环比期店铺数'}, inplace=True)\n"
   ]
  },
  {
   "cell_type": "code",
   "execution_count": 72,
   "id": "7b0f6bf9",
   "metadata": {},
   "outputs": [],
   "source": [
    "total = df_cunliang_pivot[['本期店铺数', '环比期店铺数','店铺增减','本期实收金额','环比期实收金额',\n",
    "            '本期堂食实收','环比期堂食实收','本期外卖实收','环比期外卖实收','本期自提实收','环比期自提实收']].sum()\n",
    "total['实收环比'] = Tonghuanbi(total['本期实收金额'] , total['环比期实收金额'])\n",
    "\n",
    "total['堂食实收环比'] = Tonghuanbi(total['本期堂食实收'] , total['环比期堂食实收'])\n",
    "total['外卖实收环比'] = Tonghuanbi(total['本期外卖实收'] , total['环比期外卖实收'])\n",
    "total['自提实收环比'] = Tonghuanbi(total['本期自提实收'] , total['环比期自提实收'])\n",
    "total_df = pd.DataFrame(total).T.rename(index={0: '合计'})\n",
    "df_cunliang_pivot = pd.concat([df_cunliang_pivot, total_df])"
   ]
  },
  {
   "cell_type": "code",
   "execution_count": 73,
   "id": "f9545703",
   "metadata": {},
   "outputs": [],
   "source": [
    "with pd.ExcelWriter('同环比分表_%s.xlsx'%now, mode='a',engine=\"openpyxl\") as writer:\n",
    "    df_cunliang_pivot.to_excel(writer, sheet_name='区域经理存量店铺环比')"
   ]
  },
  {
   "cell_type": "markdown",
   "id": "dc810005",
   "metadata": {},
   "source": [
    "以下是整合表↓"
   ]
  },
  {
   "cell_type": "code",
   "execution_count": 74,
   "id": "7d021feb",
   "metadata": {
    "scrolled": true
   },
   "outputs": [],
   "source": [
    "#全量-同比-透视\n",
    "values = ['本期是否营业','同比期是否营业','本期实收金额','同比期实收金额']\n",
    "df_toushi_quanliang = df_zongbiao.pivot_table(index=['大区经理','省经理','区域经理'],values = values,aggfunc=np.sum)\n",
    "df_toushi_quanliang['店铺增减'] = df_toushi_quanliang['本期是否营业']-df_toushi_quanliang['同比期是否营业']\n",
    "df_toushi_quanliang['实收同比'] = (df_toushi_quanliang['本期实收金额'] - df_toushi_quanliang['同比期实收金额'])/df_toushi_quanliang['同比期实收金额']\n",
    "df_toushi_quanliang.rename(columns={'本期是否营业': '本期店铺数','同比期是否营业': '同比期店铺数'}, inplace=True)\n",
    "columns = ['本期店铺数','同比期店铺数','店铺增减','本期实收金额','同比期实收金额','实收同比']\n",
    "quanliang_tongbi = df_toushi_quanliang.reindex(columns=columns)\n"
   ]
  },
  {
   "cell_type": "code",
   "execution_count": 75,
   "id": "d094891d",
   "metadata": {},
   "outputs": [],
   "source": [
    "#全量-环比-透视\n",
    "values = ['本期是否营业','环比期是否营业','本期实收金额','环比期实收金额']\n",
    "df_toushi_quanliang = df_zongbiao.pivot_table(index=['大区经理','省经理','区域经理'],values = values,aggfunc=np.sum)\n",
    "df_toushi_quanliang['店铺增减'] = df_toushi_quanliang['本期是否营业']-df_toushi_quanliang['环比期是否营业']\n",
    "df_toushi_quanliang['实收环比'] = (df_toushi_quanliang['本期实收金额'] - df_toushi_quanliang['环比期实收金额'])/df_toushi_quanliang['环比期实收金额']\n",
    "df_toushi_quanliang.rename(columns={'本期是否营业': '本期店铺数','环比期是否营业': '环比期店铺数'}, inplace=True)\n",
    "columns = ['本期店铺数','环比期店铺数','店铺增减','本期实收金额','环比期实收金额','实收环比']\n",
    "quanliang_huanbi = df_toushi_quanliang.reindex(columns=columns)"
   ]
  },
  {
   "cell_type": "code",
   "execution_count": 76,
   "id": "87949a92",
   "metadata": {},
   "outputs": [],
   "source": [
    "#同比期存量店铺\n",
    "df_cunliang_tongbi = df_zongbiao[(df_zongbiao['本期是否营业']==1)]\n",
    "df_cunliang_tongbi = df_cunliang_tongbi[(df_cunliang_tongbi['同比期是否营业']==1)]"
   ]
  },
  {
   "cell_type": "code",
   "execution_count": 77,
   "id": "a60a827e",
   "metadata": {},
   "outputs": [],
   "source": [
    "#存量-同比-透视\n",
    "values = ['本期是否营业','同比期是否营业','本期实收金额','同比期实收金额']\n",
    "df_toushi_quanliang = df_cunliang_tongbi.pivot_table(index=['大区经理','省经理','区域经理'],values = values,aggfunc=np.sum)\n",
    "df_toushi_quanliang['店铺增减'] = df_toushi_quanliang['本期是否营业']-df_toushi_quanliang['同比期是否营业']\n",
    "df_toushi_quanliang['实收同比'] = (df_toushi_quanliang['本期实收金额'] - df_toushi_quanliang['同比期实收金额'])/df_toushi_quanliang['同比期实收金额']\n",
    "df_toushi_quanliang.rename(columns={'本期是否营业': '本期店铺数','同比期是否营业': '同比期店铺数'}, inplace=True)\n",
    "columns = ['本期店铺数','同比期店铺数','店铺增减','本期实收金额','同比期实收金额','实收同比']\n",
    "cunliang_tongbi = df_toushi_quanliang.reindex(columns=columns)"
   ]
  },
  {
   "cell_type": "code",
   "execution_count": 78,
   "id": "d317708d",
   "metadata": {},
   "outputs": [],
   "source": [
    "#环比期存量店铺\n",
    "df_cunliang_tongbi = df_zongbiao[(df_zongbiao['本期是否营业']==1)]\n",
    "df_cunliang_tongbi = df_cunliang_tongbi[(df_cunliang_tongbi['环比期是否营业']==1)]"
   ]
  },
  {
   "cell_type": "code",
   "execution_count": 79,
   "id": "ce579bfe",
   "metadata": {},
   "outputs": [],
   "source": [
    "#存量-环比-透视\n",
    "\n",
    "values = ['本期是否营业','环比期是否营业','本期实收金额','环比期实收金额']\n",
    "df_toushi_quanliang = df_cunliang_tongbi.pivot_table(index=['大区经理','省经理','区域经理'],values = values,aggfunc=np.sum)\n",
    "df_toushi_quanliang['店铺增减'] = df_toushi_quanliang['本期是否营业']-df_toushi_quanliang['环比期是否营业']\n",
    "df_toushi_quanliang['实收环比'] = (df_toushi_quanliang['本期实收金额'] - df_toushi_quanliang['环比期实收金额'])/df_toushi_quanliang['环比期实收金额']\n",
    "df_toushi_quanliang.rename(columns={'本期是否营业': '本期店铺数','环比期是否营业': '环比期店铺数'}, inplace=True)\n",
    "columns = ['本期店铺数','环比期店铺数','店铺增减','本期实收金额','环比期实收金额','实收环比']\n",
    "cunliang_huanbi = df_toushi_quanliang.reindex(columns=columns)"
   ]
  },
  {
   "cell_type": "code",
   "execution_count": 80,
   "id": "ab8339a7",
   "metadata": {
    "scrolled": true
   },
   "outputs": [],
   "source": [
    "tongbi_weidu = pd.merge(quanliang_tongbi,cunliang_tongbi,on=['大区经理','省经理','区域经理'], how='outer')"
   ]
  },
  {
   "cell_type": "code",
   "execution_count": 81,
   "id": "57dd0f7f",
   "metadata": {},
   "outputs": [],
   "source": [
    "huanbi_weidu = pd.merge(quanliang_huanbi,cunliang_huanbi,on=['大区经理','省经理','区域经理'], how='outer')"
   ]
  },
  {
   "cell_type": "code",
   "execution_count": 82,
   "id": "5f550264",
   "metadata": {},
   "outputs": [],
   "source": [
    "zong_weidu = pd.merge(tongbi_weidu,huanbi_weidu,on=['大区经理','省经理','区域经理'])"
   ]
  },
  {
   "cell_type": "code",
   "execution_count": 83,
   "id": "31a0aa4a",
   "metadata": {},
   "outputs": [],
   "source": [
    "zong_weidu.drop(columns=['同比期店铺数_y','店铺增减_y_x','环比期店铺数_y','店铺增减_y_y'],inplace=True) "
   ]
  },
  {
   "cell_type": "code",
   "execution_count": 84,
   "id": "3f80e9e3",
   "metadata": {
    "scrolled": true
   },
   "outputs": [],
   "source": [
    "zong_weidu.rename(columns={'本期是否营业': '本期店铺数','同比期是否营业': '同比期店铺数'}, inplace=True)"
   ]
  },
  {
   "cell_type": "code",
   "execution_count": 85,
   "id": "3b87eb5f",
   "metadata": {},
   "outputs": [],
   "source": [
    "with pd.ExcelWriter('同环比分表_%s.xlsx'%now, mode='a',engine=\"openpyxl\") as writer:\n",
    "    zong_weidu.to_excel(writer, sheet_name='总表',merge_cells=False)"
   ]
  },
  {
   "cell_type": "markdown",
   "id": "ede2ac08",
   "metadata": {},
   "source": [
    "以下是VBA代码：\n",
    "1. 全表操作\n",
    "\n",
    "```vb\n",
    "Sub 实收金额转为万()\n",
    "    Dim i As Integer\n",
    "    Dim LastColumn As Integer\n",
    "    Dim rng As Range\n",
    "    Dim ws As Worksheet\n",
    "    \n",
    "    For Each ws In ActiveWorkbook.Worksheets\n",
    "        LastColumn = ws.Cells(1, Columns.Count).End(xlToLeft).Column\n",
    "        \n",
    "        For i = 1 To LastColumn\n",
    "            If InStr(1, ws.Cells(1, i), \"期\") > 0 And InStr(1, ws.Cells(1, i), \"实收\") > 0 Then\n",
    "                Set rng = ws.Range(ws.Cells(2, i), ws.Cells(Rows.Count, i).End(xlUp))\n",
    "                rng.NumberFormat = \"0\"\".\"\"0,\"\"万\"\"\"\n",
    "            End If\n",
    "        Next i\n",
    "    Next ws\n",
    "End Sub\n",
    "\n",
    "```\n",
    "\n",
    "2. 透视表复制表操作（填充大区经理、省经理颜色）\n",
    "```vb\n",
    "Sub FillColor()\n",
    "    Dim lastRow As Long\n",
    "    Dim i As Long\n",
    "    \n",
    "    '获取最后一行\n",
    "    lastRow = ActiveSheet.Cells(Rows.Count, 1).End(xlUp).Row\n",
    "    \n",
    "    '循环每一行\n",
    "    For i = 1 To lastRow\n",
    "        '如果A列单元格包含“汇总”，则填充颜色RGB(255,255,0)\n",
    "        If InStr(1, Cells(i, 1), \"汇总\") > 0 Then\n",
    "            Range(Cells(i, 1), Cells(i, Columns.Count)).Interior.Color = RGB(255, 255, 0)\n",
    "        End If\n",
    "        \n",
    "        '如果B列单元格包含“汇总”，则填充颜色RGB(255,192,0)\n",
    "        If InStr(1, Cells(i, 2), \"汇总\") > 0 Then\n",
    "            Range(Cells(i, 2), Cells(i, Columns.Count)).Interior.Color = RGB(255, 192, 0)\n",
    "        End If\n",
    "    Next i\n",
    "End Sub\n",
    "```\n",
    "\n",
    "\n"
   ]
  },
  {
   "cell_type": "markdown",
   "id": "9630490a",
   "metadata": {},
   "source": [
    "以下将区域经理区分出省经理"
   ]
  },
  {
   "cell_type": "code",
   "execution_count": 101,
   "id": "ec034120",
   "metadata": {},
   "outputs": [],
   "source": [
    "filePath = '同环比分表_%s.xlsx'%now"
   ]
  },
  {
   "cell_type": "code",
   "execution_count": 102,
   "id": "160dd9f0",
   "metadata": {},
   "outputs": [],
   "source": [
    "#省经理\n",
    "df_sheng = pd.read_excel(filePath,sheet_name=\"省经理全量店铺同比\")"
   ]
  },
  {
   "cell_type": "code",
   "execution_count": 103,
   "id": "219f9208",
   "metadata": {},
   "outputs": [
    {
     "data": {
      "text/plain": [
       "[0,\n",
       " 1,\n",
       " 2,\n",
       " 3,\n",
       " 4,\n",
       " 5,\n",
       " 6,\n",
       " 7,\n",
       " 8,\n",
       " 9,\n",
       " 10,\n",
       " 11,\n",
       " 12,\n",
       " 13,\n",
       " 14,\n",
       " 15,\n",
       " 16,\n",
       " 17,\n",
       " 18,\n",
       " 19,\n",
       " 20,\n",
       " 21,\n",
       " 22,\n",
       " 23,\n",
       " 24,\n",
       " 25,\n",
       " 26,\n",
       " 27,\n",
       " 28,\n",
       " 29,\n",
       " 30,\n",
       " 31,\n",
       " 32,\n",
       " 33]"
      ]
     },
     "execution_count": 103,
     "metadata": {},
     "output_type": "execute_result"
    }
   ],
   "source": [
    "list(df_sheng.index)"
   ]
  },
  {
   "cell_type": "code",
   "execution_count": 104,
   "id": "07f741f1",
   "metadata": {},
   "outputs": [],
   "source": [
    "shengjingli_list = list(df_sheng['Unnamed: 0'])\n",
    "#shengjingli_list = list(df_sheng.index)\n",
    "shengjingli_list.remove('本期未营业')\n",
    "shengjingli_list.remove('已解约')"
   ]
  },
  {
   "cell_type": "code",
   "execution_count": 105,
   "id": "60a3567b",
   "metadata": {},
   "outputs": [],
   "source": [
    "df_quyu = pd.read_excel(filePath,sheet_name=\"区域经理全量店铺同比\", index_col=0)\n",
    "df_quyu = df_quyu.iloc[:-1] #删除合计行"
   ]
  },
  {
   "cell_type": "code",
   "execution_count": 109,
   "id": "3804b291",
   "metadata": {},
   "outputs": [],
   "source": [
    "#省经理代管\n",
    "#df_quyu_sheng = df_quyu[(df_quyu['Unnamed: 0'].isin(shengjingli_list))]\n",
    "df_quyu_sheng = df_quyu[df_quyu.index.isin(shengjingli_list)]\n",
    "total = df_quyu_sheng[['本期店铺数', '同比期店铺数','店铺增减','本期实收金额','同比期实收金额',\n",
    "            '本期堂食实收','同比期堂食实收','本期外卖实收','同比期外卖实收','本期自提实收','同比期自提实收']].sum()\n",
    "total['实收同比'] = Tonghuanbi(total['本期实收金额'] , total['同比期实收金额'])\n",
    "total['堂食实收同比'] = Tonghuanbi(total['本期堂食实收'] , total['同比期堂食实收'])\n",
    "total['外卖实收同比'] = Tonghuanbi(total['本期外卖实收'] , total['同比期外卖实收'])\n",
    "total['自提实收同比'] = Tonghuanbi(total['本期自提实收'] , total['同比期自提实收'])\n",
    "total_df = pd.DataFrame(total).T.rename(index={0: '合计'})\n",
    "df_quyu_sheng = pd.concat([df_quyu_sheng, total_df])\n",
    "#区域经理\n",
    "#df_quyu_quyu = df_quyu[~(df_quyu['Unnamed: 0'].isin(shengjingli_list))]\n",
    "df_quyu_quyu = df_quyu[~df_quyu.index.isin(shengjingli_list)]\n",
    "total = df_quyu_quyu[['本期店铺数', '同比期店铺数','店铺增减','本期实收金额','同比期实收金额',\n",
    "            '本期堂食实收','同比期堂食实收','本期外卖实收','同比期外卖实收','本期自提实收','同比期自提实收']].sum()\n",
    "total['实收同比'] = Tonghuanbi(total['本期实收金额'] , total['同比期实收金额'])\n",
    "total['堂食实收同比'] = Tonghuanbi(total['本期堂食实收'] , total['同比期堂食实收'])\n",
    "total['外卖实收同比'] = Tonghuanbi(total['本期外卖实收'] , total['同比期外卖实收'])\n",
    "total['自提实收同比'] = Tonghuanbi(total['本期自提实收'] , total['同比期自提实收'])\n",
    "total_df = pd.DataFrame(total).T.rename(index={0: '合计'})\n",
    "df_quyu_quyu = pd.concat([df_quyu_quyu, total_df])\n",
    "\n"
   ]
  },
  {
   "cell_type": "code",
   "execution_count": 110,
   "id": "0da46f40",
   "metadata": {},
   "outputs": [],
   "source": [
    "with pd.ExcelWriter(filePath, mode='a',engine=\"openpyxl\") as writer:\n",
    "    df_quyu_sheng.to_excel(writer, sheet_name='区域经理全量店铺同比(省代)',index = True)\n",
    "    df_quyu_quyu.to_excel(writer, sheet_name='区域经理全量店铺同比(区域)',index = True)"
   ]
  },
  {
   "cell_type": "code",
   "execution_count": 111,
   "id": "0dc0b1e6",
   "metadata": {},
   "outputs": [],
   "source": [
    "df_quyu = pd.read_excel(filePath,sheet_name=\"区域经理全量店铺环比\", index_col=0)\n",
    "df_quyu = df_quyu.iloc[:-1] #删除合计行"
   ]
  },
  {
   "cell_type": "code",
   "execution_count": 113,
   "id": "e4653f45",
   "metadata": {},
   "outputs": [],
   "source": [
    "#省代\n",
    "#df_quyu_sheng = df_quyu[(df_quyu['Unnamed: 0'].isin(shengjingli_list))]\n",
    "df_quyu_sheng = df_quyu[df_quyu.index.isin(shengjingli_list)]\n",
    "\n",
    "total = df_quyu_sheng[['本期店铺数', '环比期店铺数','店铺增减','本期实收金额','环比期实收金额',\n",
    "            '本期堂食实收','环比期堂食实收','本期外卖实收','环比期外卖实收','本期自提实收','环比期自提实收']].sum()\n",
    "total['实收环比'] = Tonghuanbi(total['本期实收金额'] , total['环比期实收金额'])\n",
    "total['堂食实收环比'] = Tonghuanbi(total['本期堂食实收'] , total['环比期堂食实收'])\n",
    "total['外卖实收环比'] = Tonghuanbi(total['本期外卖实收'] , total['环比期外卖实收'])\n",
    "total['自提实收环比'] = Tonghuanbi(total['本期自提实收'] , total['环比期自提实收'])\n",
    "total_df = pd.DataFrame(total).T.rename(index={0: '合计'})\n",
    "df_quyu_sheng = pd.concat([df_quyu_sheng, total_df])\n",
    "#区域经理（区域）\n",
    "#df_quyu_quyu = df_quyu[~(df_quyu['Unnamed: 0'].isin(shengjingli_list))]\n",
    "df_quyu_quyu = df_quyu[~df_quyu.index.isin(shengjingli_list)]\n",
    "total = df_quyu_quyu[['本期店铺数', '环比期店铺数','店铺增减','本期实收金额','环比期实收金额',\n",
    "            '本期堂食实收','环比期堂食实收','本期外卖实收','环比期外卖实收','本期自提实收','环比期自提实收']].sum()\n",
    "total['实收环比'] = Tonghuanbi(total['本期实收金额'] , total['环比期实收金额'])\n",
    "total['堂食实收环比'] = Tonghuanbi(total['本期堂食实收'] , total['环比期堂食实收'])\n",
    "total['外卖实收环比'] = Tonghuanbi(total['本期外卖实收'] , total['环比期外卖实收'])\n",
    "total['自提实收环比'] = Tonghuanbi(total['本期自提实收'] , total['环比期自提实收'])\n",
    "total_df = pd.DataFrame(total).T.rename(index={0: '合计'})\n",
    "df_quyu_quyu = pd.concat([df_quyu_quyu, total_df])\n",
    "\n",
    "with pd.ExcelWriter(filePath, mode='a',engine=\"openpyxl\") as writer:\n",
    "    df_quyu_sheng.to_excel(writer, sheet_name='区域经理全量店铺环比(省代)',index = True)\n",
    "    df_quyu_quyu.to_excel(writer, sheet_name='区域经理全量店铺环比(区域)',index = True)"
   ]
  },
  {
   "cell_type": "code",
   "execution_count": 114,
   "id": "cef9d4d6",
   "metadata": {},
   "outputs": [],
   "source": [
    "df_quyu = pd.read_excel(filePath,sheet_name=\"区域经理存量店铺同比\", index_col=0)\n",
    "df_quyu = df_quyu.iloc[:-1] #删除合计行"
   ]
  },
  {
   "cell_type": "code",
   "execution_count": null,
   "id": "67059ef2",
   "metadata": {},
   "outputs": [],
   "source": [
    "#省经理代管\n",
    "#df_quyu_sheng = df_quyu[(df_quyu['Unnamed: 0'].isin(shengjingli_list))]\n",
    "df_quyu_sheng = df_quyu[df_quyu.index.isin(shengjingli_list)]\n",
    "total = df_quyu_sheng[['本期店铺数', '同比期店铺数','店铺增减','本期实收金额','同比期实收金额',\n",
    "            '本期堂食实收','同比期堂食实收','本期外卖实收','同比期外卖实收','本期自提实收','同比期自提实收']].sum()\n",
    "total['实收同比'] = Tonghuanbi(total['本期实收金额'] , total['同比期实收金额'])\n",
    "total['堂食实收同比'] = Tonghuanbi(total['本期堂食实收'] , total['同比期堂食实收'])\n",
    "total['外卖实收同比'] = Tonghuanbi(total['本期外卖实收'] , total['同比期外卖实收'])\n",
    "total['自提实收同比'] = Tonghuanbi(total['本期自提实收'] , total['同比期自提实收'])\n",
    "total_df = pd.DataFrame(total).T.rename(index={0: '合计'})\n",
    "df_quyu_sheng = pd.concat([df_quyu_sheng, total_df])\n",
    "#区域经理\n",
    "#df_quyu_quyu = df_quyu[~(df_quyu['Unnamed: 0'].isin(shengjingli_list))]\n",
    "df_quyu_quyu = df_quyu[~df_quyu.index.isin(shengjingli_list)]\n",
    "total = df_quyu_quyu[['本期店铺数', '同比期店铺数','店铺增减','本期实收金额','同比期实收金额',\n",
    "            '本期堂食实收','同比期堂食实收','本期外卖实收','同比期外卖实收','本期自提实收','同比期自提实收']].sum()\n",
    "total['实收同比'] = Tonghuanbi(total['本期实收金额'] , total['同比期实收金额'])\n",
    "total['堂食实收同比'] = Tonghuanbi(total['本期堂食实收'] , total['同比期堂食实收'])\n",
    "total['外卖实收同比'] = Tonghuanbi(total['本期外卖实收'] , total['同比期外卖实收'])\n",
    "total['自提实收同比'] = Tonghuanbi(total['本期自提实收'] , total['同比期自提实收'])\n",
    "total_df = pd.DataFrame(total).T.rename(index={0: '合计'})\n",
    "df_quyu_quyu = pd.concat([df_quyu_quyu, total_df])\n",
    "\n",
    "with pd.ExcelWriter(filePath, mode='a',engine=\"openpyxl\") as writer:\n",
    "    df_quyu_sheng.to_excel(writer, sheet_name='区域经理存量店铺同比(省代)',index = True)\n",
    "    df_quyu_quyu.to_excel(writer, sheet_name='区域经理存量店铺同比(区域)',index = True)"
   ]
  },
  {
   "cell_type": "code",
   "execution_count": null,
   "id": "01e0f044",
   "metadata": {},
   "outputs": [],
   "source": [
    "df_quyu = pd.read_excel(filePath,sheet_name=\"区域经理存量店铺环比\", index_col=0)\n",
    "df_quyu = df_quyu.iloc[:-1] #删除合计行"
   ]
  },
  {
   "cell_type": "code",
   "execution_count": null,
   "id": "b0a144e5",
   "metadata": {},
   "outputs": [],
   "source": [
    "#df_quyu_sheng = df_quyu[(df_quyu['Unnamed: 0'].isin(shengjingli_list))]\n",
    "df_quyu_sheng = df_quyu[df_quyu.index.isin(shengjingli_list)]\n",
    "total = df_quyu_sheng[['本期店铺数', '环比期店铺数','店铺增减','本期实收金额','环比期实收金额',\n",
    "            '本期堂食实收','环比期堂食实收','本期外卖实收','环比期外卖实收','本期自提实收','环比期自提实收']].sum()\n",
    "total['实收环比'] = Tonghuanbi(total['本期实收金额'] , total['环比期实收金额'])\n",
    "total['堂食实收环比'] = Tonghuanbi(total['本期堂食实收'] , total['环比期堂食实收'])\n",
    "total['外卖实收环比'] = Tonghuanbi(total['本期外卖实收'] , total['环比期外卖实收'])\n",
    "total['自提实收环比'] = Tonghuanbi(total['本期自提实收'] , total['环比期自提实收'])\n",
    "total_df = pd.DataFrame(total).T.rename(index={0: '合计'})\n",
    "df_quyu_sheng = pd.concat([df_quyu_sheng, total_df])\n",
    "#区域经理（区域）\n",
    "#df_quyu_quyu = df_quyu[~(df_quyu['Unnamed: 0'].isin(shengjingli_list))]\n",
    "#df_quyu_quyu = df_quyu[~(df_quyu['Unnamed: 0'].isin(shengjingli_list))]\n",
    "df_quyu_quyu = df_quyu[~df_quyu.index.isin(shengjingli_list)]\n",
    "total = df_quyu_quyu[['本期店铺数', '环比期店铺数','店铺增减','本期实收金额','环比期实收金额',\n",
    "            '本期堂食实收','环比期堂食实收','本期外卖实收','环比期外卖实收','本期自提实收','环比期自提实收']].sum()\n",
    "total['实收环比'] = Tonghuanbi(total['本期实收金额'] , total['环比期实收金额'])\n",
    "total['堂食实收环比'] = Tonghuanbi(total['本期堂食实收'] , total['环比期堂食实收'])\n",
    "total['外卖实收环比'] = Tonghuanbi(total['本期外卖实收'] , total['环比期外卖实收'])\n",
    "total['自提实收环比'] = Tonghuanbi(total['本期自提实收'] , total['环比期自提实收'])\n",
    "total_df = pd.DataFrame(total).T.rename(index={0: '合计'})\n",
    "df_quyu_quyu = pd.concat([df_quyu_quyu, total_df])\n",
    "\n",
    "with pd.ExcelWriter(filePath, mode='a',engine=\"openpyxl\") as writer:\n",
    "    df_quyu_sheng.to_excel(writer, sheet_name='区域经理存量店铺环比(省代)',index = True)\n",
    "    df_quyu_quyu.to_excel(writer, sheet_name='区域经理存量店铺环比(区域)',index = True)"
   ]
  },
  {
   "cell_type": "code",
   "execution_count": null,
   "id": "992662b0",
   "metadata": {
    "scrolled": true
   },
   "outputs": [],
   "source": [
    "df_quyu_quyu"
   ]
  },
  {
   "cell_type": "markdown",
   "id": "1c3a4eba",
   "metadata": {},
   "source": [
    "以下合并同环比分表"
   ]
  },
  {
   "cell_type": "code",
   "execution_count": null,
   "id": "f09d9395",
   "metadata": {},
   "outputs": [],
   "source": [
    "import openpyxl,time"
   ]
  },
  {
   "cell_type": "code",
   "execution_count": null,
   "id": "2603f2bf",
   "metadata": {},
   "outputs": [],
   "source": [
    "#同环比分表\n",
    "#file = r'C:\\Users\\admin\\OneDrive\\甜啦啦\\同环比分表.xlsx'\n",
    "file = '同环比分表_%s.xlsx'%now\n",
    "file2 = r'C:\\Users\\admin\\OneDrive\\甜啦啦\\甜啦啦代码\\代码底表\\大区省区域经理分表模板.xlsx'\n",
    "#file2 = r'C:\\Users\\admin\\OneDrive\\甜啦啦\\甜啦啦代码\\代码底表\\大区省区域经理分表模板_bak.xlsx'"
   ]
  },
  {
   "cell_type": "code",
   "execution_count": null,
   "id": "da6ad85c",
   "metadata": {},
   "outputs": [],
   "source": [
    "source_file = openpyxl.load_workbook(file)\n",
    "target_file = openpyxl.load_workbook(file2)"
   ]
  },
  {
   "cell_type": "code",
   "execution_count": null,
   "id": "3da4387f",
   "metadata": {},
   "outputs": [],
   "source": [
    "#大区经理\n",
    "target_sheet = target_file[\"大区经理排名\"]\n",
    "\n",
    "source_sheet = source_file[\"大区经理全量店铺同比\"]\n",
    "\n",
    "for r in range(1, source_sheet.max_row + 1):\n",
    "    for c in range(1, source_sheet.max_column + 1):\n",
    "        target_sheet.cell(row=r+2, column=c+2).value = source_sheet.cell(row=r, column=c).value\n",
    "\n",
    "source_sheet = source_file[\"大区经理全量店铺环比\"]\n",
    "\n",
    "for r in range(1, source_sheet.max_row + 1):\n",
    "    for c in range(1, source_sheet.max_column + 1):\n",
    "        target_sheet.cell(row=r+2, column=c+21).value = source_sheet.cell(row=r, column=c).value\n",
    "\n",
    "source_sheet = source_file[\"大区经理存量店铺同比\"]\n",
    "\n",
    "for r in range(1, source_sheet.max_row + 1):\n",
    "    for c in range(1, source_sheet.max_column + 1):\n",
    "        target_sheet.cell(row=r+34, column=c+2).value = source_sheet.cell(row=r, column=c).value\n",
    "\n",
    "source_sheet = source_file[\"大区经理存量店铺环比\"]\n",
    "\n",
    "for r in range(1, source_sheet.max_row + 1):\n",
    "    for c in range(1, source_sheet.max_column + 1):\n",
    "        target_sheet.cell(row=r+34, column=c+21).value = source_sheet.cell(row=r, column=c).value\n",
    "\n",
    "target_file.save(\"大区省区域经理分表输出.xlsx\")\n"
   ]
  },
  {
   "cell_type": "code",
   "execution_count": null,
   "id": "fc20e0ef",
   "metadata": {},
   "outputs": [],
   "source": [
    "#省经理\n",
    "target_sheet = target_file[\"省经理排名\"]\n",
    "\n",
    "source_sheet = source_file[\"省经理全量店铺同比\"]\n",
    "\n",
    "for r in range(1, source_sheet.max_row + 1):\n",
    "    for c in range(1, source_sheet.max_column + 1):\n",
    "        target_sheet.cell(row=r+2, column=c+2).value = source_sheet.cell(row=r, column=c).value\n",
    "\n",
    "source_sheet = source_file[\"省经理全量店铺环比\"]\n",
    "\n",
    "for r in range(1, source_sheet.max_row + 1):\n",
    "    for c in range(1, source_sheet.max_column + 1):\n",
    "        target_sheet.cell(row=r+2, column=c+21).value = source_sheet.cell(row=r, column=c).value\n",
    "\n",
    "source_sheet = source_file[\"省经理存量店铺同比\"]\n",
    "\n",
    "for r in range(1, source_sheet.max_row + 1):\n",
    "    for c in range(1, source_sheet.max_column + 1):\n",
    "        target_sheet.cell(row=r+58, column=c+2).value = source_sheet.cell(row=r, column=c).value\n",
    "\n",
    "source_sheet = source_file[\"省经理存量店铺环比\"]\n",
    "\n",
    "for r in range(1, source_sheet.max_row + 1):\n",
    "    for c in range(1, source_sheet.max_column + 1):\n",
    "        target_sheet.cell(row=r+58, column=c+21).value = source_sheet.cell(row=r, column=c).value\n",
    "\n",
    "#target_file.save(\"大区省区域经理分表输出.xlsx\")\n"
   ]
  },
  {
   "cell_type": "code",
   "execution_count": null,
   "id": "e392b28c",
   "metadata": {},
   "outputs": [],
   "source": [
    "#区域经理(区域)\n",
    "target_sheet = target_file[\"区域经理排名\"]\n",
    "\n",
    "source_sheet = source_file[\"区域经理全量店铺同比(区域)\"]\n",
    "\n",
    "for r in range(1, source_sheet.max_row + 1):\n",
    "    for c in range(1, source_sheet.max_column + 1):\n",
    "        target_sheet.cell(row=r+2, column=c+2).value = source_sheet.cell(row=r, column=c).value\n",
    "\n",
    "source_sheet = source_file[\"区域经理全量店铺环比(区域)\"]\n",
    "\n",
    "for r in range(1, source_sheet.max_row + 1):\n",
    "    for c in range(1, source_sheet.max_column + 1):\n",
    "        target_sheet.cell(row=r+2, column=c+21).value = source_sheet.cell(row=r, column=c).value\n",
    "\n",
    "source_sheet = source_file[\"区域经理存量店铺同比(区域)\"]\n",
    "\n",
    "for r in range(1, source_sheet.max_row + 1):\n",
    "    for c in range(1, source_sheet.max_column + 1):\n",
    "        target_sheet.cell(row=r+143, column=c+2).value = source_sheet.cell(row=r, column=c).value\n",
    "\n",
    "source_sheet = source_file[\"区域经理存量店铺环比(区域)\"]\n",
    "\n",
    "for r in range(1, source_sheet.max_row + 1):\n",
    "    for c in range(1, source_sheet.max_column + 1):\n",
    "        target_sheet.cell(row=r+143, column=c+21).value = source_sheet.cell(row=r, column=c).value\n",
    "\n",
    "#区域经理(省代)        \n",
    "source_sheet = source_file[\"区域经理全量店铺同比(省代)\"]\n",
    "\n",
    "for r in range(1, source_sheet.max_row + 1):\n",
    "    for c in range(1, source_sheet.max_column + 1):\n",
    "        target_sheet.cell(row=r+283, column=c+2).value = source_sheet.cell(row=r, column=c).value\n",
    "\n",
    "source_sheet = source_file[\"区域经理全量店铺环比(省代)\"]\n",
    "\n",
    "for r in range(1, source_sheet.max_row + 1):\n",
    "    for c in range(1, source_sheet.max_column + 1):\n",
    "        target_sheet.cell(row=r+283, column=c+21).value = source_sheet.cell(row=r, column=c).value\n",
    "\n",
    "source_sheet = source_file[\"区域经理存量店铺同比(省代)\"]\n",
    "\n",
    "for r in range(1, source_sheet.max_row + 1):\n",
    "    for c in range(1, source_sheet.max_column + 1):\n",
    "        target_sheet.cell(row=r+334, column=c+2).value = source_sheet.cell(row=r, column=c).value\n",
    "\n",
    "source_sheet = source_file[\"区域经理存量店铺环比(省代)\"]\n",
    "\n",
    "for r in range(1, source_sheet.max_row + 1):\n",
    "    for c in range(1, source_sheet.max_column + 21):\n",
    "        target_sheet.cell(row=r+334, column=c+21).value = source_sheet.cell(row=r, column=c).value        \n",
    "        \n",
    "        \n",
    "        \n",
    "target_file.save(\"大区省区域经理分表输出_%s.xlsx\"%now)"
   ]
  },
  {
   "cell_type": "code",
   "execution_count": null,
   "id": "be6c0026",
   "metadata": {},
   "outputs": [],
   "source": [
    "\"大区省区域经理分表输出_%s.xlsx\"%now"
   ]
  },
  {
   "cell_type": "code",
   "execution_count": null,
   "id": "67f546b2",
   "metadata": {},
   "outputs": [],
   "source": [
    "file"
   ]
  },
  {
   "cell_type": "markdown",
   "id": "fcd2034d",
   "metadata": {},
   "source": [
    "Sub ConvertTextToNumber()\n",
    "    Dim rng As Range\n",
    "    Dim col As Variant\n",
    "    '定义一个数组，存储要转换的列号\n",
    "    Dim colsArray(1 To 3) As Variant\n",
    "    colsArray(1) = \"I\"\n",
    "    colsArray(2) = \"L\"\n",
    "    colsArray(3) = \"O\"\n",
    "\tcolsArray(4) = \"R\"\n",
    "\tcolsArray(5) = \"AB\"\n",
    "\tcolsArray(6) = \"AE\"\n",
    "\tcolsArray(7) = \"AH\"\n",
    "\tcolsArray(8) = \"AK\"\n",
    "    '遍历数组中的每个列号\n",
    "    For Each col In colsArray\n",
    "        '获取该列的范围\n",
    "        Set rng = Range(col & \"1:\" & col & Rows.Count)\n",
    "        '将单元格格式改为常规\n",
    "        rng.NumberFormat = \"General\"\n",
    "        '使用Value属性将文本数字转换为常规数字\n",
    "        rng.Value = rng.Value\n",
    "    Next col\n",
    "End Sub\n",
    "\n"
   ]
  },
  {
   "cell_type": "markdown",
   "id": "81e49101",
   "metadata": {},
   "source": [
    "\n",
    "Sub SetConditionalFormat()\n",
    "    Dim rng As Range\n",
    "    Dim col As Variant '修改这里\n",
    "    Dim lastVal As Variant\n",
    "    '获取已有选区范围\n",
    "    Set rng = Selection\n",
    "    '定义一个数组，存储要作用的列号\n",
    "    Dim colsArray(1 To 4) As Variant '修改这里\n",
    "    colsArray(1) = 9\n",
    "    colsArray(2) = 12\n",
    "    colsArray(3) = 15\n",
    "    colsArray(4) = 18\n",
    "    '遍历数组中的每个列号\n",
    "    For Each col In colsArray\n",
    "        '获取最下方的值\n",
    "        lastVal = rng.Cells(rng.Rows.Count, col).Value\n",
    "        '如果是数字，则设置条件格式\n",
    "        If IsNumeric(lastVal) Then\n",
    "            '添加条件格式规则，如果小于最下方的值，则字体为红色\n",
    "            rng.Columns(col).FormatConditions.Add Type:=xlCellValue, Operator:=xlLess, Formula1:=lastVal\n",
    "            rng.Columns(col).FormatConditions(1).Font.Color = vbRed\n",
    "        End If\n",
    "    Next col\n",
    "End Sub\n",
    "\n"
   ]
  },
  {
   "cell_type": "code",
   "execution_count": null,
   "id": "72f20edb",
   "metadata": {},
   "outputs": [],
   "source": []
  }
 ],
 "metadata": {
  "kernelspec": {
   "display_name": "Python 3 (ipykernel)",
   "language": "python",
   "name": "python3"
  },
  "language_info": {
   "codemirror_mode": {
    "name": "ipython",
    "version": 3
   },
   "file_extension": ".py",
   "mimetype": "text/x-python",
   "name": "python",
   "nbconvert_exporter": "python",
   "pygments_lexer": "ipython3",
   "version": "3.9.13"
  }
 },
 "nbformat": 4,
 "nbformat_minor": 5
}

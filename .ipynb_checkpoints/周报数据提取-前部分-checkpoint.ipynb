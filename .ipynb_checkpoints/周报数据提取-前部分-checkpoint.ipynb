{
 "cells": [
  {
   "cell_type": "code",
   "execution_count": 1,
   "id": "02a8d8c8",
   "metadata": {},
   "outputs": [],
   "source": [
    "import openpyxl"
   ]
  },
  {
   "cell_type": "code",
   "execution_count": 2,
   "id": "c1287d33",
   "metadata": {},
   "outputs": [],
   "source": [
    "filePath = r'C:\\Users\\admin\\Desktop\\2023年05月第1周\\汇总表2023.5.1~5.7.xlsx'\n",
    "number = 7"
   ]
  },
  {
   "cell_type": "code",
   "execution_count": 3,
   "id": "5476465f",
   "metadata": {
    "scrolled": true
   },
   "outputs": [
    {
     "name": "stdout",
     "output_type": "stream",
     "text": [
      "流水金额\n",
      "本期：60731521.08\n",
      "环比期：51652169.78\n",
      "环比增长：0.1758\n",
      "同比期：47059541.64\n",
      "同比增长：0.2905\n",
      "实收金额\n",
      "本期：55204171.56\n",
      "环比期：47048197.81\n",
      "环比增长：0.1734\n",
      "同比期：42255162.35\n",
      "同比增长：0.3064\n",
      "优惠金额\n",
      "本期：5534063.32\n",
      "环比期：4609002.97\n",
      "环比增长：0.2007\n",
      "同比期：4804379.29\n",
      "同比增长：0.1519\n",
      "实收率\n",
      "本期：0.909\n",
      "环比期：0.9109\n",
      "环比增长：-0.0019\n",
      "同比期：0.8979\n",
      "同比增长：0.0111\n",
      "平均营业天数\n",
      "本期↓\n",
      "本期：3.38\n",
      "营业天数占比：48.30%\n",
      "产生业绩店铺数8436\n",
      "整周期营业店铺数:3750\n",
      "占比整体：0.4445\n",
      "环比差额：-3.4124\n",
      "环比期↓\n",
      "环比期：6.79\n",
      "营业天数占比：97.05%\n",
      "产生业绩店铺数：4201\n",
      "整周期营业店铺数:3828\n",
      "占比整体：0.9112\n",
      "同比期↓\n",
      "同比期：3.29\n",
      "营业天数占比：46.98%\n",
      "产生业绩店铺数：7072\n",
      "整周期营业店铺数:2988\n",
      "占比整体：0.4225\n",
      "同比差额：0.0929\n",
      "本期单数：4457568\n",
      "环比期单数：3831773\n",
      "环比单量增长：0.1633\n",
      "同比期单数：3811190\n",
      "同比单量增长：0.1696\n",
      "账单均值\n",
      "本期：12.38\n",
      "环比期：12.28\n",
      "环比单均提升：0.11\n",
      "同比期：11.09\n",
      "同比单均提升：1.3\n",
      "----------\n",
      "实收组成：（第八页）\n",
      "堂食实收\n",
      "本期：44987039.08\n",
      "环比期：38701838.35\n",
      "同比期：33906644.08\n",
      "收入构成中堂食同比上升32.68%、环比上升16.24%\n",
      "外卖实收\n",
      "本期：6439763.99\n",
      "环比期：5242009.09\n",
      "同比期：5021790.23\n",
      "收入构成中外卖同比上升28.24%、环比上升22.85%\n",
      "本期外卖占实收比11.67%\n",
      "本期产生销售店铺5302家，外卖产生销售店铺2518家，占比0.4749151263674085\n",
      "自提实收\n",
      "本期：3807262.53\n",
      "环比期：3129493.47\n",
      "同比期：3330879.88\n",
      "美团\n",
      "本期：8325421.51\n",
      "环比期：6825888.61\n",
      "同比期：6372929.81\n",
      "饿了么\n",
      "本期：2727590.85\n",
      "环比期：2214573.85\n",
      "同比期：2133252.52\n",
      "其它\n",
      "本期：1936.8\n",
      "环比期：4633.0\n",
      "同比期：583\n",
      "外卖实收\n",
      "本期：6439763.99\n",
      "环比期：5242009.09\n",
      "同比期：5021790.23\n",
      "收入构成中外卖同比上升28.24%、环比上升22.85%\n",
      "本期外卖占实收比11.67%\n",
      "本期产生销售店铺4218家，外卖产生销售店铺2518家，占比0.4749151263674085\n",
      "外卖实收\n",
      "本期：6439763.99\n",
      "环比期：5242009.09\n",
      "同比期：5021790.23\n",
      "收入构成中外卖同比上升28.24%、环比上升22.85%\n",
      "本期外卖占实收比11.67%\n",
      "本期产生销售店铺4218家，外卖产生销售店铺2518家，占比0.0061786862316884645\n",
      "外卖实收\n",
      "本期：6439763.99\n",
      "环比期：5242009.09\n",
      "同比期：5021790.23\n",
      "收入构成中外卖同比上升28.24%、环比上升22.85%\n",
      "本期外卖占实收比11.67%\n",
      "本期产生销售店铺4218家，外卖产生销售店铺2518家，占比0.5969653864390706\n"
     ]
    }
   ],
   "source": [
    "import sys\n",
    "class Logger(object):\n",
    "    def __init__(self, file_path: str = \"./Default.log\"):\n",
    "        self.terminal = sys.stdout\n",
    "        self.log = open(file_path, \"a\")\n",
    "    def write(self, message):\n",
    "        self.terminal.write(message)\n",
    "        self.log.write(message)\n",
    "    def flush(self):\n",
    "        pass\n",
    "\n",
    "sys.stdout = Logger(\"output.txt\")"
   ]
  },
  {
   "cell_type": "code",
   "execution_count": 4,
   "id": "a3959dfa",
   "metadata": {},
   "outputs": [],
   "source": [
    "def sum_range(range):\n",
    "    total = 0\n",
    "    # 遍历区域对象中的单元格\n",
    "    # 获取区域对象\n",
    "    rng = ws[range]\n",
    "    for row in rng:\n",
    "        for cell in row:\n",
    "            # 累加单元格的值，如果不是数字则忽略\n",
    "            try:\n",
    "                total += cell.value\n",
    "            except TypeError:\n",
    "                pass\n",
    "    # 返回和\n",
    "    return total"
   ]
  },
  {
   "cell_type": "code",
   "execution_count": 5,
   "id": "140efb6e",
   "metadata": {},
   "outputs": [],
   "source": [
    "def count_number (range,number): # 定义函数名和参数\n",
    "  count = 0 # 创建一个变量用来存储计数结果\n",
    "  cells = ws [range] # 获取范围内的所有单元格\n",
    "  for row in cells: # 遍历每一行\n",
    "    for cell in row: # 遍历每一行的每一个单元格\n",
    "      if cell.value == number: # 如果单元格的值等于7\n",
    "        count += 1 # 计数加一\n",
    "  return count # 返回计数结果"
   ]
  },
  {
   "cell_type": "code",
   "execution_count": 6,
   "id": "29101039",
   "metadata": {},
   "outputs": [],
   "source": [
    "def average_nonzero(range): # 定义函数名和参数\n",
    "  total = 0 # 创建一个变量用来存储非0值的总和\n",
    "  count = 0 # 创建一个变量用来存储非0值的个数\n",
    "  cells = ws [range] # 获取范围内的所有单元格\n",
    "  for row in cells: # 遍历每一行\n",
    "    for cell in row: # 遍历每一行的每一个单元格\n",
    "      if cell.value != 0: # 如果单元格的值不等于0\n",
    "        total += cell.value # 总和加上单元格的值\n",
    "        count += 1 # 个数加一\n",
    "  if count == 0: # 如果没有非0值\n",
    "    return None # 返回空值\n",
    "  else: # 如果有非0值\n",
    "    return total / count # 返回平均数"
   ]
  },
  {
   "cell_type": "code",
   "execution_count": 7,
   "id": "08f806a3",
   "metadata": {},
   "outputs": [],
   "source": [
    "#计算非0单元格数量\n",
    "def count_nonzero(range):\n",
    "    count = 0\n",
    "    # 获取范围内的所有单元格\n",
    "    cells = ws[range]\n",
    "    # 遍历每一行的每一个单元格\n",
    "    for row in cells:\n",
    "        for cell in row:\n",
    "            if cell.value is not None and cell.value != 0:\n",
    "                # 如果单元格的值等于指定数字，计数加一\n",
    "                count += 1\n",
    "    \n",
    "    # 返回计数结果\n",
    "    return count"
   ]
  },
  {
   "cell_type": "code",
   "execution_count": 8,
   "id": "75c3b14f",
   "metadata": {
    "scrolled": true
   },
   "outputs": [],
   "source": [
    "wb = openpyxl.load_workbook(filePath,data_only=True)\n",
    "ws = wb['总表']"
   ]
  },
  {
   "cell_type": "code",
   "execution_count": 9,
   "id": "b44fad27",
   "metadata": {},
   "outputs": [
    {
     "data": {
      "text/plain": [
       "'\\n#公式值\\nfrom win32com.client import Dispatch\\ndef just_open(filename):\\n  xlApp = Dispatch (\"Excel.Application\")\\n  xlApp.Visible = False\\n  xlBook = xlApp.Workbooks.Open (filename)\\n  xlBook.Save ()\\n  xlBook.Close ()\\njust_open(filePath)\\n'"
      ]
     },
     "execution_count": 9,
     "metadata": {},
     "output_type": "execute_result"
    }
   ],
   "source": [
    "'''\n",
    "#公式值\n",
    "from win32com.client import Dispatch\n",
    "def just_open(filename):\n",
    "  xlApp = Dispatch (\"Excel.Application\")\n",
    "  xlApp.Visible = False\n",
    "  xlBook = xlApp.Workbooks.Open (filename)\n",
    "  xlBook.Save ()\n",
    "  xlBook.Close ()\n",
    "just_open(filePath)\n",
    "'''"
   ]
  },
  {
   "cell_type": "code",
   "execution_count": null,
   "id": "1ecacf8b",
   "metadata": {},
   "outputs": [],
   "source": []
  },
  {
   "cell_type": "code",
   "execution_count": 10,
   "id": "59d97382",
   "metadata": {},
   "outputs": [
    {
     "data": {
      "text/plain": [
       "5307"
      ]
     },
     "execution_count": 10,
     "metadata": {},
     "output_type": "execute_result"
    }
   ],
   "source": [
    "#最大行数\n",
    "ws.max_row"
   ]
  },
  {
   "cell_type": "code",
   "execution_count": 11,
   "id": "92134465",
   "metadata": {},
   "outputs": [],
   "source": [
    "print('流水金额')\n",
    "benqi = round(sum_range('AA5:AA%s'%ws.max_row),2)\n",
    "huanbiqi = round(sum_range('AB5:AB%s'%ws.max_row),2)\n",
    "tongbiqi = round(sum_range('AE5:AE%s'%ws.max_row),2)\n",
    "print('本期：%s'%benqi)\n",
    "print('环比期：%s'%huanbiqi)\n",
    "print('环比增长：%s'%(round((benqi-huanbiqi)/huanbiqi,4)))\n",
    "print('同比期：%s'%tongbiqi)\n",
    "print('同比增长：%s'%(round((benqi-tongbiqi)/tongbiqi,4)))\n",
    "\n",
    "print('实收金额')\n",
    "benqi = round(sum_range('AG5:AG%s'%ws.max_row),2)\n",
    "huanbiqi = round(sum_range('AH5:AH%s'%ws.max_row),2)\n",
    "tongbiqi = round(sum_range('AK5:AK%s'%ws.max_row),2)\n",
    "print('本期：%s'%benqi)\n",
    "print('环比期：%s'%huanbiqi)\n",
    "print('环比增长：%s'%(round((benqi-huanbiqi)/huanbiqi,4)))\n",
    "print('同比期：%s'%tongbiqi)\n",
    "print('同比增长：%s'%(round((benqi-tongbiqi)/tongbiqi,4)))\n",
    "\n",
    "print('优惠金额')\n",
    "benqi = round(sum_range('AM5:AM%s'%ws.max_row),2)\n",
    "huanbiqi = round(sum_range('AN5:AN%s'%ws.max_row),2)\n",
    "tongbiqi = round(sum_range('AQ5:AQ%s'%ws.max_row),2)\n",
    "print('本期：%s'%benqi)\n",
    "print('环比期：%s'%huanbiqi)\n",
    "print('环比增长：%s'%(round((benqi-huanbiqi)/huanbiqi,4)))\n",
    "print('同比期：%s'%tongbiqi)\n",
    "print('同比增长：%s'%(round((benqi-tongbiqi)/tongbiqi,4)))\n",
    "\n",
    "print('实收率')\n",
    "benqi = round(sum_range('AG5:AG%s'%ws.max_row)/sum_range('AA5:AA%s'%ws.max_row),4)\n",
    "huanbiqi = round(sum_range('AH5:AH%s'%ws.max_row)/sum_range('AB5:AB%s'%ws.max_row),4)\n",
    "tongbiqi = round(sum_range('AK5:AK%s'%ws.max_row)/sum_range('AE5:AE%s'%ws.max_row),4)\n",
    "print('本期：%s'%benqi)\n",
    "print('环比期：%s'%huanbiqi)\n",
    "print('环比增长：%s'%(round((benqi-huanbiqi),4)))\n",
    "print('同比期：%s'%tongbiqi)\n",
    "print('同比增长：%s'%(round((benqi-tongbiqi),4)))"
   ]
  },
  {
   "cell_type": "code",
   "execution_count": 12,
   "id": "c0c141e9",
   "metadata": {
    "scrolled": false
   },
   "outputs": [],
   "source": [
    "print('平均营业天数')\n",
    "print('本期↓')\n",
    "benqi = sum_range('O5:O%s'%ws.max_row)/sum_range('R5:R%s'%ws.max_row)\n",
    "huanbiqi = sum_range('P5:P%s'%ws.max_row)/sum_range('S5:S%s'%ws.max_row)\n",
    "tongbiqi = sum_range('Q5:Q%s'%ws.max_row)/sum_range('T5:T%s'%ws.max_row)\n",
    "print('本期：%s'%round(benqi,2))\n",
    "print('营业天数占比：%s'%\"%.2f%%\" % (benqi*100/number))\n",
    "print('产生业绩店铺数%s'%sum_range('R5:R%s'%ws.max_row))\n",
    "#全营业店铺数\n",
    "num = count_number('o5:o%s'%ws.max_row,number)\n",
    "print('整周期营业店铺数:%s'%num)\n",
    "print('占比整体：%s'%round((num/sum_range('R5:R%s'%ws.max_row)),4))\n",
    "print('环比差额：%s'%round((benqi-huanbiqi),4))\n",
    "\n",
    "print('环比期↓')\n",
    "print('环比期：%s'%round(huanbiqi,2))\n",
    "print('营业天数占比：%s'%\"%.2f%%\" % (huanbiqi*100/number))\n",
    "print('产生业绩店铺数：%s'%sum_range('S5:S%s'%ws.max_row))\n",
    "num = count_number('p5:p%s'%ws.max_row,number)\n",
    "print('整周期营业店铺数:%s'%num)\n",
    "print('占比整体：%s'%round((num/sum_range('s5:s%s'%ws.max_row)),4))\n",
    "\n",
    "print('同比期↓')\n",
    "print('同比期：%s'%round(tongbiqi,2))\n",
    "print('营业天数占比：%s'%\"%.2f%%\" % (tongbiqi*100/number))\n",
    "print('产生业绩店铺数：%s'%sum_range('T5:T%s'%ws.max_row))\n",
    "num = count_number('q5:q%s'%ws.max_row,number)\n",
    "print('整周期营业店铺数:%s'%num)\n",
    "print('占比整体：%s'%round((num/sum_range('T5:T%s'%ws.max_row)),4))\n",
    "print('同比差额：%s'%round((benqi-tongbiqi),4))"
   ]
  },
  {
   "cell_type": "code",
   "execution_count": 13,
   "id": "33bf7ec9",
   "metadata": {},
   "outputs": [],
   "source": [
    "#大盘整体概况-单数\n",
    "benqi = sum_range('AS5:AS%s'%ws.max_row)\n",
    "shangqi = sum_range('AT5:AT%s'%ws.max_row)\n",
    "tongbiqi = sum_range('AW5:AW%s'%ws.max_row)\n",
    "print('本期单数：%s'%benqi)\n",
    "print('环比期单数：%s'%shangqi)\n",
    "s = (benqi-shangqi)/shangqi\n",
    "print('环比单量增长：%s'%round(s,4))\n",
    "print('同比期单数：%s'%tongbiqi)\n",
    "s = (benqi-tongbiqi)/tongbiqi\n",
    "print('同比单量增长：%s'%round(s,4))\n"
   ]
  },
  {
   "cell_type": "code",
   "execution_count": 14,
   "id": "d1af6944",
   "metadata": {},
   "outputs": [],
   "source": [
    "#大盘整体概况-单均消费\n",
    "print('账单均值')\n",
    "#实收/账单数\n",
    "print('本期：%s'%round(sum_range('AG5:AG%s'%ws.max_row)/sum_range('AS5:AS%s'%ws.max_row),2))\n",
    "print('环比期：%s'%round(sum_range('AH5:AH%s'%ws.max_row)/sum_range('AT5:AT%s'%ws.max_row),2))\n",
    "s = sum_range('AG5:AG%s'%ws.max_row)/sum_range('AS5:AS%s'%ws.max_row) - sum_range('AH5:AH%s'%ws.max_row)/sum_range('AT5:AT%s'%ws.max_row)\n",
    "print('环比单均提升：%s'%round(s,2))\n",
    "print('同比期：%s'%round(sum_range('Ak5:Ak%s'%ws.max_row)/sum_range('AW5:AW%s'%ws.max_row),2))\n",
    "s = sum_range('AG5:AG%s'%ws.max_row)/sum_range('AS5:AS%s'%ws.max_row) - sum_range('Ak5:Ak%s'%ws.max_row)/sum_range('AW5:AW%s'%ws.max_row)\n",
    "print('同比单均提升：%s'%round(s,2))"
   ]
  },
  {
   "cell_type": "code",
   "execution_count": 15,
   "id": "1abf49ec",
   "metadata": {},
   "outputs": [],
   "source": [
    "print('-'*10)"
   ]
  },
  {
   "cell_type": "code",
   "execution_count": 16,
   "id": "9ee8d61c",
   "metadata": {},
   "outputs": [],
   "source": [
    "benqishishou = sum_range('AG5:AG%s'%ws.max_row)"
   ]
  },
  {
   "cell_type": "code",
   "execution_count": 17,
   "id": "aac445e5",
   "metadata": {},
   "outputs": [],
   "source": [
    "print('实收组成：（第八页）')\n",
    "#堂食实收\n",
    "benqi = sum_range('BW5:BW%s'%ws.max_row)\n",
    "shangqi = sum_range('BX5:BX%s'%ws.max_row)\n",
    "tongbiqi = sum_range('CA5:CA%s'%ws.max_row)\n",
    "print('堂食实收')\n",
    "print('本期：%s'%round(benqi,2))\n",
    "print('环比期：%s'%round(shangqi,2))\n",
    "print('同比期：%s'%round(tongbiqi,2))\n",
    "tongbi = (benqi - tongbiqi) / tongbiqi\n",
    "huanbi = (benqi  - shangqi) / shangqi\n",
    "tongbi = '%.2f%%' % (tongbi * 100)\n",
    "huanbi = '%.2f%%' % (huanbi * 100)\n",
    "print('收入构成中堂食同比上升%s、环比上升%s'%(tongbi,huanbi))"
   ]
  },
  {
   "cell_type": "code",
   "execution_count": 25,
   "id": "60a3d643",
   "metadata": {},
   "outputs": [],
   "source": [
    "#外卖实收\n",
    "\n",
    "benqi = sum_range('CI5:CI%s'%ws.max_row)\n",
    "shangqi = sum_range('CJ5:CJ%s'%ws.max_row)\n",
    "tongbiqi = sum_range('CM5:CM%s'%ws.max_row)\n",
    "print('外卖实收')\n",
    "print('本期：%s'%round(benqi,2))\n",
    "print('环比期：%s'%round(shangqi,2))\n",
    "print('同比期：%s'%round(tongbiqi,2))\n",
    "tongbi = (benqi - tongbiqi) / tongbiqi\n",
    "huanbi = (benqi  - shangqi) / shangqi\n",
    "tongbi = '%.2f%%' % (tongbi * 100)\n",
    "huanbi = '%.2f%%' % (huanbi * 100)\n",
    "print('收入构成中外卖同比上升%s、环比上升%s'%(tongbi,huanbi))\n",
    "zhanbi = benqi/benqishishou\n",
    "zhanbi = '%.2f%%' % (zhanbi * 100)\n",
    "print('本期外卖占实收比%s'%zhanbi)\n",
    "\n",
    "print('本期产生销售店铺%s家，外卖产生销售店铺%s家，占比%s'%(count_nonzero('O5:O%s'%ws.max_row),count_nonzero('CC5:CC%s'%ws.max_row),count_nonzero('CC5:CC%s'%ws.max_row)/count_nonzero('O5:O%s'%ws.max_row)))"
   ]
  },
  {
   "cell_type": "code",
   "execution_count": 19,
   "id": "a8703d09",
   "metadata": {},
   "outputs": [],
   "source": [
    "#自提实收\n",
    "benqi = sum_range('DM5:DM%s'%ws.max_row)\n",
    "shangqi = sum_range('DN5:DN%s'%ws.max_row)\n",
    "tongbiqi = sum_range('DQ5:DQ%s'%ws.max_row)\n",
    "print('自提实收')\n",
    "print('本期：%s'%round(benqi,2))\n",
    "print('环比期：%s'%round(shangqi,2))\n",
    "print('同比期：%s'%round(tongbiqi,2))"
   ]
  },
  {
   "cell_type": "code",
   "execution_count": 20,
   "id": "8d3b5a06",
   "metadata": {},
   "outputs": [],
   "source": [
    "#美团\n",
    "benqi = sum_range('CO5:CO%s'%ws.max_row)\n",
    "shangqi = sum_range('CP5:CP%s'%ws.max_row)\n",
    "tongbiqi = sum_range('CS5:CS%s'%ws.max_row)\n",
    "print('美团')\n",
    "print('本期：%s'%round(benqi,2))\n",
    "print('环比期：%s'%round(shangqi,2))\n",
    "print('同比期：%s'%round(tongbiqi,2))"
   ]
  },
  {
   "cell_type": "code",
   "execution_count": 21,
   "id": "05df0053",
   "metadata": {},
   "outputs": [],
   "source": [
    "#饿了么\n",
    "benqi = sum_range('CU5:CU%s'%ws.max_row)\n",
    "shangqi = sum_range('CV5:CV%s'%ws.max_row)\n",
    "tongbiqi = sum_range('CY5:CY%s'%ws.max_row)\n",
    "print('饿了么')\n",
    "print('本期：%s'%round(benqi,2))\n",
    "print('环比期：%s'%round(shangqi,2))\n",
    "print('同比期：%s'%round(tongbiqi,2))"
   ]
  },
  {
   "cell_type": "code",
   "execution_count": 22,
   "id": "d8cdb3c7",
   "metadata": {},
   "outputs": [],
   "source": [
    "#其他\n",
    "benqi = sum_range('DA5:DA%s'%ws.max_row)\n",
    "shangqi = sum_range('DB5:DB%s'%ws.max_row)\n",
    "tongbiqi = sum_range('DE5:DE%s'%ws.max_row)\n",
    "print('其它')\n",
    "print('本期：%s'%round(benqi,2))\n",
    "print('环比期：%s'%round(shangqi,2))\n",
    "print('同比期：%s'%round(tongbiqi,2))"
   ]
  },
  {
   "cell_type": "code",
   "execution_count": null,
   "id": "bb8fd028",
   "metadata": {},
   "outputs": [],
   "source": []
  }
 ],
 "metadata": {
  "kernelspec": {
   "display_name": "Python 3 (ipykernel)",
   "language": "python",
   "name": "python3"
  },
  "language_info": {
   "codemirror_mode": {
    "name": "ipython",
    "version": 3
   },
   "file_extension": ".py",
   "mimetype": "text/x-python",
   "name": "python",
   "nbconvert_exporter": "python",
   "pygments_lexer": "ipython3",
   "version": "3.9.13"
  }
 },
 "nbformat": 4,
 "nbformat_minor": 5
}

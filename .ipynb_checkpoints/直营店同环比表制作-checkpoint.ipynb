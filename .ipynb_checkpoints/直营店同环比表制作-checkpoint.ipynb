{
 "cells": [
  {
   "cell_type": "code",
   "execution_count": 1,
   "id": "7256d0db",
   "metadata": {},
   "outputs": [],
   "source": [
    "from openpyxl.utils import range_boundaries\n",
    "from openpyxl import load_workbook\n",
    "import time"
   ]
  },
  {
   "cell_type": "code",
   "execution_count": 2,
   "id": "c77eeb8a",
   "metadata": {},
   "outputs": [],
   "source": [
    "now = time.strftime('%Y-%m-%d')"
   ]
  },
  {
   "cell_type": "code",
   "execution_count": 3,
   "id": "bfc08272",
   "metadata": {},
   "outputs": [],
   "source": [
    "#同比源表516\n",
    "tongbiyuanbiao = r'C:\\Users\\admin\\OneDrive\\甜啦啦\\周月报\\2023年05月第1&2周\\516营业同比表（预计算） 20230501--20230514 (2023-05-15 09：16：54).xlsx'\n",
    "#环比源表516\n",
    "huanbiyuanbiao = r'C:\\Users\\admin\\OneDrive\\甜啦啦\\周月报\\2023年05月第1&2周\\516营业环比表（预计算） 20230501--20230514 (2023-05-15 09：17：39).xlsx'\n",
    "#本期收银\n",
    "benqishouying = r'C:\\Users\\admin\\OneDrive\\甜啦啦\\周月报\\2023年05月第1&2周\\112收银汇总表本期 20230501--20230514 (2023-05-15 09：14：48).xlsx'\n",
    "#上期收银\n",
    "shangqishouying = r'C:\\Users\\admin\\OneDrive\\甜啦啦\\周月报\\2023年05月第1&2周\\112收银汇总表环比期 20230417--20230430 (2023-05-15 09：15：51).xlsx'\n",
    "#去年同期收银\n",
    "qunianshouying = r'C:\\Users\\admin\\OneDrive\\甜啦啦\\周月报\\2023年05月第1&2周\\112收银汇总表同比期 20220501--20220514 (2023-05-15 09：16：18).xlsx'\n",
    "#直营店名单\n",
    "zhiying = r'C:\\Users\\admin\\OneDrive\\甜啦啦\\周月报\\2023年05月第1&2周\\直营名单.xlsx'"
   ]
  },
  {
   "cell_type": "code",
   "execution_count": 4,
   "id": "c075bd17",
   "metadata": {},
   "outputs": [],
   "source": [
    "#取消合并单元格、填充各期\n",
    "def tableFormatting(wb):\n",
    "    sheet = wb['Report']\n",
    "    merge_list = []\n",
    "    for merge in sheet.merged_cells.ranges:\n",
    "        min_col, min_row, max_col, max_row = range_boundaries(merge.coord)\n",
    "        if min_row == 3 and max_row == 4: # 只选取第三行和第四行的合并单元格\n",
    "            merge_list.append(merge)\n",
    "\n",
    "    for group in merge_list:\n",
    "        min_col, min_row, max_col, max_row = range_boundaries(group.coord)\n",
    "        top_left_cell_value = sheet.cell(row=min_row, column=min_col).value\n",
    "        sheet.unmerge_cells(str(group))\n",
    "        for row in sheet.iter_rows(min_col=min_col, min_row=min_row, max_col=max_col, max_row=max_row):\n",
    "            for cell in row:\n",
    "                cell.value = top_left_cell_value\n",
    "\n",
    "    for cell in sheet[4]: # 遍历第四行的单元格\n",
    "        for merge in sheet.merged_cells.ranges: # 遍历所有的合并单元格\n",
    "            if cell.row - 1 == merge.max_row and cell.column >= merge.min_col and cell.column <= merge.max_col and merge.min_row == merge.max_row and merge.min_row == 3: # 如果这个单元格对应的第三行单元格是左右合并的单元格\n",
    "                merge_value = sheet.cell(merge.min_row,merge.min_col).value # 获取合并单元格的值\n",
    "                cell.value = merge_value + '_' + cell.value # 修改这个单元格的值为合并单元格的值+\"_\"+它本身的值\n",
    "                break # 跳出循环\n",
    "    return wb"
   ]
  },
  {
   "cell_type": "code",
   "execution_count": 5,
   "id": "764b4519",
   "metadata": {},
   "outputs": [
    {
     "name": "stderr",
     "output_type": "stream",
     "text": [
      "C:\\Users\\admin\\anaconda3\\lib\\site-packages\\openpyxl\\styles\\stylesheet.py:226: UserWarning: Workbook contains no default style, apply openpyxl's default\n",
      "  warn(\"Workbook contains no default style, apply openpyxl's default\")\n"
     ]
    }
   ],
   "source": [
    "#同比表格式化\n",
    "wb = load_workbook(tongbiyuanbiao)\n",
    "wb = tableFormatting(wb)\n",
    "sheet = wb['Report']\n",
    "for cell in sheet[4]: # 遍历第四行的单元格\n",
    "    if '对比期' in cell.value: # 如果单元格的值包含'对比期'\n",
    "        cell.value = cell.value.replace('对比期', '同比期') # 替换单元格的值中的'对比期'为'同比期'\n",
    "    if '_' in cell.value: # 如果单元格的值包含'_'\n",
    "        cell.value = cell.value.replace('_', '\\n') # 替换单元格的值中的'_'为换行符\n",
    "        \n",
    "wb.save('同比表格式化.xlsx')"
   ]
  },
  {
   "cell_type": "code",
   "execution_count": 6,
   "id": "70742839",
   "metadata": {},
   "outputs": [],
   "source": [
    "#同比表格式化\n",
    "wb = load_workbook(huanbiyuanbiao)\n",
    "wb = tableFormatting(wb)\n",
    "sheet = wb['Report']\n",
    "for cell in sheet[4]: # 遍历第四行的单元格\n",
    "    if '对比期' in cell.value: # 如果单元格的值包含'对比期'\n",
    "        cell.value = cell.value.replace('对比期', '环比期') # 替换单元格的值中的'对比期'为'同比期'\n",
    "    if '_' in cell.value: # 如果单元格的值包含'_'\n",
    "        cell.value = cell.value.replace('_', '\\n') # 替换单元格的值中的'_'为换行符\n",
    "        \n",
    "wb.save('环比表格式化.xlsx')"
   ]
  },
  {
   "cell_type": "markdown",
   "id": "ca233cc2",
   "metadata": {},
   "source": [
    "#### 收银"
   ]
  },
  {
   "cell_type": "code",
   "execution_count": 7,
   "id": "417c4466",
   "metadata": {},
   "outputs": [],
   "source": [
    "\n",
    "def shouyinFormatting(wb):\n",
    "    sheet = wb['Report']\n",
    "    merge_list = []\n",
    "    for merge in sheet.merged_cells.ranges:\n",
    "        min_col, min_row, max_col, max_row = range_boundaries(merge.coord)\n",
    "        if min_row == 3 and max_row == 4: # 只选取第三行和第四行的合并单元格\n",
    "            merge_list.append(merge)\n",
    "    for group in merge_list:\n",
    "        min_col, min_row, max_col, max_row = range_boundaries(group.coord)\n",
    "        top_left_cell_value = sheet.cell(row=min_row, column=min_col).value\n",
    "        sheet.unmerge_cells(str(group))\n",
    "        for row in sheet.iter_rows(min_col=min_col, min_row=min_row, max_col=max_col, max_row=max_row):\n",
    "            for cell in row:\n",
    "                cell.value = top_left_cell_value\n",
    "    return wb"
   ]
  },
  {
   "cell_type": "code",
   "execution_count": 8,
   "id": "2cd0a7e0",
   "metadata": {},
   "outputs": [],
   "source": [
    "#本期收银格式化\n",
    "wb = load_workbook(benqishouying)\n",
    "wb = shouyinFormatting(wb)\n",
    "sheet = wb['Report']\n",
    "for cell in sheet[4]: # 第四行的所有单元格\n",
    "    if cell.value: # 如果单元格不为空\n",
    "        cell.value = cell.value+\"\\n本期\"  # 在原本值前加上“本期”和换行符\n",
    "    \n",
    "wb.save('本期收银表格式化.xlsx')"
   ]
  },
  {
   "cell_type": "code",
   "execution_count": 9,
   "id": "23a56704",
   "metadata": {},
   "outputs": [],
   "source": [
    "#环比期收银格式化\n",
    "wb = load_workbook(shangqishouying)\n",
    "wb = shouyinFormatting(wb)\n",
    "sheet = wb['Report']\n",
    "for cell in sheet[4]: # 第四行的所有单元格\n",
    "    if cell.value: # 如果单元格不为空\n",
    "        cell.value = cell.value+\"\\n环比期\"  # 在原本值前加上“本期”和换行符\n",
    "    \n",
    "wb.save('环比期收银表格式化.xlsx')"
   ]
  },
  {
   "cell_type": "code",
   "execution_count": 10,
   "id": "d06e7dc4",
   "metadata": {},
   "outputs": [],
   "source": [
    "#同比期收银格式化\n",
    "wb = load_workbook(qunianshouying)\n",
    "wb = shouyinFormatting(wb)\n",
    "sheet = wb['Report']\n",
    "for cell in sheet[4]: # 第四行的所有单元格\n",
    "    if cell.value: # 如果单元格不为空\n",
    "        cell.value = cell.value+\"\\n同比期\"  # 在原本值前加上“本期”和换行符\n",
    "    \n",
    "wb.save('同比期收银表格式化.xlsx')"
   ]
  },
  {
   "cell_type": "code",
   "execution_count": 11,
   "id": "28c729f3",
   "metadata": {},
   "outputs": [],
   "source": [
    "import pandas as pd\n",
    "import numpy as np"
   ]
  },
  {
   "cell_type": "code",
   "execution_count": 12,
   "id": "8dc07326",
   "metadata": {},
   "outputs": [],
   "source": [
    "huanbigeshi_df = pd.read_excel('环比表格式化.xlsx',sheet_name=0,header = 3)\n",
    "tongbigeshi_df = pd.read_excel('同比表格式化.xlsx',sheet_name=0,header = 3)\n",
    "benqishouying_df = pd.read_excel('本期收银表格式化.xlsx',sheet_name=0,header = 3)\n",
    "huanbishouying_df = pd.read_excel('环比期收银表格式化.xlsx',sheet_name=0,header = 3)\n",
    "tongbishouying_df = pd.read_excel('同比期收银表格式化.xlsx',sheet_name=0,header = 3)"
   ]
  },
  {
   "cell_type": "code",
   "execution_count": 13,
   "id": "eaddd320",
   "metadata": {},
   "outputs": [
    {
     "data": {
      "text/plain": [
       "(5425, 39)"
      ]
     },
     "execution_count": 13,
     "metadata": {},
     "output_type": "execute_result"
    }
   ],
   "source": [
    "huanbigeshi_df.shape "
   ]
  },
  {
   "cell_type": "code",
   "execution_count": 14,
   "id": "43ea82d6",
   "metadata": {},
   "outputs": [
    {
     "data": {
      "text/plain": [
       "(5425, 39)"
      ]
     },
     "execution_count": 14,
     "metadata": {},
     "output_type": "execute_result"
    }
   ],
   "source": [
    "tongbigeshi_df.shape "
   ]
  },
  {
   "cell_type": "code",
   "execution_count": 15,
   "id": "a9d5351e",
   "metadata": {},
   "outputs": [
    {
     "data": {
      "text/plain": [
       "(4329, 151)"
      ]
     },
     "execution_count": 15,
     "metadata": {},
     "output_type": "execute_result"
    }
   ],
   "source": [
    "benqishouying_df.shape"
   ]
  },
  {
   "cell_type": "code",
   "execution_count": 16,
   "id": "c6a761ea",
   "metadata": {},
   "outputs": [
    {
     "data": {
      "text/plain": [
       "(4289, 157)"
      ]
     },
     "execution_count": 16,
     "metadata": {},
     "output_type": "execute_result"
    }
   ],
   "source": [
    "huanbishouying_df.shape"
   ]
  },
  {
   "cell_type": "code",
   "execution_count": 17,
   "id": "d90a85fc",
   "metadata": {},
   "outputs": [
    {
     "data": {
      "text/plain": [
       "(3668, 92)"
      ]
     },
     "execution_count": 17,
     "metadata": {},
     "output_type": "execute_result"
    }
   ],
   "source": [
    "tongbishouying_df.shape"
   ]
  },
  {
   "cell_type": "markdown",
   "id": "d2b28794",
   "metadata": {},
   "source": [
    "环比表"
   ]
  },
  {
   "cell_type": "code",
   "execution_count": 18,
   "id": "8d0aabb2",
   "metadata": {},
   "outputs": [],
   "source": [
    "huanbi_df = pd.merge(huanbigeshi_df,benqishouying_df,left_on ='店铺名称',right_on ='店铺名称\\n本期', how='outer')\n",
    "huanbi_df = pd.merge(huanbi_df,huanbishouying_df,left_on ='店铺名称',right_on ='店铺名称\\n环比期', how='outer')"
   ]
  },
  {
   "cell_type": "code",
   "execution_count": 19,
   "id": "c7ed35ad",
   "metadata": {},
   "outputs": [
    {
     "data": {
      "text/plain": [
       "(5425, 347)"
      ]
     },
     "execution_count": 19,
     "metadata": {},
     "output_type": "execute_result"
    }
   ],
   "source": [
    "huanbi_df.shape "
   ]
  },
  {
   "cell_type": "code",
   "execution_count": 20,
   "id": "e05f2f95",
   "metadata": {},
   "outputs": [],
   "source": [
    "huanbi_df.rename(columns={\n",
    "    '营业天数\\n本期_x': '营业天数\\n本期','营业天数\\n环比期_x': '营业天数\\n环比期',\n",
    "    '流水金额\\n本期_x': '流水金额\\n本期','流水金额\\n环比期_x': '流水金额\\n环比期',\n",
    "    '实收金额\\n本期_x': '实收金额\\n本期','实收金额\\n环比期_x': '实收金额\\n环比期',\n",
    "    '账单数\\n本期_x': '账单数\\n本期','账单数\\n环比期_x': '账单数\\n环比期',\n",
    "    '单均消费\\n本期_x': '单均消费\\n本期','单均消费\\n环比期_x': '单均消费\\n环比期',\n",
    "    '流水金额\\n增长%': '流水金额\\n环比',\n",
    "    '实收金额\\n增长%': '实收金额\\n环比',\n",
    "    '自提流水\\n增长%': '自提流水\\n环比',\n",
    "    '自提实收\\n本期_x': '自提实收\\n本期','自提实收\\n环比期_x': '自提实收\\n环比期',\n",
    "}, inplace=True)"
   ]
  },
  {
   "cell_type": "code",
   "execution_count": 21,
   "id": "f931e795",
   "metadata": {},
   "outputs": [
    {
     "name": "stderr",
     "output_type": "stream",
     "text": [
      "C:\\Users\\admin\\AppData\\Local\\Temp\\ipykernel_4576\\3458179045.py:20: PerformanceWarning: DataFrame is highly fragmented.  This is usually the result of calling `frame.insert` many times, which has poor performance.  Consider joining all columns at once using pd.concat(axis=1) instead. To get a de-fragmented frame, use `newframe = frame.copy()`\n",
      "  huanbi_df['自提实收率\\n本期'] =huanbi_df['自提实收\\n本期']/ huanbi_df['自提流水\\n本期']\n",
      "C:\\Users\\admin\\AppData\\Local\\Temp\\ipykernel_4576\\3458179045.py:21: PerformanceWarning: DataFrame is highly fragmented.  This is usually the result of calling `frame.insert` many times, which has poor performance.  Consider joining all columns at once using pd.concat(axis=1) instead. To get a de-fragmented frame, use `newframe = frame.copy()`\n",
      "  huanbi_df['自提实收率\\n环比期'] =  huanbi_df['自提实收\\n环比期']/huanbi_df['自提流水\\n环比期']\n",
      "C:\\Users\\admin\\AppData\\Local\\Temp\\ipykernel_4576\\3458179045.py:22: PerformanceWarning: DataFrame is highly fragmented.  This is usually the result of calling `frame.insert` many times, which has poor performance.  Consider joining all columns at once using pd.concat(axis=1) instead. To get a de-fragmented frame, use `newframe = frame.copy()`\n",
      "  huanbi_df['自提实收率\\n差额'] = huanbi_df['自提实收率\\n本期'] -  huanbi_df['自提实收率\\n环比期']\n"
     ]
    }
   ],
   "source": [
    "huanbi_df['营业天数\\n差额'] = huanbi_df['营业天数\\n本期'] -  huanbi_df['营业天数\\n环比期']\n",
    "huanbi_df['实收率\\n本期'] =huanbi_df['实收金额\\n本期']/ huanbi_df['流水金额\\n本期']\n",
    "huanbi_df['实收率\\n环比期'] =  huanbi_df['实收金额\\n环比期']/huanbi_df['流水金额\\n环比期']\n",
    "huanbi_df['实收率\\n差额'] = huanbi_df['实收率\\n本期'] -  huanbi_df['实收率\\n环比期']\n",
    "huanbi_df['账单数\\n差额'] = huanbi_df['账单数\\n本期'] -  huanbi_df['账单数\\n环比期']\n",
    "huanbi_df['单均消费\\n差额'] = huanbi_df['单均消费\\n本期'] -  huanbi_df['单均消费\\n环比期']\n",
    "huanbi_df['堂食流水\\n环比'] =( huanbi_df['堂食流水\\n本期'] -  huanbi_df['堂食流水\\n环比期'])/huanbi_df['堂食流水\\n环比期']\n",
    "huanbi_df['堂食实收\\n环比'] =( huanbi_df['堂食实收\\n本期'] -  huanbi_df['堂食实收\\n环比期'])/huanbi_df['堂食实收\\n环比期']\n",
    "huanbi_df['堂食实收率\\n本期'] =huanbi_df['堂食实收\\n本期']/ huanbi_df['堂食流水\\n本期']\n",
    "huanbi_df['堂食实收率\\n环比期'] =  huanbi_df['堂食实收\\n环比期']/huanbi_df['堂食流水\\n环比期']\n",
    "huanbi_df['堂食实收率\\n差额'] = huanbi_df['堂食实收率\\n本期'] -  huanbi_df['堂食实收率\\n环比期']\n",
    "huanbi_df['堂食单数\\n环比'] =( huanbi_df['堂食单数\\n本期'] -  huanbi_df['堂食单数\\n环比期'])/huanbi_df['堂食单数\\n环比期']\n",
    "huanbi_df['外卖流水\\n环比'] =( huanbi_df['外卖流水\\n本期'] -  huanbi_df['外卖流水\\n环比期'])/huanbi_df['外卖流水\\n环比期']\n",
    "huanbi_df['外卖实收\\n环比'] =( huanbi_df['外卖实收\\n本期'] -  huanbi_df['外卖实收\\n环比期'])/huanbi_df['外卖实收\\n环比期']\n",
    "huanbi_df['外卖实收率\\n本期'] =huanbi_df['外卖实收\\n本期']/ huanbi_df['外卖流水\\n本期']\n",
    "huanbi_df['外卖实收率\\n环比期'] =  huanbi_df['外卖实收\\n环比期']/huanbi_df['外卖流水\\n环比期']\n",
    "huanbi_df['外卖实收率\\n差额'] = huanbi_df['外卖实收率\\n本期'] -  huanbi_df['外卖实收率\\n环比期']\n",
    "huanbi_df['自提流水\\n环比'] =( huanbi_df['自提流水\\n本期'] -  huanbi_df['自提流水\\n环比期'])/huanbi_df['自提流水\\n环比期']\n",
    "huanbi_df['自提实收\\n环比'] =( huanbi_df['自提实收\\n本期'] -  huanbi_df['自提实收\\n环比期'])/huanbi_df['自提实收\\n环比期']\n",
    "huanbi_df['自提实收率\\n本期'] =huanbi_df['自提实收\\n本期']/ huanbi_df['自提流水\\n本期']\n",
    "huanbi_df['自提实收率\\n环比期'] =  huanbi_df['自提实收\\n环比期']/huanbi_df['自提流水\\n环比期']\n",
    "huanbi_df['自提实收率\\n差额'] = huanbi_df['自提实收率\\n本期'] -  huanbi_df['自提实收率\\n环比期']\n"
   ]
  },
  {
   "cell_type": "code",
   "execution_count": 22,
   "id": "6242e759",
   "metadata": {
    "scrolled": true
   },
   "outputs": [],
   "source": [
    "col = ['店铺名称','营业天数\\n本期','营业天数\\n环比期','营业天数\\n差额',\n",
    "       '流水金额\\n本期','流水金额\\n环比期','流水金额\\n环比',\n",
    "       '实收金额\\n本期','实收金额\\n环比期','实收金额\\n环比','实收率\\n本期','实收率\\n环比期','实收率\\n差额',\n",
    "       '账单数\\n本期','账单数\\n环比期','账单数\\n差额',\n",
    "       '单均消费\\n本期','单均消费\\n环比期','单均消费\\n差额',\n",
    "       '堂食流水\\n本期','堂食流水\\n环比期','堂食流水\\n环比',\n",
    "       '堂食实收\\n本期','堂食实收\\n环比期','堂食实收\\n环比',\n",
    "       '堂食实收率\\n本期','堂食实收率\\n环比期','堂食实收率\\n差额','堂食单数\\n本期','堂食单数\\n环比期','堂食单数\\n环比',\n",
    "       '外卖流水\\n本期','外卖流水\\n环比期','外卖流水\\n环比','外卖实收\\n本期','外卖实收\\n环比期','外卖实收\\n环比',\n",
    "       '外卖实收率\\n本期','外卖实收率\\n环比期','外卖实收率\\n差额','自提流水\\n本期','自提流水\\n环比期','自提流水\\n环比',\n",
    "       '自提实收\\n本期','自提实收\\n环比期','自提实收\\n环比','自提实收率\\n本期','自提实收率\\n环比期','自提实收率\\n差额',\n",
    "       \n",
    "      ]"
   ]
  },
  {
   "cell_type": "code",
   "execution_count": 23,
   "id": "8fba63e3",
   "metadata": {},
   "outputs": [],
   "source": [
    "#设置value的显示长度为200，默认为50\n",
    "#pd.set_option('max_colwidth',200)\n",
    "#显示所有列，把行显示设置成最大\n",
    "pd.set_option('display.max_columns', None)\n",
    "#显示所有行，把列显示设置成最大\n",
    "#pd.set_option('display.max_rows', None)"
   ]
  },
  {
   "cell_type": "code",
   "execution_count": 24,
   "id": "3edb2d65",
   "metadata": {},
   "outputs": [],
   "source": [
    "result_huanbi_df = huanbi_df.reindex(columns=col)"
   ]
  },
  {
   "cell_type": "code",
   "execution_count": 25,
   "id": "f99f1607",
   "metadata": {
    "scrolled": true
   },
   "outputs": [
    {
     "data": {
      "text/html": [
       "<div>\n",
       "<style scoped>\n",
       "    .dataframe tbody tr th:only-of-type {\n",
       "        vertical-align: middle;\n",
       "    }\n",
       "\n",
       "    .dataframe tbody tr th {\n",
       "        vertical-align: top;\n",
       "    }\n",
       "\n",
       "    .dataframe thead th {\n",
       "        text-align: right;\n",
       "    }\n",
       "</style>\n",
       "<table border=\"1\" class=\"dataframe\">\n",
       "  <thead>\n",
       "    <tr style=\"text-align: right;\">\n",
       "      <th></th>\n",
       "      <th>店铺名称</th>\n",
       "      <th>营业天数\\n本期</th>\n",
       "      <th>营业天数\\n环比期</th>\n",
       "      <th>营业天数\\n差额</th>\n",
       "      <th>流水金额\\n本期</th>\n",
       "      <th>流水金额\\n环比期</th>\n",
       "      <th>流水金额\\n环比</th>\n",
       "      <th>实收金额\\n本期</th>\n",
       "      <th>实收金额\\n环比期</th>\n",
       "      <th>实收金额\\n环比</th>\n",
       "      <th>实收率\\n本期</th>\n",
       "      <th>实收率\\n环比期</th>\n",
       "      <th>实收率\\n差额</th>\n",
       "      <th>账单数\\n本期</th>\n",
       "      <th>账单数\\n环比期</th>\n",
       "      <th>账单数\\n差额</th>\n",
       "      <th>单均消费\\n本期</th>\n",
       "      <th>单均消费\\n环比期</th>\n",
       "      <th>单均消费\\n差额</th>\n",
       "      <th>堂食流水\\n本期</th>\n",
       "      <th>堂食流水\\n环比期</th>\n",
       "      <th>堂食流水\\n环比</th>\n",
       "      <th>堂食实收\\n本期</th>\n",
       "      <th>堂食实收\\n环比期</th>\n",
       "      <th>堂食实收\\n环比</th>\n",
       "      <th>堂食实收率\\n本期</th>\n",
       "      <th>堂食实收率\\n环比期</th>\n",
       "      <th>堂食实收率\\n差额</th>\n",
       "      <th>堂食单数\\n本期</th>\n",
       "      <th>堂食单数\\n环比期</th>\n",
       "      <th>堂食单数\\n环比</th>\n",
       "      <th>外卖流水\\n本期</th>\n",
       "      <th>外卖流水\\n环比期</th>\n",
       "      <th>外卖流水\\n环比</th>\n",
       "      <th>外卖实收\\n本期</th>\n",
       "      <th>外卖实收\\n环比期</th>\n",
       "      <th>外卖实收\\n环比</th>\n",
       "      <th>外卖实收率\\n本期</th>\n",
       "      <th>外卖实收率\\n环比期</th>\n",
       "      <th>外卖实收率\\n差额</th>\n",
       "      <th>自提流水\\n本期</th>\n",
       "      <th>自提流水\\n环比期</th>\n",
       "      <th>自提流水\\n环比</th>\n",
       "      <th>自提实收\\n本期</th>\n",
       "      <th>自提实收\\n环比期</th>\n",
       "      <th>自提实收\\n环比</th>\n",
       "      <th>自提实收率\\n本期</th>\n",
       "      <th>自提实收率\\n环比期</th>\n",
       "      <th>自提实收率\\n差额</th>\n",
       "    </tr>\n",
       "  </thead>\n",
       "  <tbody>\n",
       "    <tr>\n",
       "      <th>0</th>\n",
       "      <td>甜啦啦(宏业村店)</td>\n",
       "      <td>14</td>\n",
       "      <td>14</td>\n",
       "      <td>0</td>\n",
       "      <td>34008.3</td>\n",
       "      <td>32466.8</td>\n",
       "      <td>0.0475</td>\n",
       "      <td>26293.9</td>\n",
       "      <td>24876.45</td>\n",
       "      <td>0.057</td>\n",
       "      <td>0.773161</td>\n",
       "      <td>0.766212</td>\n",
       "      <td>0.006949</td>\n",
       "      <td>2449</td>\n",
       "      <td>2273</td>\n",
       "      <td>176</td>\n",
       "      <td>10.74</td>\n",
       "      <td>10.94</td>\n",
       "      <td>-0.2</td>\n",
       "      <td>15073.5</td>\n",
       "      <td>14598.8</td>\n",
       "      <td>0.032516</td>\n",
       "      <td>14553.28</td>\n",
       "      <td>13772.99</td>\n",
       "      <td>0.056654</td>\n",
       "      <td>0.965488</td>\n",
       "      <td>0.943433</td>\n",
       "      <td>0.022055</td>\n",
       "      <td>1459.0</td>\n",
       "      <td>1316.0</td>\n",
       "      <td>0.108663</td>\n",
       "      <td>16065.6</td>\n",
       "      <td>14813.2</td>\n",
       "      <td>0.084546</td>\n",
       "      <td>9167.11</td>\n",
       "      <td>8482.96</td>\n",
       "      <td>0.08065</td>\n",
       "      <td>0.570605</td>\n",
       "      <td>0.572662</td>\n",
       "      <td>-0.002057</td>\n",
       "      <td>2869.2</td>\n",
       "      <td>3054.8</td>\n",
       "      <td>-0.060757</td>\n",
       "      <td>2573.51</td>\n",
       "      <td>2620.5</td>\n",
       "      <td>-0.017932</td>\n",
       "      <td>0.896943</td>\n",
       "      <td>0.85783</td>\n",
       "      <td>0.039113</td>\n",
       "    </tr>\n",
       "  </tbody>\n",
       "</table>\n",
       "</div>"
      ],
      "text/plain": [
       "        店铺名称  营业天数\\n本期  营业天数\\n环比期  营业天数\\n差额  流水金额\\n本期  流水金额\\n环比期  流水金额\\n环比  \\\n",
       "0  甜啦啦(宏业村店)        14         14         0   34008.3    32466.8    0.0475   \n",
       "\n",
       "   实收金额\\n本期  实收金额\\n环比期  实收金额\\n环比   实收率\\n本期  实收率\\n环比期   实收率\\n差额  账单数\\n本期  \\\n",
       "0   26293.9   24876.45     0.057  0.773161  0.766212  0.006949     2449   \n",
       "\n",
       "   账单数\\n环比期  账单数\\n差额  单均消费\\n本期  单均消费\\n环比期  单均消费\\n差额  堂食流水\\n本期  堂食流水\\n环比期  \\\n",
       "0      2273      176     10.74      10.94      -0.2   15073.5    14598.8   \n",
       "\n",
       "   堂食流水\\n环比  堂食实收\\n本期  堂食实收\\n环比期  堂食实收\\n环比  堂食实收率\\n本期  堂食实收率\\n环比期  堂食实收率\\n差额  \\\n",
       "0  0.032516  14553.28   13772.99  0.056654   0.965488    0.943433   0.022055   \n",
       "\n",
       "   堂食单数\\n本期  堂食单数\\n环比期  堂食单数\\n环比  外卖流水\\n本期  外卖流水\\n环比期  外卖流水\\n环比  外卖实收\\n本期  \\\n",
       "0    1459.0     1316.0  0.108663   16065.6    14813.2  0.084546   9167.11   \n",
       "\n",
       "   外卖实收\\n环比期  外卖实收\\n环比  外卖实收率\\n本期  外卖实收率\\n环比期  外卖实收率\\n差额  自提流水\\n本期  自提流水\\n环比期  \\\n",
       "0    8482.96   0.08065   0.570605    0.572662  -0.002057    2869.2     3054.8   \n",
       "\n",
       "   自提流水\\n环比  自提实收\\n本期  自提实收\\n环比期  自提实收\\n环比  自提实收率\\n本期  自提实收率\\n环比期  自提实收率\\n差额  \n",
       "0 -0.060757   2573.51     2620.5 -0.017932   0.896943     0.85783   0.039113  "
      ]
     },
     "execution_count": 25,
     "metadata": {},
     "output_type": "execute_result"
    }
   ],
   "source": [
    "result_huanbi_df.head(1)"
   ]
  },
  {
   "cell_type": "code",
   "execution_count": 26,
   "id": "e0fcfa7c",
   "metadata": {},
   "outputs": [],
   "source": [
    "result_huanbi_df.to_excel('同环比表总表_%s.xlsx'%now,merge_cells=False,sheet_name='环比表',index=False)"
   ]
  },
  {
   "cell_type": "code",
   "execution_count": 27,
   "id": "8fc54a80",
   "metadata": {},
   "outputs": [
    {
     "ename": "FileNotFoundError",
     "evalue": "[Errno 2] No such file or directory: 'C:\\\\Users\\\\admin\\\\OneDrive\\\\甜啦啦\\\\代码底表\\\\直营名单.xlsx'",
     "output_type": "error",
     "traceback": [
      "\u001b[1;31m---------------------------------------------------------------------------\u001b[0m",
      "\u001b[1;31mFileNotFoundError\u001b[0m                         Traceback (most recent call last)",
      "\u001b[1;32m~\\AppData\\Local\\Temp\\ipykernel_4576\\529548169.py\u001b[0m in \u001b[0;36m<module>\u001b[1;34m\u001b[0m\n\u001b[1;32m----> 1\u001b[1;33m \u001b[0mzhiying_df\u001b[0m \u001b[1;33m=\u001b[0m \u001b[0mpd\u001b[0m\u001b[1;33m.\u001b[0m\u001b[0mread_excel\u001b[0m\u001b[1;33m(\u001b[0m\u001b[0mzhiying\u001b[0m\u001b[1;33m,\u001b[0m\u001b[0msheet_name\u001b[0m\u001b[1;33m=\u001b[0m\u001b[1;36m0\u001b[0m\u001b[1;33m,\u001b[0m\u001b[0mheader\u001b[0m \u001b[1;33m=\u001b[0m \u001b[1;36m0\u001b[0m\u001b[1;33m)\u001b[0m\u001b[1;33m\u001b[0m\u001b[1;33m\u001b[0m\u001b[0m\n\u001b[0m\u001b[0;32m      2\u001b[0m \u001b[0mdianpu_name\u001b[0m \u001b[1;33m=\u001b[0m \u001b[0mzhiying_df\u001b[0m\u001b[1;33m[\u001b[0m\u001b[1;34m'店铺名称'\u001b[0m\u001b[1;33m]\u001b[0m\u001b[1;33m.\u001b[0m\u001b[0mtolist\u001b[0m\u001b[1;33m(\u001b[0m\u001b[1;33m)\u001b[0m\u001b[1;33m\u001b[0m\u001b[1;33m\u001b[0m\u001b[0m\n\u001b[0;32m      3\u001b[0m \u001b[0mresult_zhiying_huanbi_df\u001b[0m \u001b[1;33m=\u001b[0m \u001b[0mresult_huanbi_df\u001b[0m\u001b[1;33m[\u001b[0m\u001b[1;33m(\u001b[0m\u001b[0mresult_huanbi_df\u001b[0m\u001b[1;33m[\u001b[0m\u001b[1;34m'店铺名称'\u001b[0m\u001b[1;33m]\u001b[0m\u001b[1;33m.\u001b[0m\u001b[0misin\u001b[0m\u001b[1;33m(\u001b[0m\u001b[0mdianpu_name\u001b[0m\u001b[1;33m)\u001b[0m\u001b[1;33m)\u001b[0m\u001b[1;33m]\u001b[0m\u001b[1;33m\u001b[0m\u001b[1;33m\u001b[0m\u001b[0m\n\u001b[0;32m      4\u001b[0m \u001b[1;31m#result_df = yuanshi_groupby.loc[zhangdanNo]\u001b[0m\u001b[1;33m\u001b[0m\u001b[1;33m\u001b[0m\u001b[0m\n",
      "\u001b[1;32m~\\anaconda3\\lib\\site-packages\\pandas\\util\\_decorators.py\u001b[0m in \u001b[0;36mwrapper\u001b[1;34m(*args, **kwargs)\u001b[0m\n\u001b[0;32m    309\u001b[0m                     \u001b[0mstacklevel\u001b[0m\u001b[1;33m=\u001b[0m\u001b[0mstacklevel\u001b[0m\u001b[1;33m,\u001b[0m\u001b[1;33m\u001b[0m\u001b[1;33m\u001b[0m\u001b[0m\n\u001b[0;32m    310\u001b[0m                 )\n\u001b[1;32m--> 311\u001b[1;33m             \u001b[1;32mreturn\u001b[0m \u001b[0mfunc\u001b[0m\u001b[1;33m(\u001b[0m\u001b[1;33m*\u001b[0m\u001b[0margs\u001b[0m\u001b[1;33m,\u001b[0m \u001b[1;33m**\u001b[0m\u001b[0mkwargs\u001b[0m\u001b[1;33m)\u001b[0m\u001b[1;33m\u001b[0m\u001b[1;33m\u001b[0m\u001b[0m\n\u001b[0m\u001b[0;32m    312\u001b[0m \u001b[1;33m\u001b[0m\u001b[0m\n\u001b[0;32m    313\u001b[0m         \u001b[1;32mreturn\u001b[0m \u001b[0mwrapper\u001b[0m\u001b[1;33m\u001b[0m\u001b[1;33m\u001b[0m\u001b[0m\n",
      "\u001b[1;32m~\\anaconda3\\lib\\site-packages\\pandas\\io\\excel\\_base.py\u001b[0m in \u001b[0;36mread_excel\u001b[1;34m(io, sheet_name, header, names, index_col, usecols, squeeze, dtype, engine, converters, true_values, false_values, skiprows, nrows, na_values, keep_default_na, na_filter, verbose, parse_dates, date_parser, thousands, decimal, comment, skipfooter, convert_float, mangle_dupe_cols, storage_options)\u001b[0m\n\u001b[0;32m    455\u001b[0m     \u001b[1;32mif\u001b[0m \u001b[1;32mnot\u001b[0m \u001b[0misinstance\u001b[0m\u001b[1;33m(\u001b[0m\u001b[0mio\u001b[0m\u001b[1;33m,\u001b[0m \u001b[0mExcelFile\u001b[0m\u001b[1;33m)\u001b[0m\u001b[1;33m:\u001b[0m\u001b[1;33m\u001b[0m\u001b[1;33m\u001b[0m\u001b[0m\n\u001b[0;32m    456\u001b[0m         \u001b[0mshould_close\u001b[0m \u001b[1;33m=\u001b[0m \u001b[1;32mTrue\u001b[0m\u001b[1;33m\u001b[0m\u001b[1;33m\u001b[0m\u001b[0m\n\u001b[1;32m--> 457\u001b[1;33m         \u001b[0mio\u001b[0m \u001b[1;33m=\u001b[0m \u001b[0mExcelFile\u001b[0m\u001b[1;33m(\u001b[0m\u001b[0mio\u001b[0m\u001b[1;33m,\u001b[0m \u001b[0mstorage_options\u001b[0m\u001b[1;33m=\u001b[0m\u001b[0mstorage_options\u001b[0m\u001b[1;33m,\u001b[0m \u001b[0mengine\u001b[0m\u001b[1;33m=\u001b[0m\u001b[0mengine\u001b[0m\u001b[1;33m)\u001b[0m\u001b[1;33m\u001b[0m\u001b[1;33m\u001b[0m\u001b[0m\n\u001b[0m\u001b[0;32m    458\u001b[0m     \u001b[1;32melif\u001b[0m \u001b[0mengine\u001b[0m \u001b[1;32mand\u001b[0m \u001b[0mengine\u001b[0m \u001b[1;33m!=\u001b[0m \u001b[0mio\u001b[0m\u001b[1;33m.\u001b[0m\u001b[0mengine\u001b[0m\u001b[1;33m:\u001b[0m\u001b[1;33m\u001b[0m\u001b[1;33m\u001b[0m\u001b[0m\n\u001b[0;32m    459\u001b[0m         raise ValueError(\n",
      "\u001b[1;32m~\\anaconda3\\lib\\site-packages\\pandas\\io\\excel\\_base.py\u001b[0m in \u001b[0;36m__init__\u001b[1;34m(self, path_or_buffer, engine, storage_options)\u001b[0m\n\u001b[0;32m   1374\u001b[0m                 \u001b[0mext\u001b[0m \u001b[1;33m=\u001b[0m \u001b[1;34m\"xls\"\u001b[0m\u001b[1;33m\u001b[0m\u001b[1;33m\u001b[0m\u001b[0m\n\u001b[0;32m   1375\u001b[0m             \u001b[1;32melse\u001b[0m\u001b[1;33m:\u001b[0m\u001b[1;33m\u001b[0m\u001b[1;33m\u001b[0m\u001b[0m\n\u001b[1;32m-> 1376\u001b[1;33m                 ext = inspect_excel_format(\n\u001b[0m\u001b[0;32m   1377\u001b[0m                     \u001b[0mcontent_or_path\u001b[0m\u001b[1;33m=\u001b[0m\u001b[0mpath_or_buffer\u001b[0m\u001b[1;33m,\u001b[0m \u001b[0mstorage_options\u001b[0m\u001b[1;33m=\u001b[0m\u001b[0mstorage_options\u001b[0m\u001b[1;33m\u001b[0m\u001b[1;33m\u001b[0m\u001b[0m\n\u001b[0;32m   1378\u001b[0m                 )\n",
      "\u001b[1;32m~\\anaconda3\\lib\\site-packages\\pandas\\io\\excel\\_base.py\u001b[0m in \u001b[0;36minspect_excel_format\u001b[1;34m(content_or_path, storage_options)\u001b[0m\n\u001b[0;32m   1248\u001b[0m         \u001b[0mcontent_or_path\u001b[0m \u001b[1;33m=\u001b[0m \u001b[0mBytesIO\u001b[0m\u001b[1;33m(\u001b[0m\u001b[0mcontent_or_path\u001b[0m\u001b[1;33m)\u001b[0m\u001b[1;33m\u001b[0m\u001b[1;33m\u001b[0m\u001b[0m\n\u001b[0;32m   1249\u001b[0m \u001b[1;33m\u001b[0m\u001b[0m\n\u001b[1;32m-> 1250\u001b[1;33m     with get_handle(\n\u001b[0m\u001b[0;32m   1251\u001b[0m         \u001b[0mcontent_or_path\u001b[0m\u001b[1;33m,\u001b[0m \u001b[1;34m\"rb\"\u001b[0m\u001b[1;33m,\u001b[0m \u001b[0mstorage_options\u001b[0m\u001b[1;33m=\u001b[0m\u001b[0mstorage_options\u001b[0m\u001b[1;33m,\u001b[0m \u001b[0mis_text\u001b[0m\u001b[1;33m=\u001b[0m\u001b[1;32mFalse\u001b[0m\u001b[1;33m\u001b[0m\u001b[1;33m\u001b[0m\u001b[0m\n\u001b[0;32m   1252\u001b[0m     ) as handle:\n",
      "\u001b[1;32m~\\anaconda3\\lib\\site-packages\\pandas\\io\\common.py\u001b[0m in \u001b[0;36mget_handle\u001b[1;34m(path_or_buf, mode, encoding, compression, memory_map, is_text, errors, storage_options)\u001b[0m\n\u001b[0;32m    793\u001b[0m         \u001b[1;32melse\u001b[0m\u001b[1;33m:\u001b[0m\u001b[1;33m\u001b[0m\u001b[1;33m\u001b[0m\u001b[0m\n\u001b[0;32m    794\u001b[0m             \u001b[1;31m# Binary mode\u001b[0m\u001b[1;33m\u001b[0m\u001b[1;33m\u001b[0m\u001b[0m\n\u001b[1;32m--> 795\u001b[1;33m             \u001b[0mhandle\u001b[0m \u001b[1;33m=\u001b[0m \u001b[0mopen\u001b[0m\u001b[1;33m(\u001b[0m\u001b[0mhandle\u001b[0m\u001b[1;33m,\u001b[0m \u001b[0mioargs\u001b[0m\u001b[1;33m.\u001b[0m\u001b[0mmode\u001b[0m\u001b[1;33m)\u001b[0m\u001b[1;33m\u001b[0m\u001b[1;33m\u001b[0m\u001b[0m\n\u001b[0m\u001b[0;32m    796\u001b[0m         \u001b[0mhandles\u001b[0m\u001b[1;33m.\u001b[0m\u001b[0mappend\u001b[0m\u001b[1;33m(\u001b[0m\u001b[0mhandle\u001b[0m\u001b[1;33m)\u001b[0m\u001b[1;33m\u001b[0m\u001b[1;33m\u001b[0m\u001b[0m\n\u001b[0;32m    797\u001b[0m \u001b[1;33m\u001b[0m\u001b[0m\n",
      "\u001b[1;31mFileNotFoundError\u001b[0m: [Errno 2] No such file or directory: 'C:\\\\Users\\\\admin\\\\OneDrive\\\\甜啦啦\\\\代码底表\\\\直营名单.xlsx'"
     ]
    }
   ],
   "source": [
    "zhiying_df = pd.read_excel(zhiying,sheet_name=0,header = 0)\n",
    "dianpu_name = zhiying_df['店铺名称'].tolist()\n",
    "result_zhiying_huanbi_df = result_huanbi_df[(result_huanbi_df['店铺名称'].isin(dianpu_name))]\n",
    "#result_df = yuanshi_groupby.loc[zhangdanNo]"
   ]
  },
  {
   "cell_type": "code",
   "execution_count": null,
   "id": "6316dc3f",
   "metadata": {
    "scrolled": true
   },
   "outputs": [],
   "source": [
    "result_zhiying_huanbi_df.shape "
   ]
  },
  {
   "cell_type": "code",
   "execution_count": null,
   "id": "ab91f7bc",
   "metadata": {},
   "outputs": [],
   "source": [
    "result_zhiying_huanbi_df.to_excel('直营店同环比表_%s.xlsx'%now,merge_cells=False,sheet_name='环比表',index=False)"
   ]
  },
  {
   "cell_type": "code",
   "execution_count": null,
   "id": "2c870525",
   "metadata": {},
   "outputs": [],
   "source": [
    "tongbigeshi_df.shape "
   ]
  },
  {
   "cell_type": "markdown",
   "id": "50f0ddd9",
   "metadata": {},
   "source": [
    "同比表"
   ]
  },
  {
   "cell_type": "code",
   "execution_count": null,
   "id": "0a453922",
   "metadata": {},
   "outputs": [],
   "source": [
    "tongbi_df = pd.merge(tongbigeshi_df,benqishouying_df,left_on ='店铺名称',right_on ='店铺名称\\n本期', how='outer')\n",
    "tongbi_df.shape"
   ]
  },
  {
   "cell_type": "code",
   "execution_count": null,
   "id": "197e1e99",
   "metadata": {},
   "outputs": [],
   "source": [
    "tongbi_df = pd.merge(tongbi_df,tongbishouying_df,left_on ='店铺名称',right_on ='店铺名称\\n同比期', how='outer')\n",
    "tongbi_df.shape"
   ]
  },
  {
   "cell_type": "code",
   "execution_count": null,
   "id": "e84e4bd0",
   "metadata": {},
   "outputs": [],
   "source": [
    "tongbi_df.rename(columns={\n",
    "    '营业天数\\n本期_x': '营业天数\\n本期','营业天数\\n同比期_x': '营业天数\\n同比期',\n",
    "    '流水金额\\n本期_x': '流水金额\\n本期','流水金额\\n同比期_x': '流水金额\\n同比期',\n",
    "    '实收金额\\n本期_x': '实收金额\\n本期','实收金额\\n同比期_x': '实收金额\\n同比期',\n",
    "    '账单数\\n本期_x': '账单数\\n本期','账单数\\n同比期_x': '账单数\\n同比期',\n",
    "    '单均消费\\n本期_x': '单均消费\\n本期','单均消费\\n同比期_x': '单均消费\\n同比期',\n",
    "    '流水金额\\n增长%': '流水金额\\n同比',\n",
    "    '实收金额\\n增长%': '实收金额\\n同比',\n",
    "    '自提流水\\n增长%': '自提流水\\n同比',\n",
    "    '自提实收\\n本期_x': '自提实收\\n本期','自提实收\\n同比期_x': '自提实收\\n同比期',\n",
    "}, inplace=True)"
   ]
  },
  {
   "cell_type": "code",
   "execution_count": null,
   "id": "38ee4df3",
   "metadata": {},
   "outputs": [],
   "source": [
    "tongbi_df['营业天数\\n差额'] = tongbi_df['营业天数\\n本期'] -  tongbi_df['营业天数\\n同比期']\n",
    "tongbi_df['实收率\\n本期'] =tongbi_df['实收金额\\n本期']/ tongbi_df['流水金额\\n本期']\n",
    "tongbi_df['实收率\\n同比期'] =  tongbi_df['实收金额\\n同比期']/tongbi_df['流水金额\\n同比期']\n",
    "tongbi_df['实收率\\n差额'] = tongbi_df['实收率\\n本期'] -  tongbi_df['实收率\\n同比期']\n",
    "tongbi_df['账单数\\n差额'] = tongbi_df['账单数\\n本期'] -  tongbi_df['账单数\\n同比期']\n",
    "tongbi_df['单均消费\\n差额'] = tongbi_df['单均消费\\n本期'] -  tongbi_df['单均消费\\n同比期']\n",
    "tongbi_df['堂食流水\\n同比'] =( tongbi_df['堂食流水\\n本期'] -  tongbi_df['堂食流水\\n同比期'])/tongbi_df['堂食流水\\n同比期']\n",
    "tongbi_df['堂食实收\\n同比'] =( tongbi_df['堂食实收\\n本期'] -  tongbi_df['堂食实收\\n同比期'])/tongbi_df['堂食实收\\n同比期']\n",
    "tongbi_df['堂食实收率\\n本期'] =tongbi_df['堂食实收\\n本期']/ tongbi_df['堂食流水\\n本期']\n",
    "tongbi_df['堂食实收率\\n同比期'] =  tongbi_df['堂食实收\\n同比期']/tongbi_df['堂食流水\\n同比期']\n",
    "tongbi_df['堂食实收率\\n差额'] = tongbi_df['堂食实收率\\n本期'] -  tongbi_df['堂食实收率\\n同比期']\n",
    "tongbi_df['堂食单数\\n同比'] =( tongbi_df['堂食单数\\n本期'] -  tongbi_df['堂食单数\\n同比期'])/tongbi_df['堂食单数\\n同比期']\n",
    "tongbi_df['外卖流水\\n同比'] =( tongbi_df['外卖流水\\n本期'] -  tongbi_df['外卖流水\\n同比期'])/tongbi_df['外卖流水\\n同比期']\n",
    "tongbi_df['外卖实收\\n同比'] =( tongbi_df['外卖实收\\n本期'] -  tongbi_df['外卖实收\\n同比期'])/tongbi_df['外卖实收\\n同比期']\n",
    "tongbi_df['外卖实收率\\n本期'] =tongbi_df['外卖实收\\n本期']/ tongbi_df['外卖流水\\n本期']\n",
    "tongbi_df['外卖实收率\\n同比期'] =  tongbi_df['外卖实收\\n同比期']/tongbi_df['外卖流水\\n同比期']\n",
    "tongbi_df['外卖实收率\\n差额'] = tongbi_df['外卖实收率\\n本期'] -  tongbi_df['外卖实收率\\n同比期']\n",
    "tongbi_df['自提流水\\n同比'] =( tongbi_df['自提流水\\n本期'] -  tongbi_df['自提流水\\n同比期'])/tongbi_df['自提流水\\n同比期']\n",
    "tongbi_df['自提实收\\n同比'] =( tongbi_df['自提实收\\n本期'] -  tongbi_df['自提实收\\n同比期'])/tongbi_df['自提实收\\n同比期']\n",
    "tongbi_df['自提实收率\\n本期'] =tongbi_df['自提实收\\n本期']/ tongbi_df['自提流水\\n本期']\n",
    "tongbi_df['自提实收率\\n同比期'] =  tongbi_df['自提实收\\n同比期']/tongbi_df['自提流水\\n同比期']\n",
    "tongbi_df['自提实收率\\n差额'] = tongbi_df['自提实收率\\n本期'] -  tongbi_df['自提实收率\\n同比期']"
   ]
  },
  {
   "cell_type": "code",
   "execution_count": null,
   "id": "55376fb4",
   "metadata": {},
   "outputs": [],
   "source": [
    "col = ['店铺名称','营业天数\\n本期','营业天数\\n同比期','营业天数\\n差额',\n",
    "       '流水金额\\n本期','流水金额\\n同比期','流水金额\\n同比',\n",
    "       '实收金额\\n本期','实收金额\\n同比期','实收金额\\n同比','实收率\\n本期','实收率\\n同比期','实收率\\n差额',\n",
    "       '账单数\\n本期','账单数\\n同比期','账单数\\n差额',\n",
    "       '单均消费\\n本期','单均消费\\n同比期','单均消费\\n差额',\n",
    "       '堂食流水\\n本期','堂食流水\\n同比期','堂食流水\\n同比',\n",
    "       '堂食实收\\n本期','堂食实收\\n同比期','堂食实收\\n同比',\n",
    "       '堂食实收率\\n本期','堂食实收率\\n同比期','堂食实收率\\n差额','堂食单数\\n本期','堂食单数\\n同比期','堂食单数\\n同比',\n",
    "       '外卖流水\\n本期','外卖流水\\n同比期','外卖流水\\n同比','外卖实收\\n本期','外卖实收\\n同比期','外卖实收\\n同比',\n",
    "       '外卖实收率\\n本期','外卖实收率\\n同比期','外卖实收率\\n差额','自提流水\\n本期','自提流水\\n同比期','自提流水\\n同比',\n",
    "       '自提实收\\n本期','自提实收\\n同比期','自提实收\\n同比','自提实收率\\n本期','自提实收率\\n同比期','自提实收率\\n差额',\n",
    "       \n",
    "      ]"
   ]
  },
  {
   "cell_type": "code",
   "execution_count": null,
   "id": "873e3b3a",
   "metadata": {},
   "outputs": [],
   "source": [
    "tongbi_df.shape"
   ]
  },
  {
   "cell_type": "code",
   "execution_count": null,
   "id": "6ae9a602",
   "metadata": {},
   "outputs": [],
   "source": [
    "#设置value的显示长度为200，默认为50\n",
    "#pd.set_option('max_colwidth',200)\n",
    "#显示所有列，把行显示设置成最大\n",
    "pd.set_option('display.max_columns', None)\n",
    "#显示所有行，把列显示设置成最大\n",
    "#pd.set_option('display.max_rows', None)"
   ]
  },
  {
   "cell_type": "code",
   "execution_count": null,
   "id": "62196049",
   "metadata": {},
   "outputs": [],
   "source": [
    "result_tongbi_df = tongbi_df.reindex(columns=col)"
   ]
  },
  {
   "cell_type": "code",
   "execution_count": null,
   "id": "56f50c63",
   "metadata": {},
   "outputs": [],
   "source": [
    "result_tongbi_df.shape"
   ]
  },
  {
   "cell_type": "code",
   "execution_count": null,
   "id": "38218d71",
   "metadata": {},
   "outputs": [],
   "source": [
    "result_tongbi_df.head(1)"
   ]
  },
  {
   "cell_type": "code",
   "execution_count": null,
   "id": "f60eb87f",
   "metadata": {
    "scrolled": true
   },
   "outputs": [],
   "source": [
    "with pd.ExcelWriter('同环比表总表_%s.xlsx'%now, mode='a',engine=\"openpyxl\") as writer:\n",
    "    result_tongbi_df.to_excel(writer, sheet_name='同比表',index = False)"
   ]
  },
  {
   "cell_type": "code",
   "execution_count": null,
   "id": "1c15a56c",
   "metadata": {},
   "outputs": [],
   "source": [
    "result_tongbi_df.shape"
   ]
  },
  {
   "cell_type": "code",
   "execution_count": null,
   "id": "27448f1e",
   "metadata": {},
   "outputs": [],
   "source": [
    "#zhiying_df = pd.read_excel(zhiying,sheet_name=0,header = 0)\n",
    "dianpu_name = zhiying_df['店铺名称'].tolist()\n",
    "result_zhiying_tongbi_df = result_tongbi_df[(result_tongbi_df['店铺名称'].isin(dianpu_name))]"
   ]
  },
  {
   "cell_type": "code",
   "execution_count": null,
   "id": "6ce7075f",
   "metadata": {},
   "outputs": [],
   "source": [
    "result_zhiying_tongbi_df.shape "
   ]
  },
  {
   "cell_type": "code",
   "execution_count": null,
   "id": "468eb65b",
   "metadata": {},
   "outputs": [],
   "source": [
    "with pd.ExcelWriter('直营店同环比表_%s.xlsx'%now, mode='a',engine=\"openpyxl\") as writer:\n",
    "    result_zhiying_tongbi_df.to_excel(writer, sheet_name='同比表',index = False)"
   ]
  }
 ],
 "metadata": {
  "kernelspec": {
   "display_name": "Python 3 (ipykernel)",
   "language": "python",
   "name": "python3"
  },
  "language_info": {
   "codemirror_mode": {
    "name": "ipython",
    "version": 3
   },
   "file_extension": ".py",
   "mimetype": "text/x-python",
   "name": "python",
   "nbconvert_exporter": "python",
   "pygments_lexer": "ipython3",
   "version": "3.9.13"
  }
 },
 "nbformat": 4,
 "nbformat_minor": 5
}

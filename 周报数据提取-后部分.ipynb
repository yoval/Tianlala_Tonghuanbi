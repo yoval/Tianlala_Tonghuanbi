{
 "cells": [
  {
   "cell_type": "markdown",
   "id": "2512bc07",
   "metadata": {},
   "source": [
    "处理孙玉荻完成版 大区省区域经理分表输出.xlsx\n",
    "管理维度排行→16页起"
   ]
  },
  {
   "cell_type": "code",
   "execution_count": 1,
   "id": "3c772c7d",
   "metadata": {},
   "outputs": [],
   "source": [
    "import openpyxl"
   ]
  },
  {
   "cell_type": "code",
   "execution_count": 2,
   "id": "bddd633e",
   "metadata": {},
   "outputs": [],
   "source": [
    "filePath = r'C:\\Users\\admin\\OneDrive\\甜啦啦\\周月报\\2023年05月第1&2周\\大区省区域经理分表输出_2023-05-15_杨晨晋.xlsx'"
   ]
  },
  {
   "cell_type": "code",
   "execution_count": 3,
   "id": "6d9f7904",
   "metadata": {},
   "outputs": [
    {
     "name": "stdout",
     "output_type": "stream",
     "text": [
      "PPT page17\n",
      "本期共计产生销售店铺4266家，环比产生销售店铺数量4224家，环比增加店铺42家，环比增加0.99%\n",
      "环比共计销售留存店铺4191家，环比-0.78%，环比留存率99.22%\n",
      "本期共计产生销售店铺4266家，同比产生销售店铺数量3610家，同比增加店铺656家，同比18.17%\n",
      "同比共计销售留存店铺3140家，同比-13.02%，同比留存率86.98%\n"
     ]
    }
   ],
   "source": [
    "import sys\n",
    "class Logger(object):\n",
    "    def __init__(self, file_path: str = \"./Default.log\"):\n",
    "        self.terminal = sys.stdout\n",
    "        self.log = open(file_path, \"a\")\n",
    "    def write(self, message):\n",
    "        self.terminal.write(message)\n",
    "        self.log.write(message)\n",
    "    def flush(self):\n",
    "        pass\n",
    "\n",
    "sys.stdout = Logger(\"output.txt\")"
   ]
  },
  {
   "cell_type": "code",
   "execution_count": 4,
   "id": "0a22d248",
   "metadata": {},
   "outputs": [],
   "source": [
    "wb = openpyxl.load_workbook(filePath,data_only=True)\n",
    "ws = wb['大区经理排名']"
   ]
  },
  {
   "cell_type": "code",
   "execution_count": 5,
   "id": "c2d44231",
   "metadata": {},
   "outputs": [],
   "source": [
    "for cell in ws[\"V\"]:\n",
    "    # 如果单元格的值为“合计”\n",
    "    if cell.value == \"合计\":\n",
    "        # 获取同一行的 D 列的单元格\n",
    "        w_cell = ws.cell(row=cell.row, column=23).value  #本期全量店铺数\n",
    "        x_cell = ws.cell(row=cell.row, column=24).value #环比期全量店铺数\n",
    "        break\n",
    "huanbi = (w_cell - x_cell) /x_cell\n",
    "huanbi = \"{:.2%}\".format (huanbi)"
   ]
  },
  {
   "cell_type": "code",
   "execution_count": 6,
   "id": "6d7c9f1b",
   "metadata": {
    "scrolled": true
   },
   "outputs": [],
   "source": [
    "print('PPT page17')\n",
    "print('本期共计产生销售店铺%s家，环比产生销售店铺数量%s家，环比增加店铺%s家，环比增加%s'%(w_cell,x_cell,w_cell-x_cell,huanbi))"
   ]
  },
  {
   "cell_type": "code",
   "execution_count": 7,
   "id": "72dd28eb",
   "metadata": {},
   "outputs": [],
   "source": [
    "for cell in ws[\"V\"]:\n",
    "    # 如果单元格的值为“合计”\n",
    "    if cell.value == \"合计\":\n",
    "        # 获取同一行的 D 列的单元格\n",
    "        w_cell = ws.cell(row=cell.row, column=23).value \n",
    "huanbi = (w_cell - x_cell) /x_cell\n",
    "huanbi_2 = \"{:.2%}\".format(1+huanbi)\n",
    "huanbi = \"{:.2%}\".format(huanbi)"
   ]
  },
  {
   "cell_type": "code",
   "execution_count": 8,
   "id": "00c8a66b",
   "metadata": {},
   "outputs": [],
   "source": [
    "print('环比共计销售留存店铺%s家，环比%s，环比留存率%s'%(w_cell,huanbi,huanbi_2))"
   ]
  },
  {
   "cell_type": "code",
   "execution_count": 9,
   "id": "bb7a2db7",
   "metadata": {},
   "outputs": [],
   "source": [
    "for cell in ws[\"C\"]:\n",
    "    # 如果单元格的值为“合计”\n",
    "    if cell.value == \"合计\":\n",
    "        # 获取同一行的 D 列的单元格\n",
    "        w_cell = ws.cell(row=cell.row, column=4).value  #本期全量店铺数\n",
    "        x_cell = ws.cell(row=cell.row, column=5).value #同比期全量店铺数\n",
    "        break\n",
    "tongbi = (w_cell - x_cell)/x_cell\n",
    "tongbi = \"{:.2%}\".format(tongbi)"
   ]
  },
  {
   "cell_type": "code",
   "execution_count": 10,
   "id": "df525e85",
   "metadata": {},
   "outputs": [],
   "source": [
    "print('本期共计产生销售店铺%s家，同比产生销售店铺数量%s家，同比增加店铺%s家，同比%s'%(w_cell,x_cell,w_cell-x_cell,tongbi))"
   ]
  },
  {
   "cell_type": "code",
   "execution_count": 11,
   "id": "6e149ac0",
   "metadata": {},
   "outputs": [],
   "source": [
    "for cell in ws[\"C\"]:\n",
    "    # 如果单元格的值为“合计”\n",
    "    if cell.value == \"合计\":\n",
    "        # 获取同一行的 D 列的单元格\n",
    "        w_cell = ws.cell(row=cell.row, column=4).value \n",
    "tongbi = (w_cell - x_cell) /x_cell\n",
    "tongbi_2 = \"{:.2%}\".format(1+tongbi)\n",
    "tongbi = \"{:.2%}\".format(tongbi)"
   ]
  },
  {
   "cell_type": "code",
   "execution_count": 12,
   "id": "268a898e",
   "metadata": {
    "scrolled": true
   },
   "outputs": [],
   "source": [
    "print('同比共计销售留存店铺%s家，同比%s，同比留存率%s'%(w_cell,tongbi,tongbi_2))"
   ]
  },
  {
   "cell_type": "code",
   "execution_count": null,
   "id": "b93592f3",
   "metadata": {},
   "outputs": [],
   "source": []
  }
 ],
 "metadata": {
  "kernelspec": {
   "display_name": "Python 3 (ipykernel)",
   "language": "python",
   "name": "python3"
  },
  "language_info": {
   "codemirror_mode": {
    "name": "ipython",
    "version": 3
   },
   "file_extension": ".py",
   "mimetype": "text/x-python",
   "name": "python",
   "nbconvert_exporter": "python",
   "pygments_lexer": "ipython3",
   "version": "3.9.13"
  }
 },
 "nbformat": 4,
 "nbformat_minor": 5
}
